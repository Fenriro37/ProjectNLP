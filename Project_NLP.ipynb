{
  "metadata": {
    "colab": {
      "provenance": [],
      "gpuType": "T4"
    },
    "kaggle": {
      "accelerator": "nvidiaTeslaT4",
      "dataSources": [
        {
          "sourceId": 7435709,
          "sourceType": "datasetVersion",
          "datasetId": 4327472
        },
        {
          "sourceId": 7562301,
          "sourceType": "datasetVersion",
          "datasetId": 4403347
        },
        {
          "sourceId": 7571998,
          "sourceType": "datasetVersion",
          "datasetId": 4408101
        }
      ],
      "dockerImageVersionId": 30648,
      "isInternetEnabled": true,
      "language": "python",
      "sourceType": "notebook",
      "isGpuEnabled": true
    },
    "kernelspec": {
      "name": "python3",
      "display_name": "Python 3",
      "language": "python"
    },
    "language_info": {
      "name": "python",
      "version": "3.10.13",
      "mimetype": "text/x-python",
      "codemirror_mode": {
        "name": "ipython",
        "version": 3
      },
      "pygments_lexer": "ipython3",
      "nbconvert_exporter": "python",
      "file_extension": ".py"
    },
    "accelerator": "GPU"
  },
  "nbformat_minor": 0,
  "nbformat": 4,
  "cells": [
    {
      "cell_type": "markdown",
      "source": [
        "Necessary installs"
      ],
      "metadata": {
        "id": "aohhR4oJDZ2_"
      }
    },
    {
      "cell_type": "code",
      "source": [
        "#!pip install torch==1.13.0+cu116 --extra-index-url https://download.pytorch.org/whl/cu116\n",
        "!pip install transformers==4.30.0\n",
        "!pip install datasets==2.13.2\n",
        "!pip install accelerate -U\n",
        "!pip install evaluate"
      ],
      "metadata": {
        "id": "vc-YdlGVyh9_",
        "execution": {
          "iopub.status.busy": "2024-02-14T14:40:16.432142Z",
          "iopub.execute_input": "2024-02-14T14:40:16.433174Z",
          "iopub.status.idle": "2024-02-14T14:41:26.599473Z",
          "shell.execute_reply.started": "2024-02-14T14:40:16.433133Z",
          "shell.execute_reply": "2024-02-14T14:41:26.598274Z"
        },
        "collapsed": true,
        "jupyter": {
          "outputs_hidden": true
        },
        "trusted": true,
        "colab": {
          "base_uri": "https://localhost:8080/"
        },
        "outputId": "03b100b6-1164-46fa-b0c9-419f7d4dcd50"
      },
      "execution_count": null,
      "outputs": [
        {
          "output_type": "stream",
          "name": "stdout",
          "text": [
            "Collecting transformers==4.30.0\n",
            "  Downloading transformers-4.30.0-py3-none-any.whl (7.2 MB)\n",
            "\u001b[2K     \u001b[90m━━━━━━━━━━━━━━━━━━━━━━━━━━━━━━━━━━━━━━━━\u001b[0m \u001b[32m7.2/7.2 MB\u001b[0m \u001b[31m16.8 MB/s\u001b[0m eta \u001b[36m0:00:00\u001b[0m\n",
            "\u001b[?25hRequirement already satisfied: filelock in /usr/local/lib/python3.10/dist-packages (from transformers==4.30.0) (3.13.1)\n",
            "Requirement already satisfied: huggingface-hub<1.0,>=0.14.1 in /usr/local/lib/python3.10/dist-packages (from transformers==4.30.0) (0.20.3)\n",
            "Requirement already satisfied: numpy>=1.17 in /usr/local/lib/python3.10/dist-packages (from transformers==4.30.0) (1.25.2)\n",
            "Requirement already satisfied: packaging>=20.0 in /usr/local/lib/python3.10/dist-packages (from transformers==4.30.0) (23.2)\n",
            "Requirement already satisfied: pyyaml>=5.1 in /usr/local/lib/python3.10/dist-packages (from transformers==4.30.0) (6.0.1)\n",
            "Requirement already satisfied: regex!=2019.12.17 in /usr/local/lib/python3.10/dist-packages (from transformers==4.30.0) (2023.12.25)\n",
            "Requirement already satisfied: requests in /usr/local/lib/python3.10/dist-packages (from transformers==4.30.0) (2.31.0)\n",
            "Collecting tokenizers!=0.11.3,<0.14,>=0.11.1 (from transformers==4.30.0)\n",
            "  Downloading tokenizers-0.13.3-cp310-cp310-manylinux_2_17_x86_64.manylinux2014_x86_64.whl (7.8 MB)\n",
            "\u001b[2K     \u001b[90m━━━━━━━━━━━━━━━━━━━━━━━━━━━━━━━━━━━━━━━━\u001b[0m \u001b[32m7.8/7.8 MB\u001b[0m \u001b[31m18.9 MB/s\u001b[0m eta \u001b[36m0:00:00\u001b[0m\n",
            "\u001b[?25hRequirement already satisfied: safetensors>=0.3.1 in /usr/local/lib/python3.10/dist-packages (from transformers==4.30.0) (0.4.2)\n",
            "Requirement already satisfied: tqdm>=4.27 in /usr/local/lib/python3.10/dist-packages (from transformers==4.30.0) (4.66.1)\n",
            "Requirement already satisfied: fsspec>=2023.5.0 in /usr/local/lib/python3.10/dist-packages (from huggingface-hub<1.0,>=0.14.1->transformers==4.30.0) (2023.6.0)\n",
            "Requirement already satisfied: typing-extensions>=3.7.4.3 in /usr/local/lib/python3.10/dist-packages (from huggingface-hub<1.0,>=0.14.1->transformers==4.30.0) (4.9.0)\n",
            "Requirement already satisfied: charset-normalizer<4,>=2 in /usr/local/lib/python3.10/dist-packages (from requests->transformers==4.30.0) (3.3.2)\n",
            "Requirement already satisfied: idna<4,>=2.5 in /usr/local/lib/python3.10/dist-packages (from requests->transformers==4.30.0) (3.6)\n",
            "Requirement already satisfied: urllib3<3,>=1.21.1 in /usr/local/lib/python3.10/dist-packages (from requests->transformers==4.30.0) (2.0.7)\n",
            "Requirement already satisfied: certifi>=2017.4.17 in /usr/local/lib/python3.10/dist-packages (from requests->transformers==4.30.0) (2024.2.2)\n",
            "Installing collected packages: tokenizers, transformers\n",
            "  Attempting uninstall: tokenizers\n",
            "    Found existing installation: tokenizers 0.15.1\n",
            "    Uninstalling tokenizers-0.15.1:\n",
            "      Successfully uninstalled tokenizers-0.15.1\n",
            "  Attempting uninstall: transformers\n",
            "    Found existing installation: transformers 4.35.2\n",
            "    Uninstalling transformers-4.35.2:\n",
            "      Successfully uninstalled transformers-4.35.2\n",
            "Successfully installed tokenizers-0.13.3 transformers-4.30.0\n",
            "Collecting datasets==2.13.2\n",
            "  Downloading datasets-2.13.2-py3-none-any.whl (512 kB)\n",
            "\u001b[2K     \u001b[90m━━━━━━━━━━━━━━━━━━━━━━━━━━━━━━━━━━━━━━━━\u001b[0m \u001b[32m512.7/512.7 kB\u001b[0m \u001b[31m2.5 MB/s\u001b[0m eta \u001b[36m0:00:00\u001b[0m\n",
            "\u001b[?25hRequirement already satisfied: numpy>=1.17 in /usr/local/lib/python3.10/dist-packages (from datasets==2.13.2) (1.25.2)\n",
            "Requirement already satisfied: pyarrow>=8.0.0 in /usr/local/lib/python3.10/dist-packages (from datasets==2.13.2) (10.0.1)\n",
            "Collecting dill<0.3.7,>=0.3.0 (from datasets==2.13.2)\n",
            "  Downloading dill-0.3.6-py3-none-any.whl (110 kB)\n",
            "\u001b[2K     \u001b[90m━━━━━━━━━━━━━━━━━━━━━━━━━━━━━━━━━━━━━━━━\u001b[0m \u001b[32m110.5/110.5 kB\u001b[0m \u001b[31m14.2 MB/s\u001b[0m eta \u001b[36m0:00:00\u001b[0m\n",
            "\u001b[?25hRequirement already satisfied: pandas in /usr/local/lib/python3.10/dist-packages (from datasets==2.13.2) (1.5.3)\n",
            "Requirement already satisfied: requests>=2.19.0 in /usr/local/lib/python3.10/dist-packages (from datasets==2.13.2) (2.31.0)\n",
            "Requirement already satisfied: tqdm>=4.62.1 in /usr/local/lib/python3.10/dist-packages (from datasets==2.13.2) (4.66.1)\n",
            "Requirement already satisfied: xxhash in /usr/local/lib/python3.10/dist-packages (from datasets==2.13.2) (3.4.1)\n",
            "Collecting multiprocess (from datasets==2.13.2)\n",
            "  Downloading multiprocess-0.70.16-py310-none-any.whl (134 kB)\n",
            "\u001b[2K     \u001b[90m━━━━━━━━━━━━━━━━━━━━━━━━━━━━━━━━━━━━━━━━\u001b[0m \u001b[32m134.8/134.8 kB\u001b[0m \u001b[31m18.5 MB/s\u001b[0m eta \u001b[36m0:00:00\u001b[0m\n",
            "\u001b[?25hRequirement already satisfied: fsspec[http]>=2021.11.1 in /usr/local/lib/python3.10/dist-packages (from datasets==2.13.2) (2023.6.0)\n",
            "Requirement already satisfied: aiohttp in /usr/local/lib/python3.10/dist-packages (from datasets==2.13.2) (3.9.3)\n",
            "Requirement already satisfied: huggingface-hub<1.0.0,>=0.11.0 in /usr/local/lib/python3.10/dist-packages (from datasets==2.13.2) (0.20.3)\n",
            "Requirement already satisfied: packaging in /usr/local/lib/python3.10/dist-packages (from datasets==2.13.2) (23.2)\n",
            "Requirement already satisfied: pyyaml>=5.1 in /usr/local/lib/python3.10/dist-packages (from datasets==2.13.2) (6.0.1)\n",
            "Requirement already satisfied: aiosignal>=1.1.2 in /usr/local/lib/python3.10/dist-packages (from aiohttp->datasets==2.13.2) (1.3.1)\n",
            "Requirement already satisfied: attrs>=17.3.0 in /usr/local/lib/python3.10/dist-packages (from aiohttp->datasets==2.13.2) (23.2.0)\n",
            "Requirement already satisfied: frozenlist>=1.1.1 in /usr/local/lib/python3.10/dist-packages (from aiohttp->datasets==2.13.2) (1.4.1)\n",
            "Requirement already satisfied: multidict<7.0,>=4.5 in /usr/local/lib/python3.10/dist-packages (from aiohttp->datasets==2.13.2) (6.0.5)\n",
            "Requirement already satisfied: yarl<2.0,>=1.0 in /usr/local/lib/python3.10/dist-packages (from aiohttp->datasets==2.13.2) (1.9.4)\n",
            "Requirement already satisfied: async-timeout<5.0,>=4.0 in /usr/local/lib/python3.10/dist-packages (from aiohttp->datasets==2.13.2) (4.0.3)\n",
            "Requirement already satisfied: filelock in /usr/local/lib/python3.10/dist-packages (from huggingface-hub<1.0.0,>=0.11.0->datasets==2.13.2) (3.13.1)\n",
            "Requirement already satisfied: typing-extensions>=3.7.4.3 in /usr/local/lib/python3.10/dist-packages (from huggingface-hub<1.0.0,>=0.11.0->datasets==2.13.2) (4.9.0)\n",
            "Requirement already satisfied: charset-normalizer<4,>=2 in /usr/local/lib/python3.10/dist-packages (from requests>=2.19.0->datasets==2.13.2) (3.3.2)\n",
            "Requirement already satisfied: idna<4,>=2.5 in /usr/local/lib/python3.10/dist-packages (from requests>=2.19.0->datasets==2.13.2) (3.6)\n",
            "Requirement already satisfied: urllib3<3,>=1.21.1 in /usr/local/lib/python3.10/dist-packages (from requests>=2.19.0->datasets==2.13.2) (2.0.7)\n",
            "Requirement already satisfied: certifi>=2017.4.17 in /usr/local/lib/python3.10/dist-packages (from requests>=2.19.0->datasets==2.13.2) (2024.2.2)\n",
            "INFO: pip is looking at multiple versions of multiprocess to determine which version is compatible with other requirements. This could take a while.\n",
            "  Downloading multiprocess-0.70.15-py310-none-any.whl (134 kB)\n",
            "\u001b[2K     \u001b[90m━━━━━━━━━━━━━━━━━━━━━━━━━━━━━━━━━━━━━━━━\u001b[0m \u001b[32m134.8/134.8 kB\u001b[0m \u001b[31m15.6 MB/s\u001b[0m eta \u001b[36m0:00:00\u001b[0m\n",
            "\u001b[?25h  Downloading multiprocess-0.70.14-py310-none-any.whl (134 kB)\n",
            "\u001b[2K     \u001b[90m━━━━━━━━━━━━━━━━━━━━━━━━━━━━━━━━━━━━━━━━\u001b[0m \u001b[32m134.3/134.3 kB\u001b[0m \u001b[31m14.3 MB/s\u001b[0m eta \u001b[36m0:00:00\u001b[0m\n",
            "\u001b[?25hRequirement already satisfied: python-dateutil>=2.8.1 in /usr/local/lib/python3.10/dist-packages (from pandas->datasets==2.13.2) (2.8.2)\n",
            "Requirement already satisfied: pytz>=2020.1 in /usr/local/lib/python3.10/dist-packages (from pandas->datasets==2.13.2) (2023.4)\n",
            "Requirement already satisfied: six>=1.5 in /usr/local/lib/python3.10/dist-packages (from python-dateutil>=2.8.1->pandas->datasets==2.13.2) (1.16.0)\n",
            "Installing collected packages: dill, multiprocess, datasets\n",
            "Successfully installed datasets-2.13.2 dill-0.3.6 multiprocess-0.70.14\n",
            "Collecting accelerate\n",
            "  Downloading accelerate-0.27.2-py3-none-any.whl (279 kB)\n",
            "\u001b[2K     \u001b[90m━━━━━━━━━━━━━━━━━━━━━━━━━━━━━━━━━━━━━━━━\u001b[0m \u001b[32m280.0/280.0 kB\u001b[0m \u001b[31m2.3 MB/s\u001b[0m eta \u001b[36m0:00:00\u001b[0m\n",
            "\u001b[?25hRequirement already satisfied: numpy>=1.17 in /usr/local/lib/python3.10/dist-packages (from accelerate) (1.25.2)\n",
            "Requirement already satisfied: packaging>=20.0 in /usr/local/lib/python3.10/dist-packages (from accelerate) (23.2)\n",
            "Requirement already satisfied: psutil in /usr/local/lib/python3.10/dist-packages (from accelerate) (5.9.5)\n",
            "Requirement already satisfied: pyyaml in /usr/local/lib/python3.10/dist-packages (from accelerate) (6.0.1)\n",
            "Requirement already satisfied: torch>=1.10.0 in /usr/local/lib/python3.10/dist-packages (from accelerate) (2.1.0+cu121)\n",
            "Requirement already satisfied: huggingface-hub in /usr/local/lib/python3.10/dist-packages (from accelerate) (0.20.3)\n",
            "Requirement already satisfied: safetensors>=0.3.1 in /usr/local/lib/python3.10/dist-packages (from accelerate) (0.4.2)\n",
            "Requirement already satisfied: filelock in /usr/local/lib/python3.10/dist-packages (from torch>=1.10.0->accelerate) (3.13.1)\n",
            "Requirement already satisfied: typing-extensions in /usr/local/lib/python3.10/dist-packages (from torch>=1.10.0->accelerate) (4.9.0)\n",
            "Requirement already satisfied: sympy in /usr/local/lib/python3.10/dist-packages (from torch>=1.10.0->accelerate) (1.12)\n",
            "Requirement already satisfied: networkx in /usr/local/lib/python3.10/dist-packages (from torch>=1.10.0->accelerate) (3.2.1)\n",
            "Requirement already satisfied: jinja2 in /usr/local/lib/python3.10/dist-packages (from torch>=1.10.0->accelerate) (3.1.3)\n",
            "Requirement already satisfied: fsspec in /usr/local/lib/python3.10/dist-packages (from torch>=1.10.0->accelerate) (2023.6.0)\n",
            "Requirement already satisfied: triton==2.1.0 in /usr/local/lib/python3.10/dist-packages (from torch>=1.10.0->accelerate) (2.1.0)\n",
            "Requirement already satisfied: requests in /usr/local/lib/python3.10/dist-packages (from huggingface-hub->accelerate) (2.31.0)\n",
            "Requirement already satisfied: tqdm>=4.42.1 in /usr/local/lib/python3.10/dist-packages (from huggingface-hub->accelerate) (4.66.1)\n",
            "Requirement already satisfied: MarkupSafe>=2.0 in /usr/local/lib/python3.10/dist-packages (from jinja2->torch>=1.10.0->accelerate) (2.1.5)\n",
            "Requirement already satisfied: charset-normalizer<4,>=2 in /usr/local/lib/python3.10/dist-packages (from requests->huggingface-hub->accelerate) (3.3.2)\n",
            "Requirement already satisfied: idna<4,>=2.5 in /usr/local/lib/python3.10/dist-packages (from requests->huggingface-hub->accelerate) (3.6)\n",
            "Requirement already satisfied: urllib3<3,>=1.21.1 in /usr/local/lib/python3.10/dist-packages (from requests->huggingface-hub->accelerate) (2.0.7)\n",
            "Requirement already satisfied: certifi>=2017.4.17 in /usr/local/lib/python3.10/dist-packages (from requests->huggingface-hub->accelerate) (2024.2.2)\n",
            "Requirement already satisfied: mpmath>=0.19 in /usr/local/lib/python3.10/dist-packages (from sympy->torch>=1.10.0->accelerate) (1.3.0)\n",
            "Installing collected packages: accelerate\n",
            "Successfully installed accelerate-0.27.2\n",
            "Collecting evaluate\n",
            "  Downloading evaluate-0.4.1-py3-none-any.whl (84 kB)\n",
            "\u001b[2K     \u001b[90m━━━━━━━━━━━━━━━━━━━━━━━━━━━━━━━━━━━━━━━━\u001b[0m \u001b[32m84.1/84.1 kB\u001b[0m \u001b[31m1.2 MB/s\u001b[0m eta \u001b[36m0:00:00\u001b[0m\n",
            "\u001b[?25hRequirement already satisfied: datasets>=2.0.0 in /usr/local/lib/python3.10/dist-packages (from evaluate) (2.13.2)\n",
            "Requirement already satisfied: numpy>=1.17 in /usr/local/lib/python3.10/dist-packages (from evaluate) (1.25.2)\n",
            "Requirement already satisfied: dill in /usr/local/lib/python3.10/dist-packages (from evaluate) (0.3.6)\n",
            "Requirement already satisfied: pandas in /usr/local/lib/python3.10/dist-packages (from evaluate) (1.5.3)\n",
            "Requirement already satisfied: requests>=2.19.0 in /usr/local/lib/python3.10/dist-packages (from evaluate) (2.31.0)\n",
            "Requirement already satisfied: tqdm>=4.62.1 in /usr/local/lib/python3.10/dist-packages (from evaluate) (4.66.1)\n",
            "Requirement already satisfied: xxhash in /usr/local/lib/python3.10/dist-packages (from evaluate) (3.4.1)\n",
            "Requirement already satisfied: multiprocess in /usr/local/lib/python3.10/dist-packages (from evaluate) (0.70.14)\n",
            "Requirement already satisfied: fsspec[http]>=2021.05.0 in /usr/local/lib/python3.10/dist-packages (from evaluate) (2023.6.0)\n",
            "Requirement already satisfied: huggingface-hub>=0.7.0 in /usr/local/lib/python3.10/dist-packages (from evaluate) (0.20.3)\n",
            "Requirement already satisfied: packaging in /usr/local/lib/python3.10/dist-packages (from evaluate) (23.2)\n",
            "Collecting responses<0.19 (from evaluate)\n",
            "  Downloading responses-0.18.0-py3-none-any.whl (38 kB)\n",
            "Requirement already satisfied: pyarrow>=8.0.0 in /usr/local/lib/python3.10/dist-packages (from datasets>=2.0.0->evaluate) (10.0.1)\n",
            "Requirement already satisfied: aiohttp in /usr/local/lib/python3.10/dist-packages (from datasets>=2.0.0->evaluate) (3.9.3)\n",
            "Requirement already satisfied: pyyaml>=5.1 in /usr/local/lib/python3.10/dist-packages (from datasets>=2.0.0->evaluate) (6.0.1)\n",
            "Requirement already satisfied: filelock in /usr/local/lib/python3.10/dist-packages (from huggingface-hub>=0.7.0->evaluate) (3.13.1)\n",
            "Requirement already satisfied: typing-extensions>=3.7.4.3 in /usr/local/lib/python3.10/dist-packages (from huggingface-hub>=0.7.0->evaluate) (4.9.0)\n",
            "Requirement already satisfied: charset-normalizer<4,>=2 in /usr/local/lib/python3.10/dist-packages (from requests>=2.19.0->evaluate) (3.3.2)\n",
            "Requirement already satisfied: idna<4,>=2.5 in /usr/local/lib/python3.10/dist-packages (from requests>=2.19.0->evaluate) (3.6)\n",
            "Requirement already satisfied: urllib3<3,>=1.21.1 in /usr/local/lib/python3.10/dist-packages (from requests>=2.19.0->evaluate) (2.0.7)\n",
            "Requirement already satisfied: certifi>=2017.4.17 in /usr/local/lib/python3.10/dist-packages (from requests>=2.19.0->evaluate) (2024.2.2)\n",
            "Requirement already satisfied: python-dateutil>=2.8.1 in /usr/local/lib/python3.10/dist-packages (from pandas->evaluate) (2.8.2)\n",
            "Requirement already satisfied: pytz>=2020.1 in /usr/local/lib/python3.10/dist-packages (from pandas->evaluate) (2023.4)\n",
            "Requirement already satisfied: aiosignal>=1.1.2 in /usr/local/lib/python3.10/dist-packages (from aiohttp->datasets>=2.0.0->evaluate) (1.3.1)\n",
            "Requirement already satisfied: attrs>=17.3.0 in /usr/local/lib/python3.10/dist-packages (from aiohttp->datasets>=2.0.0->evaluate) (23.2.0)\n",
            "Requirement already satisfied: frozenlist>=1.1.1 in /usr/local/lib/python3.10/dist-packages (from aiohttp->datasets>=2.0.0->evaluate) (1.4.1)\n",
            "Requirement already satisfied: multidict<7.0,>=4.5 in /usr/local/lib/python3.10/dist-packages (from aiohttp->datasets>=2.0.0->evaluate) (6.0.5)\n",
            "Requirement already satisfied: yarl<2.0,>=1.0 in /usr/local/lib/python3.10/dist-packages (from aiohttp->datasets>=2.0.0->evaluate) (1.9.4)\n",
            "Requirement already satisfied: async-timeout<5.0,>=4.0 in /usr/local/lib/python3.10/dist-packages (from aiohttp->datasets>=2.0.0->evaluate) (4.0.3)\n",
            "Requirement already satisfied: six>=1.5 in /usr/local/lib/python3.10/dist-packages (from python-dateutil>=2.8.1->pandas->evaluate) (1.16.0)\n",
            "Installing collected packages: responses, evaluate\n",
            "Successfully installed evaluate-0.4.1 responses-0.18.0\n"
          ]
        }
      ]
    },
    {
      "cell_type": "code",
      "source": [
        "# system packages\n",
        "from pathlib import Path\n",
        "import shutil\n",
        "import urllib\n",
        "import tarfile\n",
        "import sys\n",
        "import os\n",
        "# data and numerical management packages\n",
        "import pandas as pd\n",
        "import random\n",
        "import numpy as np\n",
        "import matplotlib.pyplot as plt\n",
        "\n",
        "import torch\n",
        "from torch.utils.data import DataLoader, Dataset\n",
        "from torch.nn.utils.rnn import pad_sequence\n",
        "from torch.nn.utils.rnn import pad_sequence\n",
        "\n",
        "# useful during debugging (progress bars)\n",
        "from tqdm import tqdm\n",
        "from sklearn.preprocessing import LabelBinarizer\n",
        "from sklearn.model_selection import train_test_split\n",
        "from sklearn.metrics import f1_score, precision_score, recall_score, confusion_matrix, ConfusionMatrixDisplay, precision_recall_curve\n",
        "\n",
        "from transformers import set_seed\n",
        "from transformers import AutoModelForSequenceClassification, RobertaModel\n",
        "from transformers import TFAutoModelForSequenceClassification\n",
        "from transformers import AutoTokenizer, AutoConfig\n",
        "from transformers import BertTokenizer, BertModel, AdamW, Trainer, TrainingArguments\n",
        "\n",
        "\n",
        "import warnings\n",
        "warnings.filterwarnings('ignore')\n",
        "\n",
        "seed = 777\n",
        "torch.manual_seed(seed)\n",
        "random.seed(seed)\n",
        "np.random.seed(seed)\n",
        "set_seed(seed)\n",
        "\n",
        "# Set seed for PyTorch on GPU (if available)\n",
        "if torch.cuda.is_available():\n",
        "    torch.cuda.manual_seed(seed)"
      ],
      "metadata": {
        "id": "pD7fWLEPyh-B",
        "execution": {
          "iopub.status.busy": "2024-02-14T14:41:26.601625Z",
          "iopub.execute_input": "2024-02-14T14:41:26.601981Z",
          "iopub.status.idle": "2024-02-14T14:41:50.516791Z",
          "shell.execute_reply.started": "2024-02-14T14:41:26.601943Z",
          "shell.execute_reply": "2024-02-14T14:41:50.515893Z"
        },
        "trusted": true
      },
      "execution_count": null,
      "outputs": []
    },
    {
      "cell_type": "code",
      "source": [
        "# Load the data\n",
        "dataset_folder = Path.cwd().joinpath('MELD_train_efr.json')\n",
        "df = pd.read_json(dataset_folder)"
      ],
      "metadata": {
        "id": "6Vnl6q1Qyh-C",
        "execution": {
          "iopub.status.busy": "2024-02-14T14:41:50.518147Z",
          "iopub.execute_input": "2024-02-14T14:41:50.518813Z",
          "iopub.status.idle": "2024-02-14T14:41:50.693292Z",
          "shell.execute_reply.started": "2024-02-14T14:41:50.518783Z",
          "shell.execute_reply": "2024-02-14T14:41:50.692360Z"
        },
        "trusted": true
      },
      "execution_count": null,
      "outputs": []
    },
    {
      "cell_type": "code",
      "source": [
        "df"
      ],
      "metadata": {
        "id": "oq9_ohFH3yeX",
        "colab": {
          "base_uri": "https://localhost:8080/",
          "height": 770
        },
        "outputId": "c833e9c8-fc68-41ce-e0de-487500fc3bb6",
        "execution": {
          "iopub.status.busy": "2024-02-14T14:41:50.696075Z",
          "iopub.execute_input": "2024-02-14T14:41:50.696510Z",
          "iopub.status.idle": "2024-02-14T14:41:50.740562Z",
          "shell.execute_reply.started": "2024-02-14T14:41:50.696473Z",
          "shell.execute_reply": "2024-02-14T14:41:50.739589Z"
        },
        "trusted": true
      },
      "execution_count": null,
      "outputs": [
        {
          "output_type": "execute_result",
          "data": {
            "text/plain": [
              "             episode                                           speakers  \\\n",
              "0        utterance_0  [Chandler, The Interviewer, Chandler, The Inte...   \n",
              "1        utterance_1  [Chandler, The Interviewer, Chandler, The Inte...   \n",
              "2        utterance_2  [Chandler, The Interviewer, Chandler, The Inte...   \n",
              "3        utterance_3  [Chandler, The Interviewer, Chandler, The Inte...   \n",
              "4        utterance_4                       [Joey, Rachel, Joey, Rachel]   \n",
              "...              ...                                                ...   \n",
              "3995  utterance_3995  [Chandler, All, Monica, Chandler, Ross, Chandl...   \n",
              "3996  utterance_3996  [Chandler, All, Monica, Chandler, Ross, Chandl...   \n",
              "3997  utterance_3997  [Chandler, All, Monica, Chandler, Ross, Chandl...   \n",
              "3998  utterance_3998  [Chandler, All, Monica, Chandler, Ross, Chandl...   \n",
              "3999  utterance_3999  [Chandler, All, Monica, Chandler, Ross, Chandl...   \n",
              "\n",
              "                                               emotions  \\\n",
              "0        [neutral, neutral, neutral, neutral, surprise]   \n",
              "1     [neutral, neutral, neutral, neutral, surprise,...   \n",
              "2     [neutral, neutral, neutral, neutral, surprise,...   \n",
              "3     [neutral, neutral, neutral, neutral, surprise,...   \n",
              "4                   [surprise, sadness, surprise, fear]   \n",
              "...                                                 ...   \n",
              "3995  [neutral, joy, neutral, neutral, surprise, dis...   \n",
              "3996  [neutral, joy, neutral, neutral, surprise, dis...   \n",
              "3997  [neutral, joy, neutral, neutral, surprise, dis...   \n",
              "3998  [neutral, joy, neutral, neutral, surprise, dis...   \n",
              "3999  [neutral, joy, neutral, neutral, surprise, dis...   \n",
              "\n",
              "                                             utterances  \\\n",
              "0     [also I was the point person on my company's t...   \n",
              "1     [also I was the point person on my company's t...   \n",
              "2     [also I was the point person on my company's t...   \n",
              "3     [also I was the point person on my company's t...   \n",
              "4     [But then who? The waitress I went out with la...   \n",
              "...                                                 ...   \n",
              "3995  [Hey., Hey!, So how was Joan?, I broke up with...   \n",
              "3996  [Hey., Hey!, So how was Joan?, I broke up with...   \n",
              "3997  [Hey., Hey!, So how was Joan?, I broke up with...   \n",
              "3998  [Hey., Hey!, So how was Joan?, I broke up with...   \n",
              "3999  [Hey., Hey!, So how was Joan?, I broke up with...   \n",
              "\n",
              "                                               triggers  \n",
              "0                             [0.0, 0.0, 0.0, 1.0, 0.0]  \n",
              "1                   [0.0, 0.0, 0.0, 0.0, 0.0, 1.0, 0.0]  \n",
              "2     [0.0, 0.0, 0.0, 0.0, 0.0, 0.0, 0.0, 1.0, 0.0, ...  \n",
              "3     [0.0, 0.0, 0.0, 0.0, 0.0, 0.0, 0.0, 0.0, 0.0, ...  \n",
              "4                                  [0.0, 0.0, 1.0, 0.0]  \n",
              "...                                                 ...  \n",
              "3995  [0.0, 0.0, 0.0, 0.0, 0.0, 0.0, 0.0, 0.0, 0.0, ...  \n",
              "3996  [0.0, 0.0, 0.0, 0.0, 0.0, 0.0, 0.0, 0.0, 0.0, ...  \n",
              "3997  [0.0, 0.0, 0.0, 0.0, 0.0, 0.0, 0.0, 0.0, 0.0, ...  \n",
              "3998  [0.0, 0.0, 0.0, 0.0, 0.0, 0.0, 0.0, 0.0, 0.0, ...  \n",
              "3999  [0.0, 0.0, 0.0, 0.0, 0.0, 0.0, 0.0, 0.0, 0.0, ...  \n",
              "\n",
              "[4000 rows x 5 columns]"
            ],
            "text/html": [
              "\n",
              "  <div id=\"df-4d95409d-52ef-4447-9170-98ccc27db3f2\" class=\"colab-df-container\">\n",
              "    <div>\n",
              "<style scoped>\n",
              "    .dataframe tbody tr th:only-of-type {\n",
              "        vertical-align: middle;\n",
              "    }\n",
              "\n",
              "    .dataframe tbody tr th {\n",
              "        vertical-align: top;\n",
              "    }\n",
              "\n",
              "    .dataframe thead th {\n",
              "        text-align: right;\n",
              "    }\n",
              "</style>\n",
              "<table border=\"1\" class=\"dataframe\">\n",
              "  <thead>\n",
              "    <tr style=\"text-align: right;\">\n",
              "      <th></th>\n",
              "      <th>episode</th>\n",
              "      <th>speakers</th>\n",
              "      <th>emotions</th>\n",
              "      <th>utterances</th>\n",
              "      <th>triggers</th>\n",
              "    </tr>\n",
              "  </thead>\n",
              "  <tbody>\n",
              "    <tr>\n",
              "      <th>0</th>\n",
              "      <td>utterance_0</td>\n",
              "      <td>[Chandler, The Interviewer, Chandler, The Inte...</td>\n",
              "      <td>[neutral, neutral, neutral, neutral, surprise]</td>\n",
              "      <td>[also I was the point person on my company's t...</td>\n",
              "      <td>[0.0, 0.0, 0.0, 1.0, 0.0]</td>\n",
              "    </tr>\n",
              "    <tr>\n",
              "      <th>1</th>\n",
              "      <td>utterance_1</td>\n",
              "      <td>[Chandler, The Interviewer, Chandler, The Inte...</td>\n",
              "      <td>[neutral, neutral, neutral, neutral, surprise,...</td>\n",
              "      <td>[also I was the point person on my company's t...</td>\n",
              "      <td>[0.0, 0.0, 0.0, 0.0, 0.0, 1.0, 0.0]</td>\n",
              "    </tr>\n",
              "    <tr>\n",
              "      <th>2</th>\n",
              "      <td>utterance_2</td>\n",
              "      <td>[Chandler, The Interviewer, Chandler, The Inte...</td>\n",
              "      <td>[neutral, neutral, neutral, neutral, surprise,...</td>\n",
              "      <td>[also I was the point person on my company's t...</td>\n",
              "      <td>[0.0, 0.0, 0.0, 0.0, 0.0, 0.0, 0.0, 1.0, 0.0, ...</td>\n",
              "    </tr>\n",
              "    <tr>\n",
              "      <th>3</th>\n",
              "      <td>utterance_3</td>\n",
              "      <td>[Chandler, The Interviewer, Chandler, The Inte...</td>\n",
              "      <td>[neutral, neutral, neutral, neutral, surprise,...</td>\n",
              "      <td>[also I was the point person on my company's t...</td>\n",
              "      <td>[0.0, 0.0, 0.0, 0.0, 0.0, 0.0, 0.0, 0.0, 0.0, ...</td>\n",
              "    </tr>\n",
              "    <tr>\n",
              "      <th>4</th>\n",
              "      <td>utterance_4</td>\n",
              "      <td>[Joey, Rachel, Joey, Rachel]</td>\n",
              "      <td>[surprise, sadness, surprise, fear]</td>\n",
              "      <td>[But then who? The waitress I went out with la...</td>\n",
              "      <td>[0.0, 0.0, 1.0, 0.0]</td>\n",
              "    </tr>\n",
              "    <tr>\n",
              "      <th>...</th>\n",
              "      <td>...</td>\n",
              "      <td>...</td>\n",
              "      <td>...</td>\n",
              "      <td>...</td>\n",
              "      <td>...</td>\n",
              "    </tr>\n",
              "    <tr>\n",
              "      <th>3995</th>\n",
              "      <td>utterance_3995</td>\n",
              "      <td>[Chandler, All, Monica, Chandler, Ross, Chandl...</td>\n",
              "      <td>[neutral, joy, neutral, neutral, surprise, dis...</td>\n",
              "      <td>[Hey., Hey!, So how was Joan?, I broke up with...</td>\n",
              "      <td>[0.0, 0.0, 0.0, 0.0, 0.0, 0.0, 0.0, 0.0, 0.0, ...</td>\n",
              "    </tr>\n",
              "    <tr>\n",
              "      <th>3996</th>\n",
              "      <td>utterance_3996</td>\n",
              "      <td>[Chandler, All, Monica, Chandler, Ross, Chandl...</td>\n",
              "      <td>[neutral, joy, neutral, neutral, surprise, dis...</td>\n",
              "      <td>[Hey., Hey!, So how was Joan?, I broke up with...</td>\n",
              "      <td>[0.0, 0.0, 0.0, 0.0, 0.0, 0.0, 0.0, 0.0, 0.0, ...</td>\n",
              "    </tr>\n",
              "    <tr>\n",
              "      <th>3997</th>\n",
              "      <td>utterance_3997</td>\n",
              "      <td>[Chandler, All, Monica, Chandler, Ross, Chandl...</td>\n",
              "      <td>[neutral, joy, neutral, neutral, surprise, dis...</td>\n",
              "      <td>[Hey., Hey!, So how was Joan?, I broke up with...</td>\n",
              "      <td>[0.0, 0.0, 0.0, 0.0, 0.0, 0.0, 0.0, 0.0, 0.0, ...</td>\n",
              "    </tr>\n",
              "    <tr>\n",
              "      <th>3998</th>\n",
              "      <td>utterance_3998</td>\n",
              "      <td>[Chandler, All, Monica, Chandler, Ross, Chandl...</td>\n",
              "      <td>[neutral, joy, neutral, neutral, surprise, dis...</td>\n",
              "      <td>[Hey., Hey!, So how was Joan?, I broke up with...</td>\n",
              "      <td>[0.0, 0.0, 0.0, 0.0, 0.0, 0.0, 0.0, 0.0, 0.0, ...</td>\n",
              "    </tr>\n",
              "    <tr>\n",
              "      <th>3999</th>\n",
              "      <td>utterance_3999</td>\n",
              "      <td>[Chandler, All, Monica, Chandler, Ross, Chandl...</td>\n",
              "      <td>[neutral, joy, neutral, neutral, surprise, dis...</td>\n",
              "      <td>[Hey., Hey!, So how was Joan?, I broke up with...</td>\n",
              "      <td>[0.0, 0.0, 0.0, 0.0, 0.0, 0.0, 0.0, 0.0, 0.0, ...</td>\n",
              "    </tr>\n",
              "  </tbody>\n",
              "</table>\n",
              "<p>4000 rows × 5 columns</p>\n",
              "</div>\n",
              "    <div class=\"colab-df-buttons\">\n",
              "\n",
              "  <div class=\"colab-df-container\">\n",
              "    <button class=\"colab-df-convert\" onclick=\"convertToInteractive('df-4d95409d-52ef-4447-9170-98ccc27db3f2')\"\n",
              "            title=\"Convert this dataframe to an interactive table.\"\n",
              "            style=\"display:none;\">\n",
              "\n",
              "  <svg xmlns=\"http://www.w3.org/2000/svg\" height=\"24px\" viewBox=\"0 -960 960 960\">\n",
              "    <path d=\"M120-120v-720h720v720H120Zm60-500h600v-160H180v160Zm220 220h160v-160H400v160Zm0 220h160v-160H400v160ZM180-400h160v-160H180v160Zm440 0h160v-160H620v160ZM180-180h160v-160H180v160Zm440 0h160v-160H620v160Z\"/>\n",
              "  </svg>\n",
              "    </button>\n",
              "\n",
              "  <style>\n",
              "    .colab-df-container {\n",
              "      display:flex;\n",
              "      gap: 12px;\n",
              "    }\n",
              "\n",
              "    .colab-df-convert {\n",
              "      background-color: #E8F0FE;\n",
              "      border: none;\n",
              "      border-radius: 50%;\n",
              "      cursor: pointer;\n",
              "      display: none;\n",
              "      fill: #1967D2;\n",
              "      height: 32px;\n",
              "      padding: 0 0 0 0;\n",
              "      width: 32px;\n",
              "    }\n",
              "\n",
              "    .colab-df-convert:hover {\n",
              "      background-color: #E2EBFA;\n",
              "      box-shadow: 0px 1px 2px rgba(60, 64, 67, 0.3), 0px 1px 3px 1px rgba(60, 64, 67, 0.15);\n",
              "      fill: #174EA6;\n",
              "    }\n",
              "\n",
              "    .colab-df-buttons div {\n",
              "      margin-bottom: 4px;\n",
              "    }\n",
              "\n",
              "    [theme=dark] .colab-df-convert {\n",
              "      background-color: #3B4455;\n",
              "      fill: #D2E3FC;\n",
              "    }\n",
              "\n",
              "    [theme=dark] .colab-df-convert:hover {\n",
              "      background-color: #434B5C;\n",
              "      box-shadow: 0px 1px 3px 1px rgba(0, 0, 0, 0.15);\n",
              "      filter: drop-shadow(0px 1px 2px rgba(0, 0, 0, 0.3));\n",
              "      fill: #FFFFFF;\n",
              "    }\n",
              "  </style>\n",
              "\n",
              "    <script>\n",
              "      const buttonEl =\n",
              "        document.querySelector('#df-4d95409d-52ef-4447-9170-98ccc27db3f2 button.colab-df-convert');\n",
              "      buttonEl.style.display =\n",
              "        google.colab.kernel.accessAllowed ? 'block' : 'none';\n",
              "\n",
              "      async function convertToInteractive(key) {\n",
              "        const element = document.querySelector('#df-4d95409d-52ef-4447-9170-98ccc27db3f2');\n",
              "        const dataTable =\n",
              "          await google.colab.kernel.invokeFunction('convertToInteractive',\n",
              "                                                    [key], {});\n",
              "        if (!dataTable) return;\n",
              "\n",
              "        const docLinkHtml = 'Like what you see? Visit the ' +\n",
              "          '<a target=\"_blank\" href=https://colab.research.google.com/notebooks/data_table.ipynb>data table notebook</a>'\n",
              "          + ' to learn more about interactive tables.';\n",
              "        element.innerHTML = '';\n",
              "        dataTable['output_type'] = 'display_data';\n",
              "        await google.colab.output.renderOutput(dataTable, element);\n",
              "        const docLink = document.createElement('div');\n",
              "        docLink.innerHTML = docLinkHtml;\n",
              "        element.appendChild(docLink);\n",
              "      }\n",
              "    </script>\n",
              "  </div>\n",
              "\n",
              "\n",
              "<div id=\"df-58e4f534-3db8-422f-a1f3-10a3cb081124\">\n",
              "  <button class=\"colab-df-quickchart\" onclick=\"quickchart('df-58e4f534-3db8-422f-a1f3-10a3cb081124')\"\n",
              "            title=\"Suggest charts\"\n",
              "            style=\"display:none;\">\n",
              "\n",
              "<svg xmlns=\"http://www.w3.org/2000/svg\" height=\"24px\"viewBox=\"0 0 24 24\"\n",
              "     width=\"24px\">\n",
              "    <g>\n",
              "        <path d=\"M19 3H5c-1.1 0-2 .9-2 2v14c0 1.1.9 2 2 2h14c1.1 0 2-.9 2-2V5c0-1.1-.9-2-2-2zM9 17H7v-7h2v7zm4 0h-2V7h2v10zm4 0h-2v-4h2v4z\"/>\n",
              "    </g>\n",
              "</svg>\n",
              "  </button>\n",
              "\n",
              "<style>\n",
              "  .colab-df-quickchart {\n",
              "      --bg-color: #E8F0FE;\n",
              "      --fill-color: #1967D2;\n",
              "      --hover-bg-color: #E2EBFA;\n",
              "      --hover-fill-color: #174EA6;\n",
              "      --disabled-fill-color: #AAA;\n",
              "      --disabled-bg-color: #DDD;\n",
              "  }\n",
              "\n",
              "  [theme=dark] .colab-df-quickchart {\n",
              "      --bg-color: #3B4455;\n",
              "      --fill-color: #D2E3FC;\n",
              "      --hover-bg-color: #434B5C;\n",
              "      --hover-fill-color: #FFFFFF;\n",
              "      --disabled-bg-color: #3B4455;\n",
              "      --disabled-fill-color: #666;\n",
              "  }\n",
              "\n",
              "  .colab-df-quickchart {\n",
              "    background-color: var(--bg-color);\n",
              "    border: none;\n",
              "    border-radius: 50%;\n",
              "    cursor: pointer;\n",
              "    display: none;\n",
              "    fill: var(--fill-color);\n",
              "    height: 32px;\n",
              "    padding: 0;\n",
              "    width: 32px;\n",
              "  }\n",
              "\n",
              "  .colab-df-quickchart:hover {\n",
              "    background-color: var(--hover-bg-color);\n",
              "    box-shadow: 0 1px 2px rgba(60, 64, 67, 0.3), 0 1px 3px 1px rgba(60, 64, 67, 0.15);\n",
              "    fill: var(--button-hover-fill-color);\n",
              "  }\n",
              "\n",
              "  .colab-df-quickchart-complete:disabled,\n",
              "  .colab-df-quickchart-complete:disabled:hover {\n",
              "    background-color: var(--disabled-bg-color);\n",
              "    fill: var(--disabled-fill-color);\n",
              "    box-shadow: none;\n",
              "  }\n",
              "\n",
              "  .colab-df-spinner {\n",
              "    border: 2px solid var(--fill-color);\n",
              "    border-color: transparent;\n",
              "    border-bottom-color: var(--fill-color);\n",
              "    animation:\n",
              "      spin 1s steps(1) infinite;\n",
              "  }\n",
              "\n",
              "  @keyframes spin {\n",
              "    0% {\n",
              "      border-color: transparent;\n",
              "      border-bottom-color: var(--fill-color);\n",
              "      border-left-color: var(--fill-color);\n",
              "    }\n",
              "    20% {\n",
              "      border-color: transparent;\n",
              "      border-left-color: var(--fill-color);\n",
              "      border-top-color: var(--fill-color);\n",
              "    }\n",
              "    30% {\n",
              "      border-color: transparent;\n",
              "      border-left-color: var(--fill-color);\n",
              "      border-top-color: var(--fill-color);\n",
              "      border-right-color: var(--fill-color);\n",
              "    }\n",
              "    40% {\n",
              "      border-color: transparent;\n",
              "      border-right-color: var(--fill-color);\n",
              "      border-top-color: var(--fill-color);\n",
              "    }\n",
              "    60% {\n",
              "      border-color: transparent;\n",
              "      border-right-color: var(--fill-color);\n",
              "    }\n",
              "    80% {\n",
              "      border-color: transparent;\n",
              "      border-right-color: var(--fill-color);\n",
              "      border-bottom-color: var(--fill-color);\n",
              "    }\n",
              "    90% {\n",
              "      border-color: transparent;\n",
              "      border-bottom-color: var(--fill-color);\n",
              "    }\n",
              "  }\n",
              "</style>\n",
              "\n",
              "  <script>\n",
              "    async function quickchart(key) {\n",
              "      const quickchartButtonEl =\n",
              "        document.querySelector('#' + key + ' button');\n",
              "      quickchartButtonEl.disabled = true;  // To prevent multiple clicks.\n",
              "      quickchartButtonEl.classList.add('colab-df-spinner');\n",
              "      try {\n",
              "        const charts = await google.colab.kernel.invokeFunction(\n",
              "            'suggestCharts', [key], {});\n",
              "      } catch (error) {\n",
              "        console.error('Error during call to suggestCharts:', error);\n",
              "      }\n",
              "      quickchartButtonEl.classList.remove('colab-df-spinner');\n",
              "      quickchartButtonEl.classList.add('colab-df-quickchart-complete');\n",
              "    }\n",
              "    (() => {\n",
              "      let quickchartButtonEl =\n",
              "        document.querySelector('#df-58e4f534-3db8-422f-a1f3-10a3cb081124 button');\n",
              "      quickchartButtonEl.style.display =\n",
              "        google.colab.kernel.accessAllowed ? 'block' : 'none';\n",
              "    })();\n",
              "  </script>\n",
              "</div>\n",
              "\n",
              "  <div id=\"id_6ce3438a-01d0-4a3a-b447-f648dfee7892\">\n",
              "    <style>\n",
              "      .colab-df-generate {\n",
              "        background-color: #E8F0FE;\n",
              "        border: none;\n",
              "        border-radius: 50%;\n",
              "        cursor: pointer;\n",
              "        display: none;\n",
              "        fill: #1967D2;\n",
              "        height: 32px;\n",
              "        padding: 0 0 0 0;\n",
              "        width: 32px;\n",
              "      }\n",
              "\n",
              "      .colab-df-generate:hover {\n",
              "        background-color: #E2EBFA;\n",
              "        box-shadow: 0px 1px 2px rgba(60, 64, 67, 0.3), 0px 1px 3px 1px rgba(60, 64, 67, 0.15);\n",
              "        fill: #174EA6;\n",
              "      }\n",
              "\n",
              "      [theme=dark] .colab-df-generate {\n",
              "        background-color: #3B4455;\n",
              "        fill: #D2E3FC;\n",
              "      }\n",
              "\n",
              "      [theme=dark] .colab-df-generate:hover {\n",
              "        background-color: #434B5C;\n",
              "        box-shadow: 0px 1px 3px 1px rgba(0, 0, 0, 0.15);\n",
              "        filter: drop-shadow(0px 1px 2px rgba(0, 0, 0, 0.3));\n",
              "        fill: #FFFFFF;\n",
              "      }\n",
              "    </style>\n",
              "    <button class=\"colab-df-generate\" onclick=\"generateWithVariable('df')\"\n",
              "            title=\"Generate code using this dataframe.\"\n",
              "            style=\"display:none;\">\n",
              "\n",
              "  <svg xmlns=\"http://www.w3.org/2000/svg\" height=\"24px\"viewBox=\"0 0 24 24\"\n",
              "       width=\"24px\">\n",
              "    <path d=\"M7,19H8.4L18.45,9,17,7.55,7,17.6ZM5,21V16.75L18.45,3.32a2,2,0,0,1,2.83,0l1.4,1.43a1.91,1.91,0,0,1,.58,1.4,1.91,1.91,0,0,1-.58,1.4L9.25,21ZM18.45,9,17,7.55Zm-12,3A5.31,5.31,0,0,0,4.9,8.1,5.31,5.31,0,0,0,1,6.5,5.31,5.31,0,0,0,4.9,4.9,5.31,5.31,0,0,0,6.5,1,5.31,5.31,0,0,0,8.1,4.9,5.31,5.31,0,0,0,12,6.5,5.46,5.46,0,0,0,6.5,12Z\"/>\n",
              "  </svg>\n",
              "    </button>\n",
              "    <script>\n",
              "      (() => {\n",
              "      const buttonEl =\n",
              "        document.querySelector('#id_6ce3438a-01d0-4a3a-b447-f648dfee7892 button.colab-df-generate');\n",
              "      buttonEl.style.display =\n",
              "        google.colab.kernel.accessAllowed ? 'block' : 'none';\n",
              "\n",
              "      buttonEl.onclick = () => {\n",
              "        google.colab.notebook.generateWithVariable('df');\n",
              "      }\n",
              "      })();\n",
              "    </script>\n",
              "  </div>\n",
              "\n",
              "    </div>\n",
              "  </div>\n"
            ],
            "application/vnd.google.colaboratory.intrinsic+json": {
              "type": "dataframe",
              "variable_name": "df",
              "repr_error": "unhashable type: 'list'"
            }
          },
          "metadata": {},
          "execution_count": 94
        }
      ]
    },
    {
      "cell_type": "markdown",
      "source": [
        "Distribution of Emotions"
      ],
      "metadata": {
        "id": "dcXn9y_3CYZL"
      }
    },
    {
      "cell_type": "code",
      "source": [
        "emotion_counts = df['emotions'].explode().value_counts()"
      ],
      "metadata": {
        "id": "92cqbZV5CQts"
      },
      "execution_count": null,
      "outputs": []
    },
    {
      "cell_type": "code",
      "source": [
        "plt.figure(figsize=(10, 6))\n",
        "emotion_counts.plot(kind='bar', color='lightgreen')\n",
        "plt.title('Distribution of Emotions')\n",
        "plt.xlabel('Emotions')\n",
        "plt.ylabel('Frequency')\n",
        "plt.show()"
      ],
      "metadata": {
        "colab": {
          "base_uri": "https://localhost:8080/",
          "height": 512
        },
        "id": "Tb50jm_8CS1o",
        "outputId": "7ad7a3c1-8a94-477c-bff9-183e669f5c60"
      },
      "execution_count": null,
      "outputs": [
        {
          "output_type": "display_data",
          "data": {
            "text/plain": [
              "<Figure size 1000x600 with 1 Axes>"
            ],
            "image/png": "[encoded data removed]"
          },
          "metadata": {}
        }
      ]
    },
    {
      "cell_type": "code",
      "source": [
        "dialogue_lengths = [len(dialogue) for dialogue in df['utterances']]\n",
        "dialogues_lengths_sorted = sorted(dialogue_lengths, reverse=True)\n",
        "bins = np.unique(dialogues_lengths_sorted).shape[0]\n",
        "\n",
        "plt.figure(figsize=(10, 6))\n",
        "plt.hist(dialogues_lengths_sorted, bins=bins, color='skyblue')\n",
        "plt.title('Distribution of Dialogue Lengths')\n",
        "plt.xlabel('Number of Utterances in a Dialogue')\n",
        "plt.ylabel('Frequency')\n",
        "plt.show()\n"
      ],
      "metadata": {
        "colab": {
          "base_uri": "https://localhost:8080/",
          "height": 484
        },
        "id": "AkSt0PmcCkUn",
        "outputId": "a49d3c3c-68cb-48d4-ef01-50552b5613b3"
      },
      "execution_count": null,
      "outputs": [
        {
          "output_type": "display_data",
          "data": {
            "text/plain": [
              "<Figure size 1000x600 with 1 Axes>"
            ],
            "image/png": "[encoded data removed]"
          },
          "metadata": {}
        }
      ]
    },
    {
      "cell_type": "code",
      "source": [
        "utterance_lengths = [sum(len(word.split()) for word in utterance.split()) for dialogue in df['utterances'] for utterance in dialogue]\n",
        "utterances_lengths_sorted = sorted(utterance_lengths,reverse=True)\n",
        "bins_2 = np.unique(utterances_lengths_sorted).shape[0]\n",
        "\n",
        "plt.figure(figsize=(10, 6))\n",
        "plt.hist(utterances_lengths_sorted, bins=bins_2, color='salmon')\n",
        "plt.title('Distribution of Utterances Lengths')\n",
        "plt.xlabel('Number of Words in an Utterance')\n",
        "plt.ylabel('Frequency')\n",
        "plt.show()"
      ],
      "metadata": {
        "colab": {
          "base_uri": "https://localhost:8080/",
          "height": 482
        },
        "id": "qAmNXrWzCnXe",
        "outputId": "47c364f5-808c-4d62-8df4-3eb314d0b20e"
      },
      "execution_count": null,
      "outputs": [
        {
          "output_type": "display_data",
          "data": {
            "text/plain": [
              "<Figure size 1000x600 with 1 Axes>"
            ],
            "image/png": "[encoded data removed]"
          },
          "metadata": {}
        }
      ]
    },
    {
      "cell_type": "markdown",
      "source": [
        "## Text Preprocessing"
      ],
      "metadata": {
        "id": "0UyfijWlzIkx"
      }
    },
    {
      "cell_type": "code",
      "source": [
        "# Removing None, replacing with 0.0\n",
        "triggers = df['triggers']\n",
        "for row in range(triggers.shape[0]):\n",
        "    for trigger in range(len(triggers[row])):\n",
        "        if triggers[row][trigger] == None:\n",
        "            triggers[row][trigger] = 0.0\n",
        "\n",
        "df['triggers'] = triggers"
      ],
      "metadata": {
        "id": "PK4MQkLvyh-C",
        "execution": {
          "iopub.status.busy": "2024-02-14T14:41:50.741817Z",
          "iopub.execute_input": "2024-02-14T14:41:50.742525Z",
          "iopub.status.idle": "2024-02-14T14:41:50.946366Z",
          "shell.execute_reply.started": "2024-02-14T14:41:50.742492Z",
          "shell.execute_reply": "2024-02-14T14:41:50.945596Z"
        },
        "trusted": true
      },
      "execution_count": null,
      "outputs": []
    },
    {
      "cell_type": "code",
      "source": [
        "emotions = df['emotions'].explode().unique()\n",
        "emotions"
      ],
      "metadata": {
        "id": "QFfykazN2xDw",
        "outputId": "3ae47d66-2dfa-4d35-9243-35b326177bb1",
        "colab": {
          "base_uri": "https://localhost:8080/"
        },
        "execution": {
          "iopub.status.busy": "2024-02-14T14:41:50.947431Z",
          "iopub.execute_input": "2024-02-14T14:41:50.947717Z",
          "iopub.status.idle": "2024-02-14T14:41:50.964997Z",
          "shell.execute_reply.started": "2024-02-14T14:41:50.947693Z",
          "shell.execute_reply": "2024-02-14T14:41:50.964160Z"
        },
        "trusted": true
      },
      "execution_count": null,
      "outputs": [
        {
          "output_type": "execute_result",
          "data": {
            "text/plain": [
              "array(['neutral', 'surprise', 'fear', 'sadness', 'joy', 'disgust',\n",
              "       'anger'], dtype=object)"
            ]
          },
          "metadata": {},
          "execution_count": 44
        }
      ]
    },
    {
      "cell_type": "code",
      "source": [
        "triggers = df['triggers'].explode().unique()\n",
        "triggers"
      ],
      "metadata": {
        "id": "p10v1luzDn1M",
        "outputId": "bf08add8-7798-4649-e0fb-1ae9a70483b2",
        "colab": {
          "base_uri": "https://localhost:8080/"
        },
        "execution": {
          "iopub.status.busy": "2024-02-14T14:41:50.965985Z",
          "iopub.execute_input": "2024-02-14T14:41:50.966242Z",
          "iopub.status.idle": "2024-02-14T14:41:50.977443Z",
          "shell.execute_reply.started": "2024-02-14T14:41:50.966213Z",
          "shell.execute_reply": "2024-02-14T14:41:50.976553Z"
        },
        "trusted": true
      },
      "execution_count": null,
      "outputs": [
        {
          "output_type": "execute_result",
          "data": {
            "text/plain": [
              "array([0.0, 1.0], dtype=object)"
            ]
          },
          "metadata": {},
          "execution_count": 45
        }
      ]
    },
    {
      "cell_type": "code",
      "source": [
        "sorted_emotions = sorted(emotions)  #sort the array because Binarizer will automatically do that for one hot encoding\n",
        "label_binarizer = LabelBinarizer()\n",
        "label_binarizer.fit(sorted_emotions)\n",
        "\n",
        "dialogues = df['emotions']\n",
        "one_hot_emotions = []\n",
        "for dialogue_emotion in dialogues:\n",
        "  dialogue_emotions_list = []\n",
        "  for emotion in dialogue_emotion:\n",
        "    encoded_emotion=label_binarizer.transform([emotion])\n",
        "    dialogue_emotions_list.append(np.ravel(encoded_emotion).tolist())\n",
        "  one_hot_emotions.append(dialogue_emotions_list)"
      ],
      "metadata": {
        "id": "H6K5IJ0-NLlL",
        "execution": {
          "iopub.status.busy": "2024-02-14T14:41:50.978662Z",
          "iopub.execute_input": "2024-02-14T14:41:50.978937Z",
          "iopub.status.idle": "2024-02-14T14:42:04.926008Z",
          "shell.execute_reply.started": "2024-02-14T14:41:50.978904Z",
          "shell.execute_reply": "2024-02-14T14:42:04.924827Z"
        },
        "trusted": true
      },
      "execution_count": null,
      "outputs": []
    },
    {
      "cell_type": "code",
      "source": [
        "df['emotions'] = one_hot_emotions"
      ],
      "metadata": {
        "id": "fNaWF4KIgIys",
        "execution": {
          "iopub.status.busy": "2024-02-14T14:42:04.927313Z",
          "iopub.execute_input": "2024-02-14T14:42:04.927617Z",
          "iopub.status.idle": "2024-02-14T14:42:04.934389Z",
          "shell.execute_reply.started": "2024-02-14T14:42:04.927591Z",
          "shell.execute_reply": "2024-02-14T14:42:04.933404Z"
        },
        "trusted": true
      },
      "execution_count": null,
      "outputs": []
    },
    {
      "cell_type": "code",
      "source": [
        "train_data, temp_data = train_test_split(df, train_size=0.8, shuffle=False)\n",
        "val_data, test_data = train_test_split(temp_data, test_size=0.5, shuffle=False)\n",
        "val_data.reset_index(drop=True, inplace=True)\n",
        "test_data.reset_index(drop=True, inplace=True)"
      ],
      "metadata": {
        "id": "ALZyV8V-kk5k",
        "execution": {
          "iopub.status.busy": "2024-02-14T14:42:04.938759Z",
          "iopub.execute_input": "2024-02-14T14:42:04.939152Z",
          "iopub.status.idle": "2024-02-14T14:42:04.972387Z",
          "shell.execute_reply.started": "2024-02-14T14:42:04.939119Z",
          "shell.execute_reply": "2024-02-14T14:42:04.971381Z"
        },
        "trusted": true
      },
      "execution_count": null,
      "outputs": []
    },
    {
      "cell_type": "code",
      "source": [
        "size_emotions = np.zeros(7)\n",
        "for dialogue in train_data['emotions']:\n",
        "  for emot in dialogue:\n",
        "    size_emotions[np.argmax(emot)]+=1\n",
        "size_trigger = np.zeros(2)\n",
        "for dialogue in train_data['triggers']:\n",
        "  for i in dialogue:\n",
        "   if i == 1:\n",
        "    size_trigger[1]+=1\n",
        "   else:\n",
        "    size_trigger[0]+=1\n",
        "print('Distribution for emotions',size_emotions)\n",
        "print('Distribution for triggers',size_trigger)"
      ],
      "metadata": {
        "colab": {
          "base_uri": "https://localhost:8080/"
        },
        "id": "Co8EFPCVD1cl",
        "outputId": "8a451dd9-cf60-4c06-f77a-b0cb7237a6a7",
        "execution": {
          "iopub.status.busy": "2024-02-14T14:42:04.973690Z",
          "iopub.execute_input": "2024-02-14T14:42:04.973981Z",
          "iopub.status.idle": "2024-02-14T14:42:05.243123Z",
          "shell.execute_reply.started": "2024-02-14T14:42:04.973958Z",
          "shell.execute_reply": "2024-02-14T14:42:05.242025Z"
        },
        "trusted": true
      },
      "execution_count": null,
      "outputs": [
        {
          "output_type": "stream",
          "name": "stdout",
          "text": [
            "Distribution for emotions [ 3025.   816.   917.  5123. 12228.  1929.  3775.]\n",
            "Distribution for triggers [23524.  4289.]\n"
          ]
        }
      ]
    },
    {
      "cell_type": "markdown",
      "source": [
        "Definition of Metrics"
      ],
      "metadata": {
        "id": "aFMm4TKvEP3J"
      }
    },
    {
      "cell_type": "code",
      "source": [
        "def compute_sequence_f1(predictions, labels):\n",
        "    # predictions and labels should be lists of tensors for each dialogue\n",
        "    emotion_f1_scores = []\n",
        "    trigger_f1_scores = []\n",
        "    emotion_precisions = []\n",
        "    trigger_precisions = []\n",
        "    emotion_recalls = []\n",
        "    trigger_recalls = []\n",
        "    for emotion_pred, trigger_pred, emotion_lab, trigger_lab in zip(predictions[0], predictions[1], labels[0], labels[1]):\n",
        "        emotion_predicted_classes = torch.argmax(emotion_pred, dim=1)\n",
        "        trigger_predicted_classes = torch.argmax(trigger_pred, dim=1)\n",
        "        emotion_true_classes = torch.argmax(emotion_lab, dim=1)\n",
        "        trigger_true_classes = trigger_lab\n",
        "\n",
        "        emotion_precision = precision_score(emotion_true_classes.cpu().numpy(), emotion_predicted_classes.cpu().numpy(), average='weighted')\n",
        "        trigger_precision = precision_score(trigger_true_classes.cpu().numpy(), trigger_predicted_classes.cpu().numpy(), average='binary')\n",
        "\n",
        "        emotion_precision = recall_score(emotion_true_classes.cpu().numpy(), emotion_predicted_classes.cpu().numpy(), average='weighted')\n",
        "        trigger_precision = recall_score(trigger_true_classes.cpu().numpy(), trigger_predicted_classes.cpu().numpy(), average='binary')\n",
        "\n",
        "        emotion_f1 = f1_score(emotion_true_classes.cpu().numpy(), emotion_predicted_classes.cpu().numpy(), average='weighted')\n",
        "        trigger_f1 = f1_score(trigger_true_classes.cpu().numpy(), trigger_predicted_classes.cpu().numpy(), average='binary')\n",
        "\n",
        "        emotion_f1_scores.append(emotion_precision)\n",
        "        trigger_f1_scores.append(trigger_precision)\n",
        "        emotion_precisions.append(emotion_precision)\n",
        "        trigger_precisions.append(trigger_precision)\n",
        "        emotion_recalls.append(emotion_f1)\n",
        "        trigger_recalls.append(trigger_f1)\n",
        "\n",
        "    average_emotion_f1 = torch.tensor(emotion_f1_scores, dtype=torch.float32).mean()\n",
        "    average_trigger_f1 = torch.tensor(trigger_f1_scores, dtype=torch.float32).mean()\n",
        "    average_emotion_p = torch.tensor(emotion_precisions, dtype=torch.float32).mean()\n",
        "    average_trigger_p = torch.tensor(trigger_precisions, dtype=torch.float32).mean()\n",
        "    average_emotion_r = torch.tensor(emotion_recalls, dtype=torch.float32).mean()\n",
        "    average_trigger_r = torch.tensor(trigger_recalls, dtype=torch.float32).mean()\n",
        "\n",
        "    return average_emotion_f1, average_trigger_f1, average_emotion_p,average_trigger_p,average_emotion_r,average_trigger_r\n",
        "\n",
        "def compute_unrolled_sequence_f1(predictions, labels):\n",
        "    # Flatten all utterances and compute the F1 score\n",
        "    all_emotion_predicted_classes = torch.argmax(torch.cat(predictions[0], dim=0), dim=1)\n",
        "    all_trigger_predicted_classes = torch.argmax(torch.cat(predictions[1], dim=0), dim=1)\n",
        "    all_emotion_true_classes = torch.argmax(torch.cat(labels[0], dim=0), dim=1)\n",
        "    all_trigger_true_classes = torch.cat(labels[1], dim=0)\n",
        "\n",
        "    unrolled_emotion_f1 = f1_score(all_emotion_true_classes.cpu().numpy(), all_emotion_predicted_classes.cpu().numpy(), average='weighted')\n",
        "    unrolled_trigger_f1 = f1_score(all_trigger_true_classes.cpu().numpy(), all_trigger_predicted_classes.cpu().numpy(), average='binary')\n",
        "    unrolled_emotion_p = precision_score(all_emotion_true_classes.cpu().numpy(), all_emotion_predicted_classes.cpu().numpy(), average='weighted')\n",
        "    unrolled_trigger_p = precision_score(all_trigger_true_classes.cpu().numpy(), all_trigger_predicted_classes.cpu().numpy(), average='binary')\n",
        "    unrolled_emotion_r = recall_score(all_emotion_true_classes.cpu().numpy(), all_emotion_predicted_classes.cpu().numpy(), average='weighted')\n",
        "    unrolled_trigger_r = recall_score(all_trigger_true_classes.cpu().numpy(), all_trigger_predicted_classes.cpu().numpy(), average='binary')\n",
        "    cm_emotion = confusion_matrix(all_emotion_true_classes.cpu().numpy(), all_emotion_predicted_classes.cpu().numpy())\n",
        "    cm_trigger = confusion_matrix(all_trigger_true_classes.cpu().numpy(), all_trigger_predicted_classes.cpu().numpy())\n",
        "\n",
        "    unrolled_emotion_f1_tensor = torch.tensor(unrolled_emotion_f1, dtype=torch.float32)\n",
        "    unrolled_trigger_f1_tensor = torch.tensor(unrolled_trigger_f1, dtype=torch.float32)\n",
        "    unrolled_emotion_p_tensor = torch.tensor(unrolled_emotion_p, dtype=torch.float32)\n",
        "    unrolled_trigger_p_tensor = torch.tensor(unrolled_trigger_p, dtype=torch.float32)\n",
        "    unrolled_emotion_r_tensor = torch.tensor(unrolled_emotion_r, dtype=torch.float32)\n",
        "    unrolled_trigger_r_tensor = torch.tensor(unrolled_trigger_r, dtype=torch.float32)\n",
        "    return unrolled_emotion_f1_tensor, unrolled_trigger_f1_tensor,unrolled_emotion_p_tensor,unrolled_trigger_p_tensor,unrolled_emotion_r_tensor,unrolled_trigger_r_tensor,cm_emotion,cm_trigger"
      ],
      "metadata": {
        "id": "yx9yj1Kuq7qt",
        "execution": {
          "iopub.status.busy": "2024-02-14T15:16:03.545927Z",
          "iopub.execute_input": "2024-02-14T15:16:03.546308Z",
          "iopub.status.idle": "2024-02-14T15:16:03.568454Z",
          "shell.execute_reply.started": "2024-02-14T15:16:03.546279Z",
          "shell.execute_reply": "2024-02-14T15:16:03.567437Z"
        },
        "trusted": true
      },
      "execution_count": null,
      "outputs": []
    },
    {
      "cell_type": "markdown",
      "source": [
        "Custom Dataset Handling, compatible with training loop"
      ],
      "metadata": {
        "id": "5xeMv7HFEYjy"
      }
    },
    {
      "cell_type": "code",
      "source": [
        "class MyDataset(Dataset):\n",
        "    def __init__(self, input_ids, attention_mask, emotions, triggers):\n",
        "        self.input_ids = input_ids\n",
        "        self.attention_mask = attention_mask\n",
        "        self.emotions = emotions\n",
        "        self.triggers = triggers\n",
        "\n",
        "    def __len__(self):\n",
        "        return len(self.emotions)\n",
        "\n",
        "    def __getitem__(self, idx):\n",
        "        input_ids = self.input_ids[idx]\n",
        "        attention_mask = self.attention_mask[idx]\n",
        "        emotion = self.emotions[idx]\n",
        "        trigger = self.triggers[idx]\n",
        "        emotion_labels = torch.tensor(emotion, dtype=torch.float32)\n",
        "        trigger_label = torch.tensor(trigger, dtype=torch.long)\n",
        "        return {\n",
        "            'input_ids': input_ids,\n",
        "            'attention_mask': attention_mask,\n",
        "            'emotion_labels': emotion_labels,\n",
        "            'trigger_label': trigger_label\n",
        "        }"
      ],
      "metadata": {
        "id": "HiiN1Qs9k0DM",
        "execution": {
          "iopub.status.busy": "2024-02-14T14:42:05.269924Z",
          "iopub.execute_input": "2024-02-14T14:42:05.270305Z",
          "iopub.status.idle": "2024-02-14T14:42:05.283744Z",
          "shell.execute_reply.started": "2024-02-14T14:42:05.270275Z",
          "shell.execute_reply": "2024-02-14T14:42:05.282828Z"
        },
        "trusted": true
      },
      "execution_count": null,
      "outputs": []
    },
    {
      "cell_type": "markdown",
      "source": [
        "Tokenisation function, includes speakers at the end along with the utterances for additional context"
      ],
      "metadata": {
        "id": "gtj5_BkxEd-W"
      }
    },
    {
      "cell_type": "code",
      "source": [
        "def tokenize_padding(tokenizer,speakers_list, utterances_list):\n",
        "    tokenized_dialogues = []\n",
        "    for speakers, utterances in zip(speakers_list, utterances_list):\n",
        "        dialogue_with_speakers = []\n",
        "        for speaker, utterance in zip(speakers, utterances):\n",
        "            dialogue_with_speakers.append(utterance + ' ['+speaker+']')\n",
        "        tokenized_dialogues.append(dialogue_with_speakers)\n",
        "\n",
        "    tokenization = []\n",
        "    for dialogue in tqdm(tokenized_dialogues):\n",
        "      tokenized_dialogue = tokenizer(\n",
        "          dialogue,\n",
        "          padding=True,\n",
        "          truncation=False,\n",
        "          return_tensors='pt'\n",
        "      )\n",
        "      tokenization.append(tokenized_dialogue)\n",
        "\n",
        "    input_ids = [dialogue['input_ids'] for dialogue in tokenization]\n",
        "    attention_mask = [dialogue['attention_mask'] for dialogue in tokenization]\n",
        "    return input_ids,attention_mask"
      ],
      "metadata": {
        "execution": {
          "iopub.status.busy": "2024-02-14T14:42:05.284863Z",
          "iopub.execute_input": "2024-02-14T14:42:05.285972Z",
          "iopub.status.idle": "2024-02-14T14:42:05.300808Z",
          "shell.execute_reply.started": "2024-02-14T14:42:05.285932Z",
          "shell.execute_reply": "2024-02-14T14:42:05.299834Z"
        },
        "trusted": true,
        "id": "PHYTGbIOzIk0"
      },
      "execution_count": null,
      "outputs": []
    },
    {
      "cell_type": "code",
      "source": [
        "# To convert into appropriate format for the Dataloader object\n",
        "def collate_fn(batch):\n",
        "    input_ids = [item['input_ids'] for item in batch]\n",
        "    attention_mask = [item['attention_mask'] for item in batch]\n",
        "    emotion_labels = [item['emotion_labels'] for item in batch]\n",
        "    trigger_label = [item['trigger_label'] for item in batch]\n",
        "    return input_ids,attention_mask,emotion_labels,trigger_label"
      ],
      "metadata": {
        "id": "ybP2gK92AU7o",
        "execution": {
          "iopub.status.busy": "2024-02-14T14:42:05.301954Z",
          "iopub.execute_input": "2024-02-14T14:42:05.302242Z",
          "iopub.status.idle": "2024-02-14T14:42:05.309977Z",
          "shell.execute_reply.started": "2024-02-14T14:42:05.302214Z",
          "shell.execute_reply": "2024-02-14T14:42:05.309008Z"
        },
        "trusted": true
      },
      "execution_count": null,
      "outputs": []
    },
    {
      "cell_type": "markdown",
      "source": [
        "Training loop function"
      ],
      "metadata": {
        "id": "VZW-qS9bEwxj"
      }
    },
    {
      "cell_type": "code",
      "source": [
        "def train_model(model,num_epochs=5,batch_size=32):\n",
        "  train_loader = DataLoader(train_dataset, batch_size=batch_size, shuffle=True, collate_fn=collate_fn)\n",
        "  for epoch in range(num_epochs):\n",
        "      model.train()\n",
        "      total_loss = 0.0\n",
        "\n",
        "      for batch in tqdm(train_loader, desc=f'Epoch {epoch + 1}', leave=False):\n",
        "          input_ids,attention_mask,emotion_labels,trigger_label = batch\n",
        "          optimizer.zero_grad()\n",
        "          emotion_loss = 0.0\n",
        "          trigger_loss = 0.0\n",
        "          for el in range(len(input_ids)):\n",
        "\n",
        "            input_ids_el = input_ids[el].squeeze().to(device)\n",
        "            attention_mask_el = attention_mask[el].squeeze().to(device)\n",
        "            emotion_labels_el = emotion_labels[el].squeeze().to(device)\n",
        "            trigger_label_el = trigger_label[el].squeeze().to(device)\n",
        "            emotion_logits, trigger_logits = model(input_ids_el, attention_mask_el)\n",
        "            emotion_loss += criterion_emotion(emotion_logits, torch.argmax(emotion_labels_el, dim=1))\n",
        "            trigger_loss += criterion_trigger(trigger_logits, trigger_label_el)\n",
        "\n",
        "          loss = (emotion_loss + trigger_loss)/len(input_ids)#batch_size\n",
        "\n",
        "          loss.backward()\n",
        "          optimizer.step()\n",
        "\n",
        "          total_loss += loss.item()\n",
        "      # Compute the average loss\n",
        "      average_loss = total_loss / len(train_loader)\n",
        "      print(f\"Epoch {epoch + 1}, Average Loss: {average_loss}\")\n",
        "      test_model('validation',model)"
      ],
      "metadata": {
        "execution": {
          "iopub.status.busy": "2024-02-14T14:42:05.311333Z",
          "iopub.execute_input": "2024-02-14T14:42:05.311678Z",
          "iopub.status.idle": "2024-02-14T14:42:05.328135Z",
          "shell.execute_reply.started": "2024-02-14T14:42:05.311656Z",
          "shell.execute_reply": "2024-02-14T14:42:05.327221Z"
        },
        "trusted": true,
        "id": "mTOI-aKAzIk0"
      },
      "execution_count": null,
      "outputs": []
    },
    {
      "cell_type": "markdown",
      "source": [
        "Testing/Validation loop function"
      ],
      "metadata": {
        "id": "q1Fqosh5Eyus"
      }
    },
    {
      "cell_type": "code",
      "source": [
        "def test_model(mode,model):\n",
        "  sequence_f1_scores_emotion = []\n",
        "  sequence_f1_scores_trigger = []\n",
        "  unrolled_predictions_emotion = []\n",
        "  unrolled_predictions_trigger = []\n",
        "  unrolled_labels_emotion = []\n",
        "  unrolled_labels_trigger = []\n",
        "  sequence_f1_scores = []\n",
        "\n",
        "  batch_size = 1\n",
        "  if mode == 'validation':\n",
        "    loader = DataLoader(validation_dataset, batch_size=batch_size, shuffle=False)\n",
        "  elif mode == 'test':\n",
        "    loader = DataLoader(test_dataset, batch_size=batch_size, shuffle=False)\n",
        "  model.eval()\n",
        "  with torch.no_grad():\n",
        "      for batch in tqdm(loader, desc='Evaluation', leave=False):\n",
        "          input_ids = batch['input_ids'].squeeze().to(device)\n",
        "          attention_mask = batch['attention_mask'].squeeze().to(device)\n",
        "          emotion_labels = batch['emotion_labels'].squeeze().to(device)\n",
        "          trigger_label = batch['trigger_label'].squeeze().to(device)\n",
        "          emotion_logits, trigger_logits = model(input_ids, attention_mask)\n",
        "\n",
        "          unrolled_predictions_emotion.append(emotion_logits)\n",
        "          unrolled_labels_emotion.append(emotion_labels)\n",
        "          unrolled_predictions_trigger.append(trigger_logits)\n",
        "          unrolled_labels_trigger.append(trigger_label)\n",
        "\n",
        "  average_sequence_f1_emotion, average_sequence_f1_trigger, \\\n",
        "  average_sequence_p_emotion, average_sequence_p_trigger,\\\n",
        "  average_sequence_r_emotion, average_sequence_r_trigger = compute_sequence_f1(\n",
        "      [unrolled_predictions_emotion, unrolled_predictions_trigger],\n",
        "      [unrolled_labels_emotion, unrolled_labels_trigger]\n",
        "  )\n",
        "\n",
        "  unrolled_sequence_f1_emotion, unrolled_sequence_f1_trigger,unrolled_sequence_p_emotion, \\\n",
        "  unrolled_sequence_p_trigger,unrolled_sequence_r_emotion, unrolled_sequence_r_trigger, \\\n",
        "  cm_emotion,cm_trigger = compute_unrolled_sequence_f1(\n",
        "      [unrolled_predictions_emotion, unrolled_predictions_trigger],\n",
        "      [unrolled_labels_emotion, unrolled_labels_trigger]\n",
        "  )\n",
        "  model.train()\n",
        "  print(f\"Average Sequence F1 (Emotion):  {average_sequence_f1_emotion:03f}\")\n",
        "  print(f\"Average Sequence F1 (Trigger): {average_sequence_f1_trigger:03f}\")\n",
        "  print(f\"Unrolled Sequence F1 (Emotion): {unrolled_sequence_f1_emotion.item():03f}\")\n",
        "  print(f\"Unrolled Sequence F1 (Trigger): {unrolled_sequence_f1_trigger.item():03f}\")\n",
        "  return (average_sequence_f1_emotion, average_sequence_f1_trigger, unrolled_sequence_f1_emotion, unrolled_sequence_f1_trigger), (average_sequence_p_emotion, average_sequence_p_trigger,unrolled_sequence_p_emotion,unrolled_sequence_p_trigger), (average_sequence_r_emotion, average_sequence_r_trigger,unrolled_sequence_r_emotion, unrolled_sequence_r_trigger),(cm_emotion,cm_trigger)"
      ],
      "metadata": {
        "id": "PhPnLK7ZAQxE",
        "execution": {
          "iopub.status.busy": "2024-02-14T15:02:53.638868Z",
          "iopub.execute_input": "2024-02-14T15:02:53.639403Z",
          "iopub.status.idle": "2024-02-14T15:02:53.652945Z",
          "shell.execute_reply.started": "2024-02-14T15:02:53.639364Z",
          "shell.execute_reply": "2024-02-14T15:02:53.652114Z"
        },
        "trusted": true
      },
      "execution_count": null,
      "outputs": []
    },
    {
      "cell_type": "markdown",
      "source": [
        "## Baseline BERT Model"
      ],
      "metadata": {
        "id": "5-oF31k5JxDt"
      }
    },
    {
      "cell_type": "code",
      "source": [
        "class BERTModel(torch.nn.Module):\n",
        "    def __init__(self, freeze_embeddings=False):\n",
        "        super(BERTModel, self).__init__()\n",
        "        self.bert = BertModel.from_pretrained('bert-base-uncased')\n",
        "        if freeze_embeddings:\n",
        "            for name, param in self.bert.named_parameters():\n",
        "                if 'embeddings' in name:\n",
        "                    param.requires_grad = False\n",
        "        self.emotion_head = torch.nn.Linear(self.bert.config.hidden_size, len(emotions))\n",
        "        self.trigger_head = torch.nn.Linear(self.bert.config.hidden_size, len(triggers))\n",
        "\n",
        "    def forward(self, input_ids, attention_mask):\n",
        "        outputs = self.bert(input_ids=input_ids, attention_mask=attention_mask, return_dict=True)\n",
        "        pooled_output = outputs['pooler_output']\n",
        "        emotion_logits = self.emotion_head(pooled_output)\n",
        "        trigger_logits = self.trigger_head(pooled_output)\n",
        "\n",
        "        return emotion_logits, trigger_logits"
      ],
      "metadata": {
        "id": "MfLGTU4Mkw3V",
        "execution": {
          "iopub.status.busy": "2024-02-14T14:42:05.346996Z",
          "iopub.execute_input": "2024-02-14T14:42:05.347376Z",
          "iopub.status.idle": "2024-02-14T14:42:05.361987Z",
          "shell.execute_reply.started": "2024-02-14T14:42:05.347342Z",
          "shell.execute_reply": "2024-02-14T14:42:05.361114Z"
        },
        "trusted": true
      },
      "execution_count": null,
      "outputs": []
    },
    {
      "cell_type": "code",
      "source": [
        "tokenizer = BertTokenizer.from_pretrained('bert-base-uncased')\n",
        "\n",
        "input_ids_train, attention_mask_train = tokenize_padding(tokenizer,train_data['speakers'], train_data['utterances'])\n",
        "input_ids_val, attention_mask_val = tokenize_padding(tokenizer,val_data['speakers'], val_data['utterances'])\n",
        "input_ids_test, attention_mask_test = tokenize_padding(tokenizer,test_data['speakers'], test_data['utterances'])\n",
        "\n",
        "train_dataset = MyDataset(input_ids_train, attention_mask_train, train_data['emotions'],\n",
        "                              train_data['triggers'])\n",
        "validation_dataset = MyDataset(input_ids_val, attention_mask_val, val_data['emotions'],\n",
        "                             val_data['triggers'])\n",
        "test_dataset = MyDataset(input_ids_test, attention_mask_test, test_data['emotions'],\n",
        "                             test_data['triggers'])"
      ],
      "metadata": {
        "execution": {
          "iopub.status.busy": "2024-02-14T14:42:05.363000Z",
          "iopub.execute_input": "2024-02-14T14:42:05.363782Z",
          "iopub.status.idle": "2024-02-14T14:42:24.691799Z",
          "shell.execute_reply.started": "2024-02-14T14:42:05.363757Z",
          "shell.execute_reply": "2024-02-14T14:42:24.690766Z"
        },
        "trusted": true,
        "colab": {
          "base_uri": "https://localhost:8080/"
        },
        "id": "1NCerPrEzIk1",
        "outputId": "4c502b23-913c-4603-9954-d79451f49972"
      },
      "execution_count": null,
      "outputs": [
        {
          "output_type": "stream",
          "name": "stderr",
          "text": [
            "100%|██████████| 3200/3200 [00:12<00:00, 265.48it/s]\n",
            "100%|██████████| 400/400 [00:01<00:00, 270.66it/s]\n",
            "100%|██████████| 400/400 [00:01<00:00, 205.02it/s]\n"
          ]
        }
      ]
    },
    {
      "cell_type": "code",
      "source": [
        "# Applying class weights to the loss function\n",
        "\n",
        "device = torch.device(\"cuda\" if torch.cuda.is_available() else \"cpu\")\n",
        "total_samples = len(train_data)\n",
        "\n",
        "#[number_of_samples_class_0, number_of_samples_class_1, ..., number_of_samples_class_N]\n",
        "class_samples_tri = size_trigger\n",
        "\n",
        "class_weights_tri = torch.tensor([total_samples / class_samples_tri[i] for i in range(len(class_samples_tri))]).to(device)\n",
        "\n",
        "class_weights_tri = class_weights_tri.float()\n",
        "\n",
        "criterion_emotion = torch.nn.CrossEntropyLoss()\n",
        "criterion_trigger = torch.nn.CrossEntropyLoss(weight=class_weights_tri)"
      ],
      "metadata": {
        "execution": {
          "iopub.status.busy": "2024-02-14T14:42:24.693207Z",
          "iopub.execute_input": "2024-02-14T14:42:24.693536Z",
          "iopub.status.idle": "2024-02-14T14:42:24.956823Z",
          "shell.execute_reply.started": "2024-02-14T14:42:24.693507Z",
          "shell.execute_reply": "2024-02-14T14:42:24.955921Z"
        },
        "trusted": true,
        "id": "JHEDVBeTzIk1"
      },
      "execution_count": null,
      "outputs": []
    },
    {
      "cell_type": "code",
      "source": [
        "num_epochs = 4\n",
        "batch_size = 32\n",
        "\n",
        "train_loader = DataLoader(train_dataset, batch_size=batch_size, shuffle=True, collate_fn=collate_fn)\n",
        "freezed_embeddings = True\n",
        "\n",
        "device = torch.device(\"cuda\" if torch.cuda.is_available() else \"cpu\")\n",
        "BERT_baseline = BERTModel(freezed_embeddings).to(device)\n",
        "optimizer = torch.optim.AdamW(BERT_baseline.parameters(), lr=1e-5)\n"
      ],
      "metadata": {
        "id": "X9yT4HSYPXV1",
        "colab": {
          "base_uri": "https://localhost:8080/"
        },
        "outputId": "d8f4bf2f-11d7-4be0-d12b-5d582fe35ffd",
        "execution": {
          "iopub.status.busy": "2024-02-14T14:46:30.901247Z",
          "iopub.execute_input": "2024-02-14T14:46:30.902220Z",
          "iopub.status.idle": "2024-02-14T14:46:32.426137Z",
          "shell.execute_reply.started": "2024-02-14T14:46:30.902167Z",
          "shell.execute_reply": "2024-02-14T14:46:32.425122Z"
        },
        "trusted": true
      },
      "execution_count": null,
      "outputs": [
        {
          "output_type": "stream",
          "name": "stderr",
          "text": [
            "Some weights of the model checkpoint at bert-base-uncased were not used when initializing BertModel: ['cls.predictions.bias', 'cls.predictions.transform.LayerNorm.bias', 'cls.predictions.transform.dense.bias', 'cls.predictions.transform.LayerNorm.weight', 'cls.predictions.transform.dense.weight', 'cls.seq_relationship.bias', 'cls.seq_relationship.weight']\n",
            "- This IS expected if you are initializing BertModel from the checkpoint of a model trained on another task or with another architecture (e.g. initializing a BertForSequenceClassification model from a BertForPreTraining model).\n",
            "- This IS NOT expected if you are initializing BertModel from the checkpoint of a model that you expect to be exactly identical (initializing a BertForSequenceClassification model from a BertForSequenceClassification model).\n"
          ]
        }
      ]
    },
    {
      "cell_type": "code",
      "source": [
        "train_model(BERT_baseline,num_epochs,batch_size)"
      ],
      "metadata": {
        "execution": {
          "iopub.status.busy": "2024-02-14T15:03:06.008083Z",
          "iopub.execute_input": "2024-02-14T15:03:06.008794Z",
          "iopub.status.idle": "2024-02-14T15:03:08.374035Z",
          "shell.execute_reply.started": "2024-02-14T15:03:06.008763Z",
          "shell.execute_reply": "2024-02-14T15:03:08.372431Z"
        },
        "trusted": true,
        "colab": {
          "base_uri": "https://localhost:8080/"
        },
        "id": "UuvblOA9zIk2",
        "outputId": "9d1396c2-9889-45b1-ed57-f60ed26ef815"
      },
      "execution_count": null,
      "outputs": [
        {
          "output_type": "stream",
          "name": "stderr",
          "text": []
        },
        {
          "output_type": "stream",
          "name": "stdout",
          "text": [
            "Epoch 1, Average Loss: 2.1474808537960053\n"
          ]
        },
        {
          "output_type": "stream",
          "name": "stderr",
          "text": []
        },
        {
          "output_type": "stream",
          "name": "stdout",
          "text": [
            "Average Sequence F1 (Emotion):  0.558764\n",
            "Average Sequence F1 (Trigger): 0.447395\n",
            "Unrolled Sequence F1 (Emotion): 0.484425\n",
            "Unrolled Sequence F1 (Trigger): 0.365193\n"
          ]
        },
        {
          "output_type": "stream",
          "name": "stderr",
          "text": []
        },
        {
          "output_type": "stream",
          "name": "stdout",
          "text": [
            "Epoch 2, Average Loss: 1.7797433674335479\n"
          ]
        },
        {
          "output_type": "stream",
          "name": "stderr",
          "text": []
        },
        {
          "output_type": "stream",
          "name": "stdout",
          "text": [
            "Average Sequence F1 (Emotion):  0.597502\n",
            "Average Sequence F1 (Trigger): 0.582672\n",
            "Unrolled Sequence F1 (Emotion): 0.553322\n",
            "Unrolled Sequence F1 (Trigger): 0.383693\n"
          ]
        },
        {
          "output_type": "stream",
          "name": "stderr",
          "text": []
        },
        {
          "output_type": "stream",
          "name": "stdout",
          "text": [
            "Epoch 3, Average Loss: 1.5396949636936188\n"
          ]
        },
        {
          "output_type": "stream",
          "name": "stderr",
          "text": []
        },
        {
          "output_type": "stream",
          "name": "stdout",
          "text": [
            "Average Sequence F1 (Emotion):  0.577211\n",
            "Average Sequence F1 (Trigger): 0.502506\n",
            "Unrolled Sequence F1 (Emotion): 0.538893\n",
            "Unrolled Sequence F1 (Trigger): 0.351958\n"
          ]
        },
        {
          "output_type": "stream",
          "name": "stderr",
          "text": []
        },
        {
          "output_type": "stream",
          "name": "stdout",
          "text": [
            "Epoch 4, Average Loss: 1.3463831901550294\n"
          ]
        },
        {
          "output_type": "stream",
          "name": "stderr",
          "text": []
        },
        {
          "output_type": "stream",
          "name": "stdout",
          "text": [
            "Average Sequence F1 (Emotion):  0.580322\n",
            "Average Sequence F1 (Trigger): 0.553081\n",
            "Unrolled Sequence F1 (Emotion): 0.547782\n",
            "Unrolled Sequence F1 (Trigger): 0.363267\n"
          ]
        }
      ]
    },
    {
      "cell_type": "code",
      "source": [
        "f1_Bert, p_Bert, r_Bert, cm_Bert = test_model('test',BERT_baseline)"
      ],
      "metadata": {
        "execution": {
          "iopub.status.busy": "2024-02-14T15:03:14.825500Z",
          "iopub.execute_input": "2024-02-14T15:03:14.826389Z",
          "iopub.status.idle": "2024-02-14T15:03:27.329851Z",
          "shell.execute_reply.started": "2024-02-14T15:03:14.826348Z",
          "shell.execute_reply": "2024-02-14T15:03:27.328873Z"
        },
        "trusted": true,
        "colab": {
          "base_uri": "https://localhost:8080/"
        },
        "id": "J7ujbrP0zIk2",
        "outputId": "b3584298-6be3-42eb-9e54-16344bfad7b1"
      },
      "execution_count": null,
      "outputs": [
        {
          "output_type": "stream",
          "name": "stderr",
          "text": []
        },
        {
          "output_type": "stream",
          "name": "stdout",
          "text": [
            "Average Sequence F1 (Emotion):  0.611169\n",
            "Average Sequence F1 (Trigger): 0.565167\n",
            "Unrolled Sequence F1 (Emotion): 0.573859\n",
            "Unrolled Sequence F1 (Trigger): 0.285439\n"
          ]
        }
      ]
    },
    {
      "cell_type": "markdown",
      "source": [
        "## Majority classifier"
      ],
      "metadata": {
        "id": "XcYo46z3J0jV"
      }
    },
    {
      "cell_type": "code",
      "source": [
        "# Reinitialise train, val and test loaders without collate_fn for Majority and Random\n",
        "batch_size = 1\n",
        "train_loader = DataLoader(train_dataset, batch_size=batch_size, shuffle=True)\n",
        "val_loader = DataLoader(validation_dataset, batch_size=batch_size, shuffle=True)\n",
        "test_loader = DataLoader(test_dataset, batch_size=batch_size, shuffle=False)"
      ],
      "metadata": {
        "id": "XStwXzaS-Z6B",
        "execution": {
          "iopub.status.busy": "2024-02-14T14:54:24.334086Z",
          "iopub.execute_input": "2024-02-14T14:54:24.334467Z",
          "iopub.status.idle": "2024-02-14T14:54:24.340114Z",
          "shell.execute_reply.started": "2024-02-14T14:54:24.334438Z",
          "shell.execute_reply": "2024-02-14T14:54:24.338916Z"
        },
        "trusted": true
      },
      "execution_count": null,
      "outputs": []
    },
    {
      "cell_type": "code",
      "source": [
        "def find_majority_class(train_loader):\n",
        "    emotion_counts = torch.zeros(7)\n",
        "    trigger_counts = torch.zeros(2)\n",
        "    negative_trigger_counts = 0\n",
        "    positive_trigger_counts = 0\n",
        "    for batch in train_loader:\n",
        "        emotion_labels = batch['emotion_labels'].squeeze()\n",
        "        trigger_labels = batch['trigger_label'].squeeze()\n",
        "        positive_trigger_counts += torch.sum(trigger_labels, dim=0)\n",
        "        # Count the zeros for the negative class (absence of a trigger)\n",
        "        # Since one-hot encoding, the absence is just the inverse of the presence\n",
        "        negative_trigger_counts += torch.sum(1 - trigger_labels, dim=0)\n",
        "        emotion_counts += torch.sum(emotion_labels, dim=0)\n",
        "\n",
        "    trigger_counts[0] = negative_trigger_counts\n",
        "    trigger_counts[1] = positive_trigger_counts\n",
        "    majority_emotion = torch.zeros_like(emotion_counts)\n",
        "    majority_emotion[torch.argmax(emotion_counts)] = 1\n",
        "    majority_trigger = torch.zeros_like(trigger_counts)\n",
        "    majority_trigger[torch.argmax(trigger_counts)] = 1\n",
        "\n",
        "    return majority_emotion, majority_trigger\n",
        "\n",
        "majority_emotion, majority_trigger = find_majority_class(train_loader)\n",
        "majority_emotion, majority_trigger"
      ],
      "metadata": {
        "id": "EdfQ_Tkn0Hzj",
        "execution": {
          "iopub.status.busy": "2024-02-14T14:54:25.959168Z",
          "iopub.execute_input": "2024-02-14T14:54:25.960095Z",
          "iopub.status.idle": "2024-02-14T14:54:26.579139Z",
          "shell.execute_reply.started": "2024-02-14T14:54:25.960064Z",
          "shell.execute_reply": "2024-02-14T14:54:26.578181Z"
        },
        "trusted": true,
        "colab": {
          "base_uri": "https://localhost:8080/"
        },
        "outputId": "dbbf71d4-42ee-4601-8ba1-65399dbb7b3c"
      },
      "execution_count": null,
      "outputs": [
        {
          "output_type": "execute_result",
          "data": {
            "text/plain": [
              "(tensor([0., 0., 0., 0., 1., 0., 0.]), tensor([1., 0.]))"
            ]
          },
          "metadata": {},
          "execution_count": 69
        }
      ]
    },
    {
      "cell_type": "code",
      "source": [
        "def majority_classifier(majority_emotion, majority_trigger, test_loader):\n",
        "    all_emotion_predictions = []\n",
        "    all_trigger_predictions = []\n",
        "    all_emotion_labels = []\n",
        "    all_trigger_labels = []\n",
        "\n",
        "    with torch.no_grad():\n",
        "        for batch in tqdm(test_loader, desc='Evaluation', leave=False):\n",
        "            emotion_labels = batch['emotion_labels']\n",
        "            trigger_labels = batch['trigger_label']\n",
        "\n",
        "            for emotion_lab, trigger_lab in zip(emotion_labels, trigger_labels):\n",
        "                if emotion_lab.ndim == 1 and emotion_lab.size(0) == 1:\n",
        "                    emotion_lab = emotion_lab.unsqueeze(0)\n",
        "                if trigger_lab.ndim == 1 and trigger_lab.size(0) == 1:\n",
        "                    trigger_lab = trigger_lab.unsqueeze(0)\n",
        "\n",
        "                all_emotion_labels.append(emotion_lab)\n",
        "                all_trigger_labels.append(trigger_lab)\n",
        "\n",
        "                # Repeat the majority class prediction to match the number of utterances\n",
        "                emotion_predictions = majority_emotion.repeat(emotion_lab.size(0), 1)\n",
        "                trigger_predictions = majority_trigger.repeat(trigger_lab.size(0), 1)\n",
        "\n",
        "                all_emotion_predictions.append(emotion_predictions)\n",
        "                all_trigger_predictions.append(trigger_predictions)\n",
        "\n",
        "    average_sequence_f1_emotion, average_sequence_f1_trigger, \\\n",
        "    average_sequence_p_emotion, average_sequence_p_trigger,\\\n",
        "    average_sequence_r_emotion, average_sequence_r_trigger = compute_sequence_f1(\n",
        "        [all_emotion_predictions, all_trigger_predictions],\n",
        "        [all_emotion_labels, all_trigger_labels]\n",
        "    )\n",
        "\n",
        "    unrolled_sequence_f1_emotion, unrolled_sequence_f1_trigger,unrolled_sequence_p_emotion, \\\n",
        "    unrolled_sequence_p_trigger,unrolled_sequence_r_emotion, unrolled_sequence_r_trigger, \\\n",
        "    cm_emotion,cm_trigger = compute_unrolled_sequence_f1(\n",
        "        [all_emotion_predictions, all_trigger_predictions],\n",
        "        [all_emotion_labels, all_trigger_labels]\n",
        "    )\n",
        "\n",
        "    return (average_sequence_f1_emotion, average_sequence_f1_trigger, unrolled_sequence_f1_emotion, unrolled_sequence_f1_trigger), (average_sequence_p_emotion, average_sequence_p_trigger,unrolled_sequence_p_emotion,unrolled_sequence_p_trigger), (average_sequence_r_emotion, average_sequence_r_trigger,unrolled_sequence_r_emotion, unrolled_sequence_r_trigger),(cm_emotion,cm_trigger)\n",
        "# Assume majority_emotion and majority_trigger are tensors of the majority class (one-hot encoded)\n",
        "# and test_loader is the DataLoader instance for the test dataset.\n",
        "f1_majority, p_majority, r_majority, cm_majority = majority_classifier(majority_emotion, majority_trigger, test_loader)\n",
        "print(f\"Average Sequence F1 (Emotion): {f1_majority[0]}\")\n",
        "print(f\"Average Sequence F1 (Trigger): {f1_majority[1]}\")\n",
        "print(f\"Unrolled Sequence F1 (Emotion): {f1_majority[2]}\")\n",
        "print(f\"Unrolled Sequence F1 (Trigger): {f1_majority[3]}\")"
      ],
      "metadata": {
        "id": "J6KeegKyC0d9",
        "execution": {
          "iopub.status.busy": "2024-02-14T15:06:31.534639Z",
          "iopub.execute_input": "2024-02-14T15:06:31.535559Z",
          "iopub.status.idle": "2024-02-14T15:06:35.379413Z",
          "shell.execute_reply.started": "2024-02-14T15:06:31.535524Z",
          "shell.execute_reply": "2024-02-14T15:06:35.378352Z"
        },
        "trusted": true,
        "colab": {
          "base_uri": "https://localhost:8080/"
        },
        "outputId": "f7de9177-410f-4491-c569-e611d3950e87"
      },
      "execution_count": null,
      "outputs": [
        {
          "output_type": "stream",
          "name": "stderr",
          "text": []
        },
        {
          "output_type": "stream",
          "name": "stdout",
          "text": [
            "Average Sequence F1 (Emotion): 0.4168393611907959\n",
            "Average Sequence F1 (Trigger): 0.0\n",
            "Unrolled Sequence F1 (Emotion): 0.24936573207378387\n",
            "Unrolled Sequence F1 (Trigger): 0.0\n"
          ]
        }
      ]
    },
    {
      "cell_type": "markdown",
      "source": [
        "## Random Classifier"
      ],
      "metadata": {
        "id": "iA_NcO9QTaXW"
      }
    },
    {
      "cell_type": "code",
      "source": [
        "def random_classifier(test_loader, emotion_distribution, trigger_distribution):\n",
        "    all_emotion_predictions = []\n",
        "    all_trigger_predictions = []\n",
        "    all_emotion_labels = []\n",
        "    all_trigger_labels = []\n",
        "\n",
        "    with torch.no_grad():\n",
        "        for batch in tqdm(test_loader, desc='Evaluation', leave=False):\n",
        "            emotion_labels = batch['emotion_labels']\n",
        "            trigger_labels = batch['trigger_label']\n",
        "\n",
        "            for emotion_lab, trigger_lab in zip(emotion_labels, trigger_labels):\n",
        "                if emotion_lab.ndim == 1 and emotion_lab.size(0) == 1:\n",
        "                    emotion_lab = emotion_lab.unsqueeze(0)\n",
        "                if trigger_lab.ndim == 1 and trigger_lab.size(0) == 1:\n",
        "                    trigger_lab = trigger_lab.unsqueeze(0)\n",
        "\n",
        "                all_emotion_labels.append(emotion_lab)\n",
        "                all_trigger_labels.append(trigger_lab)\n",
        "\n",
        "                random_emotion_predictions = torch.randint(0, 2, (emotion_lab.size(0), 7))  # Randomly 0 or 1 for each emotion\n",
        "                all_emotion_predictions.append(random_emotion_predictions.float())\n",
        "\n",
        "                random_trigger_probs = torch.rand((trigger_lab.size(0), 1))\n",
        "                random_trigger_predictions = (random_trigger_probs < trigger_distribution).long()\n",
        "                random_trigger_predictions = torch.cat((random_trigger_predictions, 1 - random_trigger_predictions), dim=1)\n",
        "                all_trigger_predictions.append(random_trigger_predictions.float())\n",
        "\n",
        "    average_sequence_f1_emotion, average_sequence_f1_trigger, \\\n",
        "    average_sequence_p_emotion, average_sequence_p_trigger,\\\n",
        "    average_sequence_r_emotion, average_sequence_r_trigger = compute_sequence_f1(\n",
        "        [all_emotion_predictions, all_trigger_predictions],\n",
        "        [all_emotion_labels, all_trigger_labels]\n",
        "    )\n",
        "    unrolled_sequence_f1_emotion, unrolled_sequence_f1_trigger,unrolled_sequence_p_emotion, \\\n",
        "    unrolled_sequence_p_trigger,unrolled_sequence_r_emotion, unrolled_sequence_r_trigger, \\\n",
        "    cm_emotion,cm_trigger = compute_unrolled_sequence_f1(\n",
        "        [all_emotion_predictions, all_trigger_predictions],\n",
        "        [all_emotion_labels, all_trigger_labels]\n",
        "    )\n",
        "\n",
        "    return (average_sequence_f1_emotion, average_sequence_f1_trigger, unrolled_sequence_f1_emotion, unrolled_sequence_f1_trigger), (average_sequence_p_emotion, average_sequence_p_trigger,unrolled_sequence_p_emotion,unrolled_sequence_p_trigger), (average_sequence_r_emotion, average_sequence_r_trigger,unrolled_sequence_r_emotion, unrolled_sequence_r_trigger),(cm_emotion,cm_trigger)\n",
        "\n",
        "trigger_distribution = 0.5\n",
        "f1_random, p_random, r_random, cm_random = random_classifier(test_loader,\\\n",
        "                                                             emotion_distribution=None,\n",
        "                                                             trigger_distribution=trigger_distribution)\n",
        "\n",
        "print(f\"Random Classifier Average Sequence F1 (Emotion): {f1_random[0]}\")\n",
        "print(f\"Random Classifier Average Sequence F1 (Trigger): {f1_random[1]}\")\n",
        "print(f\"Random Classifier Unrolled Sequence F1 (Emotion): {f1_random[2]}\")\n",
        "print(f\"Random Classifier Unrolled Sequence F1 (Trigger): {f1_random[3]}\")"
      ],
      "metadata": {
        "id": "PyrbLyM5QezV",
        "execution": {
          "iopub.status.busy": "2024-02-14T15:16:13.928851Z",
          "iopub.execute_input": "2024-02-14T15:16:13.929285Z",
          "iopub.status.idle": "2024-02-14T15:16:17.756855Z",
          "shell.execute_reply.started": "2024-02-14T15:16:13.929252Z",
          "shell.execute_reply": "2024-02-14T15:16:17.755901Z"
        },
        "trusted": true,
        "colab": {
          "base_uri": "https://localhost:8080/"
        },
        "outputId": "7a636570-b4f2-4ab9-a2b0-ebc5b24fa12f"
      },
      "execution_count": null,
      "outputs": [
        {
          "output_type": "stream",
          "name": "stderr",
          "text": []
        },
        {
          "output_type": "stream",
          "name": "stdout",
          "text": [
            "Random Classifier Average Sequence F1 (Emotion): 0.0971224382519722\n",
            "Random Classifier Average Sequence F1 (Trigger): 0.4582500159740448\n",
            "Random Classifier Unrolled Sequence F1 (Emotion): 0.07885299623012543\n",
            "Random Classifier Unrolled Sequence F1 (Trigger): 0.21240441501140594\n"
          ]
        }
      ]
    },
    {
      "cell_type": "markdown",
      "source": [
        "# Custom BERT Implementation\n"
      ],
      "metadata": {
        "id": "DJLNVH-pXymq"
      }
    },
    {
      "cell_type": "markdown",
      "source": [
        "The below model combines the Frozen Embeddings, LSTM layer for providing additional context, and a linear layer to help with the classification."
      ],
      "metadata": {
        "id": "fcSlnUW8Fps7"
      }
    },
    {
      "cell_type": "code",
      "source": [
        "import torch\n",
        "from transformers import BertModel, BertTokenizer\n",
        "\n",
        "class BERTModelLSTM(torch.nn.Module):\n",
        "    def __init__(self, freeze_embeddings=True, lstm_hidden_size=64, lstm_num_layers=1):\n",
        "        super(BERTModelLSTM, self).__init__()\n",
        "        self.bert = BertModel.from_pretrained('bert-base-uncased')\n",
        "        if freeze_embeddings:\n",
        "            for name, param in self.bert.named_parameters():\n",
        "                if 'embeddings' in name:\n",
        "                    param.requires_grad = False\n",
        "\n",
        "        self.additional_lstm_layer = torch.nn.LSTM(input_size=self.bert.config.hidden_size,\n",
        "                                                  hidden_size=lstm_hidden_size,\n",
        "                                                  num_layers=lstm_num_layers,\n",
        "                                                  batch_first=True,\n",
        "                                                  bidirectional=True)\n",
        "        linear_size = lstm_hidden_size // 2\n",
        "        self.additional_linear_layer = torch.nn.Linear(lstm_hidden_size * 2, linear_size)\n",
        "\n",
        "        self.emotion_head = torch.nn.Linear(linear_size, len(emotions))\n",
        "        self.trigger_head = torch.nn.Linear(linear_size, len(triggers))\n",
        "\n",
        "    def forward(self, input_ids, attention_mask):\n",
        "        outputs = self.bert(input_ids=input_ids, attention_mask=attention_mask, return_dict=True)\n",
        "        pooled_output = outputs['pooler_output']\n",
        "\n",
        "        lstm_output, _ = self.additional_lstm_layer(pooled_output)\n",
        "        additional_logits = self.additional_linear_layer(lstm_output[:, :])\n",
        "\n",
        "        emotion_logits = self.emotion_head(additional_logits)\n",
        "        trigger_logits = self.trigger_head(additional_logits)\n",
        "        return emotion_logits, trigger_logits\n"
      ],
      "metadata": {
        "execution": {
          "iopub.status.busy": "2024-02-14T15:17:41.775238Z",
          "iopub.execute_input": "2024-02-14T15:17:41.776290Z",
          "iopub.status.idle": "2024-02-14T15:17:41.786958Z",
          "shell.execute_reply.started": "2024-02-14T15:17:41.776255Z",
          "shell.execute_reply": "2024-02-14T15:17:41.786033Z"
        },
        "trusted": true,
        "id": "osyl9vg2zIk3"
      },
      "execution_count": null,
      "outputs": []
    },
    {
      "cell_type": "code",
      "source": [
        "num_epochs = 4\n",
        "batch_size = 32\n",
        "\n",
        "train_loader = DataLoader(train_dataset, batch_size=batch_size, shuffle=True, collate_fn=collate_fn)\n",
        "freezed_embeddings = True\n",
        "\n",
        "device = torch.device(\"cuda\" if torch.cuda.is_available() else \"cpu\")\n",
        "BERT_LSTM = BERTModelLSTM(freezed_embeddings).to(device)\n",
        "optimizer = torch.optim.AdamW(BERT_LSTM.parameters(), lr=1e-5)"
      ],
      "metadata": {
        "execution": {
          "iopub.status.busy": "2024-02-14T15:17:44.146900Z",
          "iopub.execute_input": "2024-02-14T15:17:44.147734Z",
          "iopub.status.idle": "2024-02-14T15:17:45.720730Z",
          "shell.execute_reply.started": "2024-02-14T15:17:44.147688Z",
          "shell.execute_reply": "2024-02-14T15:17:45.719613Z"
        },
        "trusted": true,
        "colab": {
          "base_uri": "https://localhost:8080/"
        },
        "id": "B83V14o-zIk3",
        "outputId": "057f5ec4-d2c6-48b2-9851-9af5a1d4b0a4"
      },
      "execution_count": null,
      "outputs": [
        {
          "output_type": "stream",
          "name": "stderr",
          "text": [
            "Some weights of the model checkpoint at bert-base-uncased were not used when initializing BertModel: ['cls.predictions.bias', 'cls.predictions.transform.LayerNorm.bias', 'cls.predictions.transform.dense.bias', 'cls.predictions.transform.LayerNorm.weight', 'cls.predictions.transform.dense.weight', 'cls.seq_relationship.bias', 'cls.seq_relationship.weight']\n",
            "- This IS expected if you are initializing BertModel from the checkpoint of a model trained on another task or with another architecture (e.g. initializing a BertForSequenceClassification model from a BertForPreTraining model).\n",
            "- This IS NOT expected if you are initializing BertModel from the checkpoint of a model that you expect to be exactly identical (initializing a BertForSequenceClassification model from a BertForSequenceClassification model).\n"
          ]
        }
      ]
    },
    {
      "cell_type": "code",
      "source": [
        "train_model(BERT_LSTM,num_epochs,batch_size)\n",
        "f1_Bert_LSTM, p_Bert_LSTM, r_Bert_LSTM, cm_Bert_LSTM = test_model('test',BERT_LSTM)"
      ],
      "metadata": {
        "execution": {
          "iopub.status.busy": "2024-02-14T15:18:36.624106Z",
          "iopub.execute_input": "2024-02-14T15:18:36.624665Z",
          "iopub.status.idle": "2024-02-14T15:22:04.648932Z",
          "shell.execute_reply.started": "2024-02-14T15:18:36.624626Z",
          "shell.execute_reply": "2024-02-14T15:22:04.647855Z"
        },
        "trusted": true,
        "colab": {
          "base_uri": "https://localhost:8080/"
        },
        "id": "xRrUcio9zIk3",
        "outputId": "db4f2215-2a0d-4db8-f7e7-7e4d2a1f3095"
      },
      "execution_count": null,
      "outputs": [
        {
          "output_type": "stream",
          "name": "stderr",
          "text": []
        },
        {
          "output_type": "stream",
          "name": "stdout",
          "text": [
            "Epoch 1, Average Loss: 2.4165882992744447\n"
          ]
        },
        {
          "output_type": "stream",
          "name": "stderr",
          "text": []
        },
        {
          "output_type": "stream",
          "name": "stdout",
          "text": [
            "Average Sequence F1 (Emotion):  0.431885\n",
            "Average Sequence F1 (Trigger): 0.912272\n",
            "Unrolled Sequence F1 (Emotion): 0.266918\n",
            "Unrolled Sequence F1 (Trigger): 0.531463\n"
          ]
        },
        {
          "output_type": "stream",
          "name": "stderr",
          "text": []
        },
        {
          "output_type": "stream",
          "name": "stdout",
          "text": [
            "Epoch 2, Average Loss: 2.1838596844673157\n"
          ]
        },
        {
          "output_type": "stream",
          "name": "stderr",
          "text": []
        },
        {
          "output_type": "stream",
          "name": "stdout",
          "text": [
            "Average Sequence F1 (Emotion):  0.487043\n",
            "Average Sequence F1 (Trigger): 0.782704\n",
            "Unrolled Sequence F1 (Emotion): 0.368533\n",
            "Unrolled Sequence F1 (Trigger): 0.580501\n"
          ]
        },
        {
          "output_type": "stream",
          "name": "stderr",
          "text": []
        },
        {
          "output_type": "stream",
          "name": "stdout",
          "text": [
            "Epoch 3, Average Loss: 2.025502256155014\n"
          ]
        },
        {
          "output_type": "stream",
          "name": "stderr",
          "text": []
        },
        {
          "output_type": "stream",
          "name": "stdout",
          "text": [
            "Average Sequence F1 (Emotion):  0.526217\n",
            "Average Sequence F1 (Trigger): 0.807853\n",
            "Unrolled Sequence F1 (Emotion): 0.425766\n",
            "Unrolled Sequence F1 (Trigger): 0.573196\n"
          ]
        },
        {
          "output_type": "stream",
          "name": "stderr",
          "text": []
        },
        {
          "output_type": "stream",
          "name": "stdout",
          "text": [
            "Epoch 4, Average Loss: 1.8797898364067078\n"
          ]
        },
        {
          "output_type": "stream",
          "name": "stderr",
          "text": []
        },
        {
          "output_type": "stream",
          "name": "stdout",
          "text": [
            "Average Sequence F1 (Emotion):  0.558128\n",
            "Average Sequence F1 (Trigger): 0.766311\n",
            "Unrolled Sequence F1 (Emotion): 0.493214\n",
            "Unrolled Sequence F1 (Trigger): 0.579934\n"
          ]
        },
        {
          "output_type": "stream",
          "name": "stderr",
          "text": []
        },
        {
          "output_type": "stream",
          "name": "stdout",
          "text": [
            "Average Sequence F1 (Emotion):  0.549502\n",
            "Average Sequence F1 (Trigger): 0.876708\n",
            "Unrolled Sequence F1 (Emotion): 0.459688\n",
            "Unrolled Sequence F1 (Trigger): 0.568640\n"
          ]
        }
      ]
    },
    {
      "cell_type": "markdown",
      "source": [
        "# Error Analysis"
      ],
      "metadata": {
        "id": "yircLCltSqX5"
      }
    },
    {
      "cell_type": "markdown",
      "source": [
        "Confusion Matrices and Precision Recall curve functions"
      ],
      "metadata": {
        "id": "d07EYCS7F7Qs"
      }
    },
    {
      "cell_type": "code",
      "source": [
        "import seaborn as sns\n",
        "\n",
        "model_title = ['Bert','Random', 'Uniform', 'Bert_LSTM']\n",
        "category_labels = ['Average Emotion', 'Average Trigger', 'Unrolled Emotion', 'Unrolled Trigger']\n",
        "\n",
        "def print_cm(confusion_matrices):\n",
        "  labels = ['Unrolled Emotion', 'Unrolled Trigger']\n",
        "  fig, axes = plt.subplots(1, 2, figsize=(6, 6))\n",
        "\n",
        "  for idx, cm in enumerate(confusion_matrices):\n",
        "      ax = axes[idx % 2]\n",
        "\n",
        "      sns.heatmap(cm, annot=True, fmt='d', cmap='Blues', cbar=False, ax=ax)\n",
        "      ax.set_title(labels[idx])\n",
        "      ax.set_xlabel('Predicted')\n",
        "      ax.set_ylabel('True')\n",
        "\n",
        "  plt.tight_layout()\n",
        "  plt.show()\n",
        "\n",
        "def display_precision_recall(precision, recall, model_title, category_labels):\n",
        "    plt.figure()\n",
        "    plt.plot(recall, precision, marker='o', linestyle='-', label=model_title)\n",
        "\n",
        "    for i in range(len(recall)):\n",
        "        plt.annotate(category_labels[i],\n",
        "                     (recall[i], precision[i]),\n",
        "                     textcoords=\"offset points\",\n",
        "                     xytext=(0,10),\n",
        "                     ha='center')\n",
        "\n",
        "    plt.xlabel('Recall')\n",
        "    plt.ylabel('Precision')\n",
        "    plt.title('Precision-Recall Graph')\n",
        "    plt.legend()\n",
        "    plt.show()"
      ],
      "metadata": {
        "execution": {
          "iopub.status.busy": "2024-02-14T15:50:07.681988Z",
          "iopub.execute_input": "2024-02-14T15:50:07.682832Z",
          "iopub.status.idle": "2024-02-14T15:50:07.694282Z",
          "shell.execute_reply.started": "2024-02-14T15:50:07.682780Z",
          "shell.execute_reply": "2024-02-14T15:50:07.693065Z"
        },
        "trusted": true,
        "id": "uQTfWdqEzIk4"
      },
      "execution_count": null,
      "outputs": []
    },
    {
      "cell_type": "code",
      "source": [
        "def convert_tensor_to_array(tuple_of_tensor):\n",
        "    array_like = np.zeros(4)\n",
        "    for idx, val in enumerate(tuple_of_tensor):\n",
        "        array_like[idx] = val.item()\n",
        "    return array_like"
      ],
      "metadata": {
        "execution": {
          "iopub.status.busy": "2024-02-14T15:41:01.885052Z",
          "iopub.execute_input": "2024-02-14T15:41:01.885956Z",
          "iopub.status.idle": "2024-02-14T15:41:01.890755Z",
          "shell.execute_reply.started": "2024-02-14T15:41:01.885922Z",
          "shell.execute_reply": "2024-02-14T15:41:01.889813Z"
        },
        "trusted": true,
        "id": "iHJl21TJzIk4"
      },
      "execution_count": null,
      "outputs": []
    },
    {
      "cell_type": "code",
      "source": [
        "def print_metrics_model(precision,recall,cm, model_name):\n",
        "    converted_precision = convert_tensor_to_array(precision)\n",
        "    converted_recall = convert_tensor_to_array(recall)\n",
        "\n",
        "    print_cm(cm)\n",
        "    print()\n",
        "    display_precision_recall(converted_precision, converted_recall, model_name,category_labels)\n",
        "    print(converted_precision)\n",
        "    print(converted_recall)"
      ],
      "metadata": {
        "execution": {
          "iopub.status.busy": "2024-02-14T15:44:52.362140Z",
          "iopub.execute_input": "2024-02-14T15:44:52.362947Z",
          "iopub.status.idle": "2024-02-14T15:44:52.368291Z",
          "shell.execute_reply.started": "2024-02-14T15:44:52.362914Z",
          "shell.execute_reply": "2024-02-14T15:44:52.367377Z"
        },
        "trusted": true,
        "id": "jXTmQdJnzIk4"
      },
      "execution_count": null,
      "outputs": []
    },
    {
      "cell_type": "markdown",
      "source": [
        "## Bert"
      ],
      "metadata": {
        "id": "mthhg7XQzIk5"
      }
    },
    {
      "cell_type": "code",
      "source": [
        "print_metrics_model(p_Bert,r_Bert,cm_Bert,'Bert')"
      ],
      "metadata": {
        "execution": {
          "iopub.status.busy": "2024-02-14T15:45:04.272785Z",
          "iopub.execute_input": "2024-02-14T15:45:04.273544Z",
          "iopub.status.idle": "2024-02-14T15:45:04.999282Z",
          "shell.execute_reply.started": "2024-02-14T15:45:04.273509Z",
          "shell.execute_reply": "2024-02-14T15:45:04.998237Z"
        },
        "trusted": true,
        "colab": {
          "base_uri": "https://localhost:8080/",
          "height": 1000
        },
        "id": "zJ1Fg3-ZzIk5",
        "outputId": "4a9db45a-baf8-4dda-e478-a068080a308f"
      },
      "execution_count": null,
      "outputs": [
        {
          "output_type": "display_data",
          "data": {
            "text/plain": [
              "<Figure size 600x600 with 2 Axes>"
            ],
            "image/png": "[encoded data removed]"
          },
          "metadata": {}
        },
        {
          "output_type": "stream",
          "name": "stdout",
          "text": [
            "\n"
          ]
        },
        {
          "output_type": "display_data",
          "data": {
            "text/plain": [
              "<Figure size 640x480 with 1 Axes>"
            ],
            "image/png": "[encoded data removed]"
          },
          "metadata": {}
        },
        {
          "output_type": "stream",
          "name": "stdout",
          "text": [
            "[0.61116886 0.56516665 0.55782932 0.19146183]\n",
            "[0.58726394 0.30909669 0.60287613 0.56060606]\n"
          ]
        }
      ]
    },
    {
      "cell_type": "markdown",
      "source": [
        "## Majority"
      ],
      "metadata": {
        "id": "3gCOtHcezIk5"
      }
    },
    {
      "cell_type": "code",
      "source": [
        "print_metrics_model(p_majority,r_majority,cm_majority,'Majority')"
      ],
      "metadata": {
        "execution": {
          "iopub.status.busy": "2024-02-14T15:45:49.691516Z",
          "iopub.execute_input": "2024-02-14T15:45:49.691932Z",
          "iopub.status.idle": "2024-02-14T15:45:50.390513Z",
          "shell.execute_reply.started": "2024-02-14T15:45:49.691894Z",
          "shell.execute_reply": "2024-02-14T15:45:50.389240Z"
        },
        "trusted": true,
        "colab": {
          "base_uri": "https://localhost:8080/",
          "height": 1000
        },
        "id": "3hziPKmezIk5",
        "outputId": "16bf094d-b920-44c1-9a15-3f82f39a447f"
      },
      "execution_count": null,
      "outputs": [
        {
          "output_type": "display_data",
          "data": {
            "text/plain": [
              "<Figure size 600x600 with 2 Axes>"
            ],
            "image/png": "[encoded data removed]"
          },
          "metadata": {}
        },
        {
          "output_type": "stream",
          "name": "stdout",
          "text": [
            "\n"
          ]
        },
        {
          "output_type": "display_data",
          "data": {
            "text/plain": [
              "<Figure size 640x480 with 1 Axes>"
            ],
            "image/png": "[encoded data removed]"
          },
          "metadata": {}
        },
        {
          "output_type": "stream",
          "name": "stdout",
          "text": [
            "[0.41683936 0.         0.17716277 0.        ]\n",
            "[0.28111464 0.         0.42090708 0.        ]\n"
          ]
        }
      ]
    },
    {
      "cell_type": "markdown",
      "source": [
        "## Uniform"
      ],
      "metadata": {
        "id": "fyVEr6HlzIk5"
      }
    },
    {
      "cell_type": "code",
      "source": [
        "print_metrics_model(p_random,r_random,cm_random,'Random')"
      ],
      "metadata": {
        "execution": {
          "iopub.status.busy": "2024-02-14T15:46:19.053149Z",
          "iopub.execute_input": "2024-02-14T15:46:19.053554Z",
          "iopub.status.idle": "2024-02-14T15:46:19.772843Z",
          "shell.execute_reply.started": "2024-02-14T15:46:19.053524Z",
          "shell.execute_reply": "2024-02-14T15:46:19.771840Z"
        },
        "trusted": true,
        "colab": {
          "base_uri": "https://localhost:8080/",
          "height": 1000
        },
        "id": "pViqTl1hzIk5",
        "outputId": "0033d80f-1e68-46c1-92e9-f3fe75861e83"
      },
      "execution_count": null,
      "outputs": [
        {
          "output_type": "display_data",
          "data": {
            "text/plain": [
              "<Figure size 600x600 with 2 Axes>"
            ],
            "image/png": "[encoded data removed]"
          },
          "metadata": {}
        },
        {
          "output_type": "stream",
          "name": "stdout",
          "text": [
            "\n"
          ]
        },
        {
          "output_type": "display_data",
          "data": {
            "text/plain": [
              "<Figure size 640x480 with 1 Axes>"
            ],
            "image/png": "[encoded data removed]"
          },
          "metadata": {}
        },
        {
          "output_type": "stream",
          "name": "stdout",
          "text": [
            "[0.09712244 0.45825002 0.27000481 0.13691129]\n",
            "[0.09056145 0.22336392 0.10647124 0.47348484]\n"
          ]
        }
      ]
    },
    {
      "cell_type": "markdown",
      "source": [
        "## Bert_LSTM"
      ],
      "metadata": {
        "id": "QCemuDQVzIk6"
      }
    },
    {
      "cell_type": "code",
      "source": [
        "print_metrics_model(p_Bert_LSTM,r_Bert_LSTM,cm_Bert_LSTM,'Bert_LSTM')"
      ],
      "metadata": {
        "execution": {
          "iopub.status.busy": "2024-02-14T15:46:45.618471Z",
          "iopub.execute_input": "2024-02-14T15:46:45.618881Z",
          "iopub.status.idle": "2024-02-14T15:46:46.463545Z",
          "shell.execute_reply.started": "2024-02-14T15:46:45.618850Z",
          "shell.execute_reply": "2024-02-14T15:46:46.462483Z"
        },
        "trusted": true,
        "colab": {
          "base_uri": "https://localhost:8080/",
          "height": 1000
        },
        "id": "TAgKjP5azIk6",
        "outputId": "51f20aa4-1661-45e9-db94-0cad3477cab7"
      },
      "execution_count": null,
      "outputs": [
        {
          "output_type": "display_data",
          "data": {
            "text/plain": [
              "<Figure size 600x600 with 2 Axes>"
            ],
            "image/png": "[encoded data removed]"
          },
          "metadata": {}
        },
        {
          "output_type": "stream",
          "name": "stdout",
          "text": [
            "\n"
          ]
        },
        {
          "output_type": "display_data",
          "data": {
            "text/plain": [
              "<Figure size 640x480 with 1 Axes>"
            ],
            "image/png": "[encoded data removed]"
          },
          "metadata": {}
        },
        {
          "output_type": "stream",
          "name": "stdout",
          "text": [
            "[0.54950184 0.87670839 0.44878122 0.43310207]\n",
            "[0.49527481 0.56817257 0.53844029 0.8276515 ]\n"
          ]
        }
      ]
    },
    {
      "cell_type": "code",
      "source": [
        "f1_Bert = convert_tensor_to_array(f1_Bert)\n",
        "f1_majority = convert_tensor_to_array(f1_majority)\n",
        "f1_random = convert_tensor_to_array(f1_random)\n",
        "f1_Bert_LSTM = convert_tensor_to_array(f1_Bert_LSTM)\n",
        "f1_Bert,f1_majority, f1_random, f1_Bert_LSTM"
      ],
      "metadata": {
        "execution": {
          "iopub.status.busy": "2024-02-14T15:54:40.602273Z",
          "iopub.execute_input": "2024-02-14T15:54:40.602730Z",
          "iopub.status.idle": "2024-02-14T15:54:40.612552Z",
          "shell.execute_reply.started": "2024-02-14T15:54:40.602696Z",
          "shell.execute_reply": "2024-02-14T15:54:40.611264Z"
        },
        "trusted": true,
        "colab": {
          "base_uri": "https://localhost:8080/"
        },
        "id": "CR-KvC5pzIk6",
        "outputId": "e2d75902-6309-4ffb-c3c8-c340e4774c11"
      },
      "execution_count": null,
      "outputs": [
        {
          "output_type": "execute_result",
          "data": {
            "text/plain": [
              "(array([0.61116886, 0.56516665, 0.57385898, 0.28543878]),\n",
              " array([0.41683936, 0.        , 0.24936573, 0.        ]),\n",
              " array([0.09712244, 0.45825002, 0.078853  , 0.21240442]),\n",
              " array([0.54950184, 0.87670839, 0.45968848, 0.56864023]))"
            ]
          },
          "metadata": {},
          "execution_count": 113
        }
      ]
    },
    {
      "cell_type": "markdown",
      "source": [
        "Combined plot to visualise performance of models selected"
      ],
      "metadata": {
        "id": "yV_lGai2GKM0"
      }
    },
    {
      "cell_type": "code",
      "source": [
        "models = ['Bert','Random', 'Uniform', 'Bert_LSTM']\n",
        "categories = ['Average Emotion', 'Average Trigger', 'Unrolled Emotion', 'Unrolled Trigger']\n",
        "\n",
        "f1_scores_by_model = {\n",
        "    'BERT': f1_Bert,\n",
        "    'Majority': f1_majority,\n",
        "    'Uniform': f1_random,\n",
        "    'BERT_LSTM': f1_Bert_LSTM\n",
        "}\n",
        "\n",
        "plt.figure(figsize=(12, 6))\n",
        "\n",
        "for model, f1_scores in f1_scores_by_model.items():\n",
        "    plt.plot(categories, f1_scores, marker='o', label=model)\n",
        "\n",
        "plt.title('F1 Scores by Category for Different Models')\n",
        "plt.xlabel('Category')\n",
        "plt.ylabel('F1 Score')\n",
        "plt.legend(title='Model')\n",
        "plt.grid(True)\n",
        "plt.tight_layout()\n",
        "\n",
        "plt.show()"
      ],
      "metadata": {
        "execution": {
          "iopub.status.busy": "2024-02-14T15:57:33.249862Z",
          "iopub.execute_input": "2024-02-14T15:57:33.250242Z",
          "iopub.status.idle": "2024-02-14T15:57:33.653771Z",
          "shell.execute_reply.started": "2024-02-14T15:57:33.250213Z",
          "shell.execute_reply": "2024-02-14T15:57:33.652818Z"
        },
        "trusted": true,
        "colab": {
          "base_uri": "https://localhost:8080/",
          "height": 381
        },
        "id": "gGNOix10zIk6",
        "outputId": "50a4d44e-8eef-4f9b-ffc7-8b515dbf35f1"
      },
      "execution_count": null,
      "outputs": [
        {
          "output_type": "display_data",
          "data": {
            "text/plain": [
              "<Figure size 1200x600 with 1 Axes>"
            ],
            "image/png": "[encoded data removed]"
          },
          "metadata": {}
        }
      ]
    },
    {
      "cell_type": "markdown",
      "source": [
        "## Wrong Predictions"
      ],
      "metadata": {
        "id": "YsQjiZ4nzIk6"
      }
    },
    {
      "cell_type": "code",
      "source": [
        "len(input_ids_test), len(attention_mask_test)"
      ],
      "metadata": {
        "execution": {
          "iopub.status.busy": "2024-02-14T16:06:03.776267Z",
          "iopub.execute_input": "2024-02-14T16:06:03.777159Z",
          "iopub.status.idle": "2024-02-14T16:06:03.783143Z",
          "shell.execute_reply.started": "2024-02-14T16:06:03.777125Z",
          "shell.execute_reply": "2024-02-14T16:06:03.782067Z"
        },
        "trusted": true,
        "colab": {
          "base_uri": "https://localhost:8080/"
        },
        "id": "RPxaBJcSzIk6",
        "outputId": "0f57ccc0-9e1d-4e36-c2fc-72073ab168ac"
      },
      "execution_count": null,
      "outputs": [
        {
          "output_type": "execute_result",
          "data": {
            "text/plain": [
              "(400, 400)"
            ]
          },
          "metadata": {},
          "execution_count": 81
        }
      ]
    },
    {
      "cell_type": "code",
      "source": [
        "pred_emotion_list = []\n",
        "pred_trigger_list = []\n",
        "for input_ids, attention_mask in tqdm(zip(input_ids_test,attention_mask_test), desc='Evaluation', leave=False):\n",
        "    prediction = BERT_LSTM(input_ids.to(device),attention_mask.to(device))\n",
        "    pred_emotion = torch.argmax(prediction[0],dim=1).cpu()\n",
        "    pred_trigger = torch.argmax(prediction[1],dim=1).cpu()\n",
        "    pred_emotion_list.append(pred_emotion)\n",
        "    pred_trigger_list.append(pred_trigger)"
      ],
      "metadata": {
        "execution": {
          "iopub.status.busy": "2024-02-14T16:50:02.082477Z",
          "iopub.execute_input": "2024-02-14T16:50:02.083168Z",
          "iopub.status.idle": "2024-02-14T16:50:11.333918Z",
          "shell.execute_reply.started": "2024-02-14T16:50:02.083134Z",
          "shell.execute_reply": "2024-02-14T16:50:11.333051Z"
        },
        "trusted": true,
        "colab": {
          "base_uri": "https://localhost:8080/"
        },
        "id": "lbb-yNqxzIk6",
        "outputId": "6f68f1b5-7fa3-44b6-d537-a916150a024c"
      },
      "execution_count": null,
      "outputs": [
        {
          "output_type": "stream",
          "name": "stderr",
          "text": []
        }
      ]
    },
    {
      "cell_type": "code",
      "source": [
        "label_emotion_list = []\n",
        "for dialogue in test_data['emotions']:\n",
        "    label_emotion_list.append(torch.from_numpy(np.argmax(dialogue,axis=1)))"
      ],
      "metadata": {
        "execution": {
          "iopub.status.busy": "2024-02-14T16:50:14.393132Z",
          "iopub.execute_input": "2024-02-14T16:50:14.393773Z",
          "iopub.status.idle": "2024-02-14T16:50:14.474335Z",
          "shell.execute_reply.started": "2024-02-14T16:50:14.393743Z",
          "shell.execute_reply": "2024-02-14T16:50:14.473471Z"
        },
        "collapsed": true,
        "jupyter": {
          "outputs_hidden": true
        },
        "trusted": true,
        "id": "FW0iCss8zIk6"
      },
      "execution_count": null,
      "outputs": []
    },
    {
      "cell_type": "code",
      "source": [
        "label_trigger_list = []\n",
        "for dialogue in test_data['triggers']:\n",
        "    label_trigger_list.append(torch.tensor(dialogue))"
      ],
      "metadata": {
        "execution": {
          "iopub.status.busy": "2024-02-14T16:42:54.485435Z",
          "iopub.execute_input": "2024-02-14T16:42:54.486142Z",
          "iopub.status.idle": "2024-02-14T16:42:54.614547Z",
          "shell.execute_reply.started": "2024-02-14T16:42:54.486109Z",
          "shell.execute_reply": "2024-02-14T16:42:54.613711Z"
        },
        "collapsed": true,
        "jupyter": {
          "outputs_hidden": true
        },
        "trusted": true,
        "id": "fZaE7fumzIk7"
      },
      "execution_count": null,
      "outputs": []
    },
    {
      "cell_type": "code",
      "source": [
        "def count_wrong_classifications(counter,predictions,labels):\n",
        "  wrong_classifications = []\n",
        "  for idx in range(len(predictions)):\n",
        "    counter_missclassification = 0\n",
        "    for i,_ in enumerate(predictions[idx]):\n",
        "      if predictions[idx][i].item() != labels[idx][i].item():\n",
        "        counter_missclassification+=1\n",
        "    if counter_missclassification >= counter:\n",
        "      wrong_classifications.append(idx)\n",
        "  return wrong_classifications"
      ],
      "metadata": {
        "execution": {
          "iopub.status.busy": "2024-02-14T16:59:29.854841Z",
          "iopub.execute_input": "2024-02-14T16:59:29.855209Z",
          "iopub.status.idle": "2024-02-14T16:59:29.861187Z",
          "shell.execute_reply.started": "2024-02-14T16:59:29.855171Z",
          "shell.execute_reply": "2024-02-14T16:59:29.860263Z"
        },
        "trusted": true,
        "id": "NMrOtr_4zIk7"
      },
      "execution_count": null,
      "outputs": []
    },
    {
      "cell_type": "code",
      "source": [
        "threshold = 4 # no. of utterances misclassified in each dialogue\n",
        "wrong_classifications = count_wrong_classifications(threshold,pred_emotion_list,label_emotion_list)\n",
        "print('Number of emotion missclassification with threshold',threshold,':',test_data.iloc[wrong_classifications].shape[0])\n",
        "test_data.iloc[wrong_classifications]"
      ],
      "metadata": {
        "execution": {
          "iopub.status.busy": "2024-02-14T16:59:38.135004Z",
          "iopub.execute_input": "2024-02-14T16:59:38.135905Z",
          "iopub.status.idle": "2024-02-14T16:59:38.247836Z",
          "shell.execute_reply.started": "2024-02-14T16:59:38.135871Z",
          "shell.execute_reply": "2024-02-14T16:59:38.246903Z"
        },
        "trusted": true,
        "colab": {
          "base_uri": "https://localhost:8080/",
          "height": 789
        },
        "id": "QEKgKKZtzIk7",
        "outputId": "cb098b69-32bd-448f-af6e-5327c26852f8"
      },
      "execution_count": null,
      "outputs": [
        {
          "output_type": "stream",
          "name": "stdout",
          "text": [
            "Number of emotion missclassification with threshold 4 : 348\n"
          ]
        },
        {
          "output_type": "execute_result",
          "data": {
            "text/plain": [
              "            episode                                           speakers  \\\n",
              "0    utterance_3600           [Jeannine, Julio, Monica, Julio, Monica]   \n",
              "1    utterance_3601  [Jeannine, Julio, Monica, Julio, Monica, Julio...   \n",
              "2    utterance_3602  [Jeannine, Julio, Monica, Julio, Monica, Julio...   \n",
              "3    utterance_3603  [The Conductor, Ross, Woman On Train, Ross, Wo...   \n",
              "7    utterance_3607                   [Rachel, Monica, Rachel, Monica]   \n",
              "..              ...                                                ...   \n",
              "395  utterance_3995  [Chandler, All, Monica, Chandler, Ross, Chandl...   \n",
              "396  utterance_3996  [Chandler, All, Monica, Chandler, Ross, Chandl...   \n",
              "397  utterance_3997  [Chandler, All, Monica, Chandler, Ross, Chandl...   \n",
              "398  utterance_3998  [Chandler, All, Monica, Chandler, Ross, Chandl...   \n",
              "399  utterance_3999  [Chandler, All, Monica, Chandler, Ross, Chandl...   \n",
              "\n",
              "                                              emotions  \\\n",
              "0    [[0, 0, 0, 0, 1, 0, 0], [0, 0, 0, 0, 1, 0, 0],...   \n",
              "1    [[0, 0, 0, 0, 1, 0, 0], [0, 0, 0, 0, 1, 0, 0],...   \n",
              "2    [[0, 0, 0, 0, 1, 0, 0], [0, 0, 0, 0, 1, 0, 0],...   \n",
              "3    [[0, 0, 0, 0, 1, 0, 0], [0, 0, 0, 0, 0, 0, 1],...   \n",
              "7    [[0, 1, 0, 0, 0, 0, 0], [0, 0, 0, 0, 0, 1, 0],...   \n",
              "..                                                 ...   \n",
              "395  [[0, 0, 0, 0, 1, 0, 0], [0, 0, 0, 1, 0, 0, 0],...   \n",
              "396  [[0, 0, 0, 0, 1, 0, 0], [0, 0, 0, 1, 0, 0, 0],...   \n",
              "397  [[0, 0, 0, 0, 1, 0, 0], [0, 0, 0, 1, 0, 0, 0],...   \n",
              "398  [[0, 0, 0, 0, 1, 0, 0], [0, 0, 0, 1, 0, 0, 0],...   \n",
              "399  [[0, 0, 0, 0, 1, 0, 0], [0, 0, 0, 1, 0, 0, 0],...   \n",
              "\n",
              "                                            utterances  \\\n",
              "0    [Night Mon. Night Julio., Adiós., Look Julio, ...   \n",
              "1    [Night Mon. Night Julio., Adiós., Look Julio, ...   \n",
              "2    [Night Mon. Night Julio., Adiós., Look Julio, ...   \n",
              "3    [Last stop, Montreal. This stop is Montreal., ...   \n",
              "7    [Oh God, I hate my job, I hate it, I hate my j...   \n",
              "..                                                 ...   \n",
              "395  [Hey., Hey!, So how was Joan?, I broke up with...   \n",
              "396  [Hey., Hey!, So how was Joan?, I broke up with...   \n",
              "397  [Hey., Hey!, So how was Joan?, I broke up with...   \n",
              "398  [Hey., Hey!, So how was Joan?, I broke up with...   \n",
              "399  [Hey., Hey!, So how was Joan?, I broke up with...   \n",
              "\n",
              "                                              triggers  \n",
              "0                            [0.0, 0.0, 0.0, 1.0, 0.0]  \n",
              "1    [0.0, 0.0, 0.0, 0.0, 0.0, 0.0, 0.0, 0.0, 0.0, ...  \n",
              "2    [0.0, 0.0, 0.0, 0.0, 0.0, 0.0, 0.0, 0.0, 0.0, ...  \n",
              "3             [0.0, 0.0, 0.0, 0.0, 0.0, 0.0, 1.0, 0.0]  \n",
              "7                                 [0.0, 0.0, 0.0, 1.0]  \n",
              "..                                                 ...  \n",
              "395  [0.0, 0.0, 0.0, 0.0, 0.0, 0.0, 0.0, 0.0, 0.0, ...  \n",
              "396  [0.0, 0.0, 0.0, 0.0, 0.0, 0.0, 0.0, 0.0, 0.0, ...  \n",
              "397  [0.0, 0.0, 0.0, 0.0, 0.0, 0.0, 0.0, 0.0, 0.0, ...  \n",
              "398  [0.0, 0.0, 0.0, 0.0, 0.0, 0.0, 0.0, 0.0, 0.0, ...  \n",
              "399  [0.0, 0.0, 0.0, 0.0, 0.0, 0.0, 0.0, 0.0, 0.0, ...  \n",
              "\n",
              "[348 rows x 5 columns]"
            ],
            "text/html": [
              "\n",
              "  <div id=\"df-fb4461d8-ca72-497c-a2d9-b94f2483db7c\" class=\"colab-df-container\">\n",
              "    <div>\n",
              "<style scoped>\n",
              "    .dataframe tbody tr th:only-of-type {\n",
              "        vertical-align: middle;\n",
              "    }\n",
              "\n",
              "    .dataframe tbody tr th {\n",
              "        vertical-align: top;\n",
              "    }\n",
              "\n",
              "    .dataframe thead th {\n",
              "        text-align: right;\n",
              "    }\n",
              "</style>\n",
              "<table border=\"1\" class=\"dataframe\">\n",
              "  <thead>\n",
              "    <tr style=\"text-align: right;\">\n",
              "      <th></th>\n",
              "      <th>episode</th>\n",
              "      <th>speakers</th>\n",
              "      <th>emotions</th>\n",
              "      <th>utterances</th>\n",
              "      <th>triggers</th>\n",
              "    </tr>\n",
              "  </thead>\n",
              "  <tbody>\n",
              "    <tr>\n",
              "      <th>0</th>\n",
              "      <td>utterance_3600</td>\n",
              "      <td>[Jeannine, Julio, Monica, Julio, Monica]</td>\n",
              "      <td>[[0, 0, 0, 0, 1, 0, 0], [0, 0, 0, 0, 1, 0, 0],...</td>\n",
              "      <td>[Night Mon. Night Julio., Adiós., Look Julio, ...</td>\n",
              "      <td>[0.0, 0.0, 0.0, 1.0, 0.0]</td>\n",
              "    </tr>\n",
              "    <tr>\n",
              "      <th>1</th>\n",
              "      <td>utterance_3601</td>\n",
              "      <td>[Jeannine, Julio, Monica, Julio, Monica, Julio...</td>\n",
              "      <td>[[0, 0, 0, 0, 1, 0, 0], [0, 0, 0, 0, 1, 0, 0],...</td>\n",
              "      <td>[Night Mon. Night Julio., Adiós., Look Julio, ...</td>\n",
              "      <td>[0.0, 0.0, 0.0, 0.0, 0.0, 0.0, 0.0, 0.0, 0.0, ...</td>\n",
              "    </tr>\n",
              "    <tr>\n",
              "      <th>2</th>\n",
              "      <td>utterance_3602</td>\n",
              "      <td>[Jeannine, Julio, Monica, Julio, Monica, Julio...</td>\n",
              "      <td>[[0, 0, 0, 0, 1, 0, 0], [0, 0, 0, 0, 1, 0, 0],...</td>\n",
              "      <td>[Night Mon. Night Julio., Adiós., Look Julio, ...</td>\n",
              "      <td>[0.0, 0.0, 0.0, 0.0, 0.0, 0.0, 0.0, 0.0, 0.0, ...</td>\n",
              "    </tr>\n",
              "    <tr>\n",
              "      <th>3</th>\n",
              "      <td>utterance_3603</td>\n",
              "      <td>[The Conductor, Ross, Woman On Train, Ross, Wo...</td>\n",
              "      <td>[[0, 0, 0, 0, 1, 0, 0], [0, 0, 0, 0, 0, 0, 1],...</td>\n",
              "      <td>[Last stop, Montreal. This stop is Montreal., ...</td>\n",
              "      <td>[0.0, 0.0, 0.0, 0.0, 0.0, 0.0, 1.0, 0.0]</td>\n",
              "    </tr>\n",
              "    <tr>\n",
              "      <th>7</th>\n",
              "      <td>utterance_3607</td>\n",
              "      <td>[Rachel, Monica, Rachel, Monica]</td>\n",
              "      <td>[[0, 1, 0, 0, 0, 0, 0], [0, 0, 0, 0, 0, 1, 0],...</td>\n",
              "      <td>[Oh God, I hate my job, I hate it, I hate my j...</td>\n",
              "      <td>[0.0, 0.0, 0.0, 1.0]</td>\n",
              "    </tr>\n",
              "    <tr>\n",
              "      <th>...</th>\n",
              "      <td>...</td>\n",
              "      <td>...</td>\n",
              "      <td>...</td>\n",
              "      <td>...</td>\n",
              "      <td>...</td>\n",
              "    </tr>\n",
              "    <tr>\n",
              "      <th>395</th>\n",
              "      <td>utterance_3995</td>\n",
              "      <td>[Chandler, All, Monica, Chandler, Ross, Chandl...</td>\n",
              "      <td>[[0, 0, 0, 0, 1, 0, 0], [0, 0, 0, 1, 0, 0, 0],...</td>\n",
              "      <td>[Hey., Hey!, So how was Joan?, I broke up with...</td>\n",
              "      <td>[0.0, 0.0, 0.0, 0.0, 0.0, 0.0, 0.0, 0.0, 0.0, ...</td>\n",
              "    </tr>\n",
              "    <tr>\n",
              "      <th>396</th>\n",
              "      <td>utterance_3996</td>\n",
              "      <td>[Chandler, All, Monica, Chandler, Ross, Chandl...</td>\n",
              "      <td>[[0, 0, 0, 0, 1, 0, 0], [0, 0, 0, 1, 0, 0, 0],...</td>\n",
              "      <td>[Hey., Hey!, So how was Joan?, I broke up with...</td>\n",
              "      <td>[0.0, 0.0, 0.0, 0.0, 0.0, 0.0, 0.0, 0.0, 0.0, ...</td>\n",
              "    </tr>\n",
              "    <tr>\n",
              "      <th>397</th>\n",
              "      <td>utterance_3997</td>\n",
              "      <td>[Chandler, All, Monica, Chandler, Ross, Chandl...</td>\n",
              "      <td>[[0, 0, 0, 0, 1, 0, 0], [0, 0, 0, 1, 0, 0, 0],...</td>\n",
              "      <td>[Hey., Hey!, So how was Joan?, I broke up with...</td>\n",
              "      <td>[0.0, 0.0, 0.0, 0.0, 0.0, 0.0, 0.0, 0.0, 0.0, ...</td>\n",
              "    </tr>\n",
              "    <tr>\n",
              "      <th>398</th>\n",
              "      <td>utterance_3998</td>\n",
              "      <td>[Chandler, All, Monica, Chandler, Ross, Chandl...</td>\n",
              "      <td>[[0, 0, 0, 0, 1, 0, 0], [0, 0, 0, 1, 0, 0, 0],...</td>\n",
              "      <td>[Hey., Hey!, So how was Joan?, I broke up with...</td>\n",
              "      <td>[0.0, 0.0, 0.0, 0.0, 0.0, 0.0, 0.0, 0.0, 0.0, ...</td>\n",
              "    </tr>\n",
              "    <tr>\n",
              "      <th>399</th>\n",
              "      <td>utterance_3999</td>\n",
              "      <td>[Chandler, All, Monica, Chandler, Ross, Chandl...</td>\n",
              "      <td>[[0, 0, 0, 0, 1, 0, 0], [0, 0, 0, 1, 0, 0, 0],...</td>\n",
              "      <td>[Hey., Hey!, So how was Joan?, I broke up with...</td>\n",
              "      <td>[0.0, 0.0, 0.0, 0.0, 0.0, 0.0, 0.0, 0.0, 0.0, ...</td>\n",
              "    </tr>\n",
              "  </tbody>\n",
              "</table>\n",
              "<p>348 rows × 5 columns</p>\n",
              "</div>\n",
              "    <div class=\"colab-df-buttons\">\n",
              "\n",
              "  <div class=\"colab-df-container\">\n",
              "    <button class=\"colab-df-convert\" onclick=\"convertToInteractive('df-fb4461d8-ca72-497c-a2d9-b94f2483db7c')\"\n",
              "            title=\"Convert this dataframe to an interactive table.\"\n",
              "            style=\"display:none;\">\n",
              "\n",
              "  <svg xmlns=\"http://www.w3.org/2000/svg\" height=\"24px\" viewBox=\"0 -960 960 960\">\n",
              "    <path d=\"M120-120v-720h720v720H120Zm60-500h600v-160H180v160Zm220 220h160v-160H400v160Zm0 220h160v-160H400v160ZM180-400h160v-160H180v160Zm440 0h160v-160H620v160ZM180-180h160v-160H180v160Zm440 0h160v-160H620v160Z\"/>\n",
              "  </svg>\n",
              "    </button>\n",
              "\n",
              "  <style>\n",
              "    .colab-df-container {\n",
              "      display:flex;\n",
              "      gap: 12px;\n",
              "    }\n",
              "\n",
              "    .colab-df-convert {\n",
              "      background-color: #E8F0FE;\n",
              "      border: none;\n",
              "      border-radius: 50%;\n",
              "      cursor: pointer;\n",
              "      display: none;\n",
              "      fill: #1967D2;\n",
              "      height: 32px;\n",
              "      padding: 0 0 0 0;\n",
              "      width: 32px;\n",
              "    }\n",
              "\n",
              "    .colab-df-convert:hover {\n",
              "      background-color: #E2EBFA;\n",
              "      box-shadow: 0px 1px 2px rgba(60, 64, 67, 0.3), 0px 1px 3px 1px rgba(60, 64, 67, 0.15);\n",
              "      fill: #174EA6;\n",
              "    }\n",
              "\n",
              "    .colab-df-buttons div {\n",
              "      margin-bottom: 4px;\n",
              "    }\n",
              "\n",
              "    [theme=dark] .colab-df-convert {\n",
              "      background-color: #3B4455;\n",
              "      fill: #D2E3FC;\n",
              "    }\n",
              "\n",
              "    [theme=dark] .colab-df-convert:hover {\n",
              "      background-color: #434B5C;\n",
              "      box-shadow: 0px 1px 3px 1px rgba(0, 0, 0, 0.15);\n",
              "      filter: drop-shadow(0px 1px 2px rgba(0, 0, 0, 0.3));\n",
              "      fill: #FFFFFF;\n",
              "    }\n",
              "  </style>\n",
              "\n",
              "    <script>\n",
              "      const buttonEl =\n",
              "        document.querySelector('#df-fb4461d8-ca72-497c-a2d9-b94f2483db7c button.colab-df-convert');\n",
              "      buttonEl.style.display =\n",
              "        google.colab.kernel.accessAllowed ? 'block' : 'none';\n",
              "\n",
              "      async function convertToInteractive(key) {\n",
              "        const element = document.querySelector('#df-fb4461d8-ca72-497c-a2d9-b94f2483db7c');\n",
              "        const dataTable =\n",
              "          await google.colab.kernel.invokeFunction('convertToInteractive',\n",
              "                                                    [key], {});\n",
              "        if (!dataTable) return;\n",
              "\n",
              "        const docLinkHtml = 'Like what you see? Visit the ' +\n",
              "          '<a target=\"_blank\" href=https://colab.research.google.com/notebooks/data_table.ipynb>data table notebook</a>'\n",
              "          + ' to learn more about interactive tables.';\n",
              "        element.innerHTML = '';\n",
              "        dataTable['output_type'] = 'display_data';\n",
              "        await google.colab.output.renderOutput(dataTable, element);\n",
              "        const docLink = document.createElement('div');\n",
              "        docLink.innerHTML = docLinkHtml;\n",
              "        element.appendChild(docLink);\n",
              "      }\n",
              "    </script>\n",
              "  </div>\n",
              "\n",
              "\n",
              "<div id=\"df-60740171-cccf-49c1-95ca-92554a7727d4\">\n",
              "  <button class=\"colab-df-quickchart\" onclick=\"quickchart('df-60740171-cccf-49c1-95ca-92554a7727d4')\"\n",
              "            title=\"Suggest charts\"\n",
              "            style=\"display:none;\">\n",
              "\n",
              "<svg xmlns=\"http://www.w3.org/2000/svg\" height=\"24px\"viewBox=\"0 0 24 24\"\n",
              "     width=\"24px\">\n",
              "    <g>\n",
              "        <path d=\"M19 3H5c-1.1 0-2 .9-2 2v14c0 1.1.9 2 2 2h14c1.1 0 2-.9 2-2V5c0-1.1-.9-2-2-2zM9 17H7v-7h2v7zm4 0h-2V7h2v10zm4 0h-2v-4h2v4z\"/>\n",
              "    </g>\n",
              "</svg>\n",
              "  </button>\n",
              "\n",
              "<style>\n",
              "  .colab-df-quickchart {\n",
              "      --bg-color: #E8F0FE;\n",
              "      --fill-color: #1967D2;\n",
              "      --hover-bg-color: #E2EBFA;\n",
              "      --hover-fill-color: #174EA6;\n",
              "      --disabled-fill-color: #AAA;\n",
              "      --disabled-bg-color: #DDD;\n",
              "  }\n",
              "\n",
              "  [theme=dark] .colab-df-quickchart {\n",
              "      --bg-color: #3B4455;\n",
              "      --fill-color: #D2E3FC;\n",
              "      --hover-bg-color: #434B5C;\n",
              "      --hover-fill-color: #FFFFFF;\n",
              "      --disabled-bg-color: #3B4455;\n",
              "      --disabled-fill-color: #666;\n",
              "  }\n",
              "\n",
              "  .colab-df-quickchart {\n",
              "    background-color: var(--bg-color);\n",
              "    border: none;\n",
              "    border-radius: 50%;\n",
              "    cursor: pointer;\n",
              "    display: none;\n",
              "    fill: var(--fill-color);\n",
              "    height: 32px;\n",
              "    padding: 0;\n",
              "    width: 32px;\n",
              "  }\n",
              "\n",
              "  .colab-df-quickchart:hover {\n",
              "    background-color: var(--hover-bg-color);\n",
              "    box-shadow: 0 1px 2px rgba(60, 64, 67, 0.3), 0 1px 3px 1px rgba(60, 64, 67, 0.15);\n",
              "    fill: var(--button-hover-fill-color);\n",
              "  }\n",
              "\n",
              "  .colab-df-quickchart-complete:disabled,\n",
              "  .colab-df-quickchart-complete:disabled:hover {\n",
              "    background-color: var(--disabled-bg-color);\n",
              "    fill: var(--disabled-fill-color);\n",
              "    box-shadow: none;\n",
              "  }\n",
              "\n",
              "  .colab-df-spinner {\n",
              "    border: 2px solid var(--fill-color);\n",
              "    border-color: transparent;\n",
              "    border-bottom-color: var(--fill-color);\n",
              "    animation:\n",
              "      spin 1s steps(1) infinite;\n",
              "  }\n",
              "\n",
              "  @keyframes spin {\n",
              "    0% {\n",
              "      border-color: transparent;\n",
              "      border-bottom-color: var(--fill-color);\n",
              "      border-left-color: var(--fill-color);\n",
              "    }\n",
              "    20% {\n",
              "      border-color: transparent;\n",
              "      border-left-color: var(--fill-color);\n",
              "      border-top-color: var(--fill-color);\n",
              "    }\n",
              "    30% {\n",
              "      border-color: transparent;\n",
              "      border-left-color: var(--fill-color);\n",
              "      border-top-color: var(--fill-color);\n",
              "      border-right-color: var(--fill-color);\n",
              "    }\n",
              "    40% {\n",
              "      border-color: transparent;\n",
              "      border-right-color: var(--fill-color);\n",
              "      border-top-color: var(--fill-color);\n",
              "    }\n",
              "    60% {\n",
              "      border-color: transparent;\n",
              "      border-right-color: var(--fill-color);\n",
              "    }\n",
              "    80% {\n",
              "      border-color: transparent;\n",
              "      border-right-color: var(--fill-color);\n",
              "      border-bottom-color: var(--fill-color);\n",
              "    }\n",
              "    90% {\n",
              "      border-color: transparent;\n",
              "      border-bottom-color: var(--fill-color);\n",
              "    }\n",
              "  }\n",
              "</style>\n",
              "\n",
              "  <script>\n",
              "    async function quickchart(key) {\n",
              "      const quickchartButtonEl =\n",
              "        document.querySelector('#' + key + ' button');\n",
              "      quickchartButtonEl.disabled = true;  // To prevent multiple clicks.\n",
              "      quickchartButtonEl.classList.add('colab-df-spinner');\n",
              "      try {\n",
              "        const charts = await google.colab.kernel.invokeFunction(\n",
              "            'suggestCharts', [key], {});\n",
              "      } catch (error) {\n",
              "        console.error('Error during call to suggestCharts:', error);\n",
              "      }\n",
              "      quickchartButtonEl.classList.remove('colab-df-spinner');\n",
              "      quickchartButtonEl.classList.add('colab-df-quickchart-complete');\n",
              "    }\n",
              "    (() => {\n",
              "      let quickchartButtonEl =\n",
              "        document.querySelector('#df-60740171-cccf-49c1-95ca-92554a7727d4 button');\n",
              "      quickchartButtonEl.style.display =\n",
              "        google.colab.kernel.accessAllowed ? 'block' : 'none';\n",
              "    })();\n",
              "  </script>\n",
              "</div>\n",
              "\n",
              "    </div>\n",
              "  </div>\n"
            ],
            "application/vnd.google.colaboratory.intrinsic+json": {
              "type": "dataframe",
              "repr_error": "unhashable type: 'list'"
            }
          },
          "metadata": {},
          "execution_count": 118
        }
      ]
    },
    {
      "cell_type": "code",
      "source": [
        "threshold = 3 # no of triggers misclassified in each dialogue\n",
        "wrong_classifications = count_wrong_classifications(threshold,pred_trigger_list,label_trigger_list)\n",
        "print('Number of trigger missclassification with threshold',threshold,':',test_data.iloc[wrong_classifications].shape[0])\n",
        "test_data.iloc[wrong_classifications]"
      ],
      "metadata": {
        "execution": {
          "iopub.status.busy": "2024-02-14T17:00:14.269761Z",
          "iopub.execute_input": "2024-02-14T17:00:14.270545Z",
          "iopub.status.idle": "2024-02-14T17:00:14.388877Z",
          "shell.execute_reply.started": "2024-02-14T17:00:14.270431Z",
          "shell.execute_reply": "2024-02-14T17:00:14.387702Z"
        },
        "trusted": true,
        "colab": {
          "base_uri": "https://localhost:8080/",
          "height": 1000
        },
        "id": "zizkSDR0zIk7",
        "outputId": "a975d4ac-88f6-47b6-f8e8-83c41e936b04"
      },
      "execution_count": null,
      "outputs": [
        {
          "output_type": "stream",
          "name": "stdout",
          "text": [
            "Number of trigger missclassification with threshold 3 : 24\n"
          ]
        },
        {
          "output_type": "execute_result",
          "data": {
            "text/plain": [
              "            episode                                           speakers  \\\n",
              "1    utterance_3601  [Jeannine, Julio, Monica, Julio, Monica, Julio...   \n",
              "2    utterance_3602  [Jeannine, Julio, Monica, Julio, Monica, Julio...   \n",
              "8    utterance_3608   [Rachel, Monica, Rachel, Monica, Rachel, Rachel]   \n",
              "9    utterance_3609  [Rachel, Monica, Rachel, Monica, Rachel, Rache...   \n",
              "17   utterance_3617  [Phoebe, Monica, Phoebe, Monica, Monica, Monic...   \n",
              "18   utterance_3618  [Phoebe, Monica, Phoebe, Monica, Monica, Monic...   \n",
              "22   utterance_3622  [Monica, The Food Critic, Monica, The Food Cri...   \n",
              "25   utterance_3625  [Monica, The Food Critic, Monica, The Food Cri...   \n",
              "37   utterance_3637          [Chandler, Monica, Ross, Ross, All, Ross]   \n",
              "40   utterance_3640  [Chandler, Monica, Ross, Ross, All, Ross, Moni...   \n",
              "46   utterance_3646  [Phoebe, Mike, Phoebe, Mike, Phoebe, Mike, Pho...   \n",
              "47   utterance_3647  [Phoebe, Mike, Phoebe, Mike, Phoebe, Mike, Pho...   \n",
              "49   utterance_3649  [Phoebe, Mike, Phoebe, Mike, Phoebe, Mike, Pho...   \n",
              "50   utterance_3650  [Phoebe, Mike, Phoebe, Mike, Phoebe, Mike, Pho...   \n",
              "51   utterance_3651  [Phoebe, Mike, Phoebe, Mike, Phoebe, Mike, Pho...   \n",
              "55   utterance_3655  [Phoebe, Mike, Phoebe, Mike, Phoebe, Mike, Pho...   \n",
              "69   utterance_3669  [Ross, Ross, Ross, Rachel, Ross, Rachel, Rache...   \n",
              "84   utterance_3684                         [Chandler, Monica, Monica]   \n",
              "96   utterance_3696  [Ross, Rachel, Ross, Ross, Ross, Rachel, Ross,...   \n",
              "110  utterance_3710             [Joey, Rachel, Rachel, Rachel, Rachel]   \n",
              "112  utterance_3712  [Joey, Rachel, Rachel, Rachel, Rachel, Joey, R...   \n",
              "149  utterance_3749         [Ross, Rachel, Ross, Rachel, Rachel, Ross]   \n",
              "220  utterance_3820       [Ross, Emily, Ross, Ross, Ross, Ross, Emily]   \n",
              "257  utterance_3857                       [Chandler, Ross, Ross, Ross]   \n",
              "\n",
              "                                              emotions  \\\n",
              "1    [[0, 0, 0, 0, 1, 0, 0], [0, 0, 0, 0, 1, 0, 0],...   \n",
              "2    [[0, 0, 0, 0, 1, 0, 0], [0, 0, 0, 0, 1, 0, 0],...   \n",
              "8    [[0, 1, 0, 0, 0, 0, 0], [0, 0, 0, 0, 0, 1, 0],...   \n",
              "9    [[0, 1, 0, 0, 0, 0, 0], [0, 0, 0, 0, 0, 1, 0],...   \n",
              "17   [[0, 0, 0, 0, 1, 0, 0], [0, 0, 0, 0, 0, 0, 1],...   \n",
              "18   [[0, 0, 0, 0, 1, 0, 0], [0, 0, 0, 0, 0, 0, 1],...   \n",
              "22   [[0, 0, 0, 0, 1, 0, 0], [0, 0, 0, 0, 0, 0, 1],...   \n",
              "25   [[0, 0, 0, 0, 1, 0, 0], [0, 0, 0, 0, 0, 0, 1],...   \n",
              "37   [[0, 0, 0, 0, 0, 0, 1], [0, 0, 0, 0, 0, 1, 0],...   \n",
              "40   [[0, 0, 0, 0, 0, 0, 1], [0, 0, 0, 0, 0, 1, 0],...   \n",
              "46   [[0, 0, 0, 0, 1, 0, 0], [0, 0, 0, 0, 1, 0, 0],...   \n",
              "47   [[0, 0, 0, 0, 1, 0, 0], [0, 0, 0, 0, 1, 0, 0],...   \n",
              "49   [[0, 0, 0, 0, 1, 0, 0], [0, 0, 0, 0, 1, 0, 0],...   \n",
              "50   [[0, 0, 0, 0, 1, 0, 0], [0, 0, 0, 0, 1, 0, 0],...   \n",
              "51   [[0, 0, 0, 0, 1, 0, 0], [0, 0, 0, 0, 1, 0, 0],...   \n",
              "55   [[0, 0, 0, 0, 1, 0, 0], [0, 0, 0, 0, 1, 0, 0],...   \n",
              "69   [[0, 0, 0, 0, 1, 0, 0], [0, 0, 0, 0, 0, 1, 0],...   \n",
              "84   [[0, 0, 0, 1, 0, 0, 0], [0, 0, 0, 0, 1, 0, 0],...   \n",
              "96   [[0, 0, 0, 0, 1, 0, 0], [0, 0, 0, 1, 0, 0, 0],...   \n",
              "110  [[0, 0, 0, 0, 0, 0, 1], [0, 0, 0, 0, 0, 0, 1],...   \n",
              "112  [[0, 0, 0, 0, 0, 0, 1], [0, 0, 0, 0, 0, 0, 1],...   \n",
              "149  [[0, 0, 0, 0, 0, 1, 0], [0, 0, 0, 0, 1, 0, 0],...   \n",
              "220  [[0, 0, 0, 0, 0, 0, 1], [0, 0, 0, 0, 1, 0, 0],...   \n",
              "257  [[0, 0, 0, 0, 1, 0, 0], [0, 0, 0, 0, 0, 1, 0],...   \n",
              "\n",
              "                                            utterances  \\\n",
              "1    [Night Mon. Night Julio., Adiós., Look Julio, ...   \n",
              "2    [Night Mon. Night Julio., Adiós., Look Julio, ...   \n",
              "8    [Oh God, I hate my job, I hate it, I hate my j...   \n",
              "9    [Oh God, I hate my job, I hate it, I hate my j...   \n",
              "17   [Do you think they have yesterday's daily news...   \n",
              "18   [Do you think they have yesterday's daily news...   \n",
              "22   [Hi! Umm, I'm Monica Geller, I'm the chef at A...   \n",
              "25   [Hi! Umm, I'm Monica Geller, I'm the chef at A...   \n",
              "37   [Oh my God!, We heard about your pants, I'm so...   \n",
              "40   [Oh my God!, We heard about your pants, I'm so...   \n",
              "46   [Hey Mikey, Hey P, What are you doing?, Settin...   \n",
              "47   [Hey Mikey, Hey P, What are you doing?, Settin...   \n",
              "49   [Hey Mikey, Hey P, What are you doing?, Settin...   \n",
              "50   [Hey Mikey, Hey P, What are you doing?, Settin...   \n",
              "51   [Hey Mikey, Hey P, What are you doing?, Settin...   \n",
              "55   [Hey Mikey, Hey P, What are you doing?, Settin...   \n",
              "69   [I didn't even realise how late it was, until ...   \n",
              "84   [That was amazing., I know., Hey, do you reali...   \n",
              "96   [Hey, so uh, y'know how there's something I wa...   \n",
              "110  [Oh my, oh my God!, Aw, it's unbelievable!, Wo...   \n",
              "112  [Oh my, oh my God!, Aw, it's unbelievable!, Wo...   \n",
              "149  [Ahh, no., Oh., Are you jealous?, Noo, I y'kno...   \n",
              "220  [She said what?, She said, \"If I'm not gonna b...   \n",
              "257  [Tell us what happened, Brown Bird Ross., Well...   \n",
              "\n",
              "                                              triggers  \n",
              "1    [0.0, 0.0, 0.0, 0.0, 0.0, 0.0, 0.0, 0.0, 0.0, ...  \n",
              "2    [0.0, 0.0, 0.0, 0.0, 0.0, 0.0, 0.0, 0.0, 0.0, ...  \n",
              "8                       [1.0, 0.0, 1.0, 0.0, 0.0, 1.0]  \n",
              "9                  [1.0, 0.0, 1.0, 0.0, 0.0, 1.0, 1.0]  \n",
              "17   [0.0, 0.0, 0.0, 0.0, 0.0, 1.0, 1.0, 1.0, 1.0, ...  \n",
              "18   [0.0, 0.0, 0.0, 0.0, 0.0, 1.0, 0.0, 1.0, 1.0, ...  \n",
              "22                 [0.0, 0.0, 1.0, 1.0, 0.0, 0.0, 1.0]  \n",
              "25   [0.0, 0.0, 0.0, 0.0, 0.0, 0.0, 0.0, 0.0, 1.0, ...  \n",
              "37                      [0.0, 0.0, 1.0, 1.0, 1.0, 0.0]  \n",
              "40   [0.0, 0.0, 0.0, 0.0, 0.0, 0.0, 1.0, 1.0, 1.0, ...  \n",
              "46                 [0.0, 0.0, 0.0, 1.0, 1.0, 1.0, 0.0]  \n",
              "47            [0.0, 0.0, 0.0, 1.0, 1.0, 0.0, 1.0, 1.0]  \n",
              "49   [0.0, 0.0, 0.0, 1.0, 1.0, 0.0, 1.0, 0.0, 0.0, ...  \n",
              "50   [0.0, 0.0, 0.0, 1.0, 1.0, 0.0, 1.0, 0.0, 0.0, ...  \n",
              "51   [0.0, 0.0, 0.0, 1.0, 1.0, 0.0, 1.0, 0.0, 0.0, ...  \n",
              "55   [0.0, 0.0, 0.0, 1.0, 1.0, 0.0, 1.0, 0.0, 0.0, ...  \n",
              "69   [0.0, 0.0, 0.0, 1.0, 0.0, 0.0, 0.0, 0.0, 1.0, ...  \n",
              "84                                     [1.0, 1.0, 1.0]  \n",
              "96   [0.0, 0.0, 0.0, 0.0, 0.0, 0.0, 1.0, 1.0, 1.0, ...  \n",
              "110                          [0.0, 1.0, 1.0, 1.0, 0.0]  \n",
              "112           [0.0, 0.0, 1.0, 1.0, 0.0, 0.0, 1.0, 1.0]  \n",
              "149                     [0.0, 0.0, 0.0, 1.0, 1.0, 1.0]  \n",
              "220                [0.0, 0.0, 0.0, 1.0, 1.0, 0.0, 1.0]  \n",
              "257                               [0.0, 1.0, 1.0, 1.0]  "
            ],
            "text/html": [
              "\n",
              "  <div id=\"df-79776f52-c331-4abd-9896-ac184d8b2c14\" class=\"colab-df-container\">\n",
              "    <div>\n",
              "<style scoped>\n",
              "    .dataframe tbody tr th:only-of-type {\n",
              "        vertical-align: middle;\n",
              "    }\n",
              "\n",
              "    .dataframe tbody tr th {\n",
              "        vertical-align: top;\n",
              "    }\n",
              "\n",
              "    .dataframe thead th {\n",
              "        text-align: right;\n",
              "    }\n",
              "</style>\n",
              "<table border=\"1\" class=\"dataframe\">\n",
              "  <thead>\n",
              "    <tr style=\"text-align: right;\">\n",
              "      <th></th>\n",
              "      <th>episode</th>\n",
              "      <th>speakers</th>\n",
              "      <th>emotions</th>\n",
              "      <th>utterances</th>\n",
              "      <th>triggers</th>\n",
              "    </tr>\n",
              "  </thead>\n",
              "  <tbody>\n",
              "    <tr>\n",
              "      <th>1</th>\n",
              "      <td>utterance_3601</td>\n",
              "      <td>[Jeannine, Julio, Monica, Julio, Monica, Julio...</td>\n",
              "      <td>[[0, 0, 0, 0, 1, 0, 0], [0, 0, 0, 0, 1, 0, 0],...</td>\n",
              "      <td>[Night Mon. Night Julio., Adiós., Look Julio, ...</td>\n",
              "      <td>[0.0, 0.0, 0.0, 0.0, 0.0, 0.0, 0.0, 0.0, 0.0, ...</td>\n",
              "    </tr>\n",
              "    <tr>\n",
              "      <th>2</th>\n",
              "      <td>utterance_3602</td>\n",
              "      <td>[Jeannine, Julio, Monica, Julio, Monica, Julio...</td>\n",
              "      <td>[[0, 0, 0, 0, 1, 0, 0], [0, 0, 0, 0, 1, 0, 0],...</td>\n",
              "      <td>[Night Mon. Night Julio., Adiós., Look Julio, ...</td>\n",
              "      <td>[0.0, 0.0, 0.0, 0.0, 0.0, 0.0, 0.0, 0.0, 0.0, ...</td>\n",
              "    </tr>\n",
              "    <tr>\n",
              "      <th>8</th>\n",
              "      <td>utterance_3608</td>\n",
              "      <td>[Rachel, Monica, Rachel, Monica, Rachel, Rachel]</td>\n",
              "      <td>[[0, 1, 0, 0, 0, 0, 0], [0, 0, 0, 0, 0, 1, 0],...</td>\n",
              "      <td>[Oh God, I hate my job, I hate it, I hate my j...</td>\n",
              "      <td>[1.0, 0.0, 1.0, 0.0, 0.0, 1.0]</td>\n",
              "    </tr>\n",
              "    <tr>\n",
              "      <th>9</th>\n",
              "      <td>utterance_3609</td>\n",
              "      <td>[Rachel, Monica, Rachel, Monica, Rachel, Rache...</td>\n",
              "      <td>[[0, 1, 0, 0, 0, 0, 0], [0, 0, 0, 0, 0, 1, 0],...</td>\n",
              "      <td>[Oh God, I hate my job, I hate it, I hate my j...</td>\n",
              "      <td>[1.0, 0.0, 1.0, 0.0, 0.0, 1.0, 1.0]</td>\n",
              "    </tr>\n",
              "    <tr>\n",
              "      <th>17</th>\n",
              "      <td>utterance_3617</td>\n",
              "      <td>[Phoebe, Monica, Phoebe, Monica, Monica, Monic...</td>\n",
              "      <td>[[0, 0, 0, 0, 1, 0, 0], [0, 0, 0, 0, 0, 0, 1],...</td>\n",
              "      <td>[Do you think they have yesterday's daily news...</td>\n",
              "      <td>[0.0, 0.0, 0.0, 0.0, 0.0, 1.0, 1.0, 1.0, 1.0, ...</td>\n",
              "    </tr>\n",
              "    <tr>\n",
              "      <th>18</th>\n",
              "      <td>utterance_3618</td>\n",
              "      <td>[Phoebe, Monica, Phoebe, Monica, Monica, Monic...</td>\n",
              "      <td>[[0, 0, 0, 0, 1, 0, 0], [0, 0, 0, 0, 0, 0, 1],...</td>\n",
              "      <td>[Do you think they have yesterday's daily news...</td>\n",
              "      <td>[0.0, 0.0, 0.0, 0.0, 0.0, 1.0, 0.0, 1.0, 1.0, ...</td>\n",
              "    </tr>\n",
              "    <tr>\n",
              "      <th>22</th>\n",
              "      <td>utterance_3622</td>\n",
              "      <td>[Monica, The Food Critic, Monica, The Food Cri...</td>\n",
              "      <td>[[0, 0, 0, 0, 1, 0, 0], [0, 0, 0, 0, 0, 0, 1],...</td>\n",
              "      <td>[Hi! Umm, I'm Monica Geller, I'm the chef at A...</td>\n",
              "      <td>[0.0, 0.0, 1.0, 1.0, 0.0, 0.0, 1.0]</td>\n",
              "    </tr>\n",
              "    <tr>\n",
              "      <th>25</th>\n",
              "      <td>utterance_3625</td>\n",
              "      <td>[Monica, The Food Critic, Monica, The Food Cri...</td>\n",
              "      <td>[[0, 0, 0, 0, 1, 0, 0], [0, 0, 0, 0, 0, 0, 1],...</td>\n",
              "      <td>[Hi! Umm, I'm Monica Geller, I'm the chef at A...</td>\n",
              "      <td>[0.0, 0.0, 0.0, 0.0, 0.0, 0.0, 0.0, 0.0, 1.0, ...</td>\n",
              "    </tr>\n",
              "    <tr>\n",
              "      <th>37</th>\n",
              "      <td>utterance_3637</td>\n",
              "      <td>[Chandler, Monica, Ross, Ross, All, Ross]</td>\n",
              "      <td>[[0, 0, 0, 0, 0, 0, 1], [0, 0, 0, 0, 0, 1, 0],...</td>\n",
              "      <td>[Oh my God!, We heard about your pants, I'm so...</td>\n",
              "      <td>[0.0, 0.0, 1.0, 1.0, 1.0, 0.0]</td>\n",
              "    </tr>\n",
              "    <tr>\n",
              "      <th>40</th>\n",
              "      <td>utterance_3640</td>\n",
              "      <td>[Chandler, Monica, Ross, Ross, All, Ross, Moni...</td>\n",
              "      <td>[[0, 0, 0, 0, 0, 0, 1], [0, 0, 0, 0, 0, 1, 0],...</td>\n",
              "      <td>[Oh my God!, We heard about your pants, I'm so...</td>\n",
              "      <td>[0.0, 0.0, 0.0, 0.0, 0.0, 0.0, 1.0, 1.0, 1.0, ...</td>\n",
              "    </tr>\n",
              "    <tr>\n",
              "      <th>46</th>\n",
              "      <td>utterance_3646</td>\n",
              "      <td>[Phoebe, Mike, Phoebe, Mike, Phoebe, Mike, Pho...</td>\n",
              "      <td>[[0, 0, 0, 0, 1, 0, 0], [0, 0, 0, 0, 1, 0, 0],...</td>\n",
              "      <td>[Hey Mikey, Hey P, What are you doing?, Settin...</td>\n",
              "      <td>[0.0, 0.0, 0.0, 1.0, 1.0, 1.0, 0.0]</td>\n",
              "    </tr>\n",
              "    <tr>\n",
              "      <th>47</th>\n",
              "      <td>utterance_3647</td>\n",
              "      <td>[Phoebe, Mike, Phoebe, Mike, Phoebe, Mike, Pho...</td>\n",
              "      <td>[[0, 0, 0, 0, 1, 0, 0], [0, 0, 0, 0, 1, 0, 0],...</td>\n",
              "      <td>[Hey Mikey, Hey P, What are you doing?, Settin...</td>\n",
              "      <td>[0.0, 0.0, 0.0, 1.0, 1.0, 0.0, 1.0, 1.0]</td>\n",
              "    </tr>\n",
              "    <tr>\n",
              "      <th>49</th>\n",
              "      <td>utterance_3649</td>\n",
              "      <td>[Phoebe, Mike, Phoebe, Mike, Phoebe, Mike, Pho...</td>\n",
              "      <td>[[0, 0, 0, 0, 1, 0, 0], [0, 0, 0, 0, 1, 0, 0],...</td>\n",
              "      <td>[Hey Mikey, Hey P, What are you doing?, Settin...</td>\n",
              "      <td>[0.0, 0.0, 0.0, 1.0, 1.0, 0.0, 1.0, 0.0, 0.0, ...</td>\n",
              "    </tr>\n",
              "    <tr>\n",
              "      <th>50</th>\n",
              "      <td>utterance_3650</td>\n",
              "      <td>[Phoebe, Mike, Phoebe, Mike, Phoebe, Mike, Pho...</td>\n",
              "      <td>[[0, 0, 0, 0, 1, 0, 0], [0, 0, 0, 0, 1, 0, 0],...</td>\n",
              "      <td>[Hey Mikey, Hey P, What are you doing?, Settin...</td>\n",
              "      <td>[0.0, 0.0, 0.0, 1.0, 1.0, 0.0, 1.0, 0.0, 0.0, ...</td>\n",
              "    </tr>\n",
              "    <tr>\n",
              "      <th>51</th>\n",
              "      <td>utterance_3651</td>\n",
              "      <td>[Phoebe, Mike, Phoebe, Mike, Phoebe, Mike, Pho...</td>\n",
              "      <td>[[0, 0, 0, 0, 1, 0, 0], [0, 0, 0, 0, 1, 0, 0],...</td>\n",
              "      <td>[Hey Mikey, Hey P, What are you doing?, Settin...</td>\n",
              "      <td>[0.0, 0.0, 0.0, 1.0, 1.0, 0.0, 1.0, 0.0, 0.0, ...</td>\n",
              "    </tr>\n",
              "    <tr>\n",
              "      <th>55</th>\n",
              "      <td>utterance_3655</td>\n",
              "      <td>[Phoebe, Mike, Phoebe, Mike, Phoebe, Mike, Pho...</td>\n",
              "      <td>[[0, 0, 0, 0, 1, 0, 0], [0, 0, 0, 0, 1, 0, 0],...</td>\n",
              "      <td>[Hey Mikey, Hey P, What are you doing?, Settin...</td>\n",
              "      <td>[0.0, 0.0, 0.0, 1.0, 1.0, 0.0, 1.0, 0.0, 0.0, ...</td>\n",
              "    </tr>\n",
              "    <tr>\n",
              "      <th>69</th>\n",
              "      <td>utterance_3669</td>\n",
              "      <td>[Ross, Ross, Ross, Rachel, Ross, Rachel, Rache...</td>\n",
              "      <td>[[0, 0, 0, 0, 1, 0, 0], [0, 0, 0, 0, 0, 1, 0],...</td>\n",
              "      <td>[I didn't even realise how late it was, until ...</td>\n",
              "      <td>[0.0, 0.0, 0.0, 1.0, 0.0, 0.0, 0.0, 0.0, 1.0, ...</td>\n",
              "    </tr>\n",
              "    <tr>\n",
              "      <th>84</th>\n",
              "      <td>utterance_3684</td>\n",
              "      <td>[Chandler, Monica, Monica]</td>\n",
              "      <td>[[0, 0, 0, 1, 0, 0, 0], [0, 0, 0, 0, 1, 0, 0],...</td>\n",
              "      <td>[That was amazing., I know., Hey, do you reali...</td>\n",
              "      <td>[1.0, 1.0, 1.0]</td>\n",
              "    </tr>\n",
              "    <tr>\n",
              "      <th>96</th>\n",
              "      <td>utterance_3696</td>\n",
              "      <td>[Ross, Rachel, Ross, Ross, Ross, Rachel, Ross,...</td>\n",
              "      <td>[[0, 0, 0, 0, 1, 0, 0], [0, 0, 0, 1, 0, 0, 0],...</td>\n",
              "      <td>[Hey, so uh, y'know how there's something I wa...</td>\n",
              "      <td>[0.0, 0.0, 0.0, 0.0, 0.0, 0.0, 1.0, 1.0, 1.0, ...</td>\n",
              "    </tr>\n",
              "    <tr>\n",
              "      <th>110</th>\n",
              "      <td>utterance_3710</td>\n",
              "      <td>[Joey, Rachel, Rachel, Rachel, Rachel]</td>\n",
              "      <td>[[0, 0, 0, 0, 0, 0, 1], [0, 0, 0, 0, 0, 0, 1],...</td>\n",
              "      <td>[Oh my, oh my God!, Aw, it's unbelievable!, Wo...</td>\n",
              "      <td>[0.0, 1.0, 1.0, 1.0, 0.0]</td>\n",
              "    </tr>\n",
              "    <tr>\n",
              "      <th>112</th>\n",
              "      <td>utterance_3712</td>\n",
              "      <td>[Joey, Rachel, Rachel, Rachel, Rachel, Joey, R...</td>\n",
              "      <td>[[0, 0, 0, 0, 0, 0, 1], [0, 0, 0, 0, 0, 0, 1],...</td>\n",
              "      <td>[Oh my, oh my God!, Aw, it's unbelievable!, Wo...</td>\n",
              "      <td>[0.0, 0.0, 1.0, 1.0, 0.0, 0.0, 1.0, 1.0]</td>\n",
              "    </tr>\n",
              "    <tr>\n",
              "      <th>149</th>\n",
              "      <td>utterance_3749</td>\n",
              "      <td>[Ross, Rachel, Ross, Rachel, Rachel, Ross]</td>\n",
              "      <td>[[0, 0, 0, 0, 0, 1, 0], [0, 0, 0, 0, 1, 0, 0],...</td>\n",
              "      <td>[Ahh, no., Oh., Are you jealous?, Noo, I y'kno...</td>\n",
              "      <td>[0.0, 0.0, 0.0, 1.0, 1.0, 1.0]</td>\n",
              "    </tr>\n",
              "    <tr>\n",
              "      <th>220</th>\n",
              "      <td>utterance_3820</td>\n",
              "      <td>[Ross, Emily, Ross, Ross, Ross, Ross, Emily]</td>\n",
              "      <td>[[0, 0, 0, 0, 0, 0, 1], [0, 0, 0, 0, 1, 0, 0],...</td>\n",
              "      <td>[She said what?, She said, \"If I'm not gonna b...</td>\n",
              "      <td>[0.0, 0.0, 0.0, 1.0, 1.0, 0.0, 1.0]</td>\n",
              "    </tr>\n",
              "    <tr>\n",
              "      <th>257</th>\n",
              "      <td>utterance_3857</td>\n",
              "      <td>[Chandler, Ross, Ross, Ross]</td>\n",
              "      <td>[[0, 0, 0, 0, 1, 0, 0], [0, 0, 0, 0, 0, 1, 0],...</td>\n",
              "      <td>[Tell us what happened, Brown Bird Ross., Well...</td>\n",
              "      <td>[0.0, 1.0, 1.0, 1.0]</td>\n",
              "    </tr>\n",
              "  </tbody>\n",
              "</table>\n",
              "</div>\n",
              "    <div class=\"colab-df-buttons\">\n",
              "\n",
              "  <div class=\"colab-df-container\">\n",
              "    <button class=\"colab-df-convert\" onclick=\"convertToInteractive('df-79776f52-c331-4abd-9896-ac184d8b2c14')\"\n",
              "            title=\"Convert this dataframe to an interactive table.\"\n",
              "            style=\"display:none;\">\n",
              "\n",
              "  <svg xmlns=\"http://www.w3.org/2000/svg\" height=\"24px\" viewBox=\"0 -960 960 960\">\n",
              "    <path d=\"M120-120v-720h720v720H120Zm60-500h600v-160H180v160Zm220 220h160v-160H400v160Zm0 220h160v-160H400v160ZM180-400h160v-160H180v160Zm440 0h160v-160H620v160ZM180-180h160v-160H180v160Zm440 0h160v-160H620v160Z\"/>\n",
              "  </svg>\n",
              "    </button>\n",
              "\n",
              "  <style>\n",
              "    .colab-df-container {\n",
              "      display:flex;\n",
              "      gap: 12px;\n",
              "    }\n",
              "\n",
              "    .colab-df-convert {\n",
              "      background-color: #E8F0FE;\n",
              "      border: none;\n",
              "      border-radius: 50%;\n",
              "      cursor: pointer;\n",
              "      display: none;\n",
              "      fill: #1967D2;\n",
              "      height: 32px;\n",
              "      padding: 0 0 0 0;\n",
              "      width: 32px;\n",
              "    }\n",
              "\n",
              "    .colab-df-convert:hover {\n",
              "      background-color: #E2EBFA;\n",
              "      box-shadow: 0px 1px 2px rgba(60, 64, 67, 0.3), 0px 1px 3px 1px rgba(60, 64, 67, 0.15);\n",
              "      fill: #174EA6;\n",
              "    }\n",
              "\n",
              "    .colab-df-buttons div {\n",
              "      margin-bottom: 4px;\n",
              "    }\n",
              "\n",
              "    [theme=dark] .colab-df-convert {\n",
              "      background-color: #3B4455;\n",
              "      fill: #D2E3FC;\n",
              "    }\n",
              "\n",
              "    [theme=dark] .colab-df-convert:hover {\n",
              "      background-color: #434B5C;\n",
              "      box-shadow: 0px 1px 3px 1px rgba(0, 0, 0, 0.15);\n",
              "      filter: drop-shadow(0px 1px 2px rgba(0, 0, 0, 0.3));\n",
              "      fill: #FFFFFF;\n",
              "    }\n",
              "  </style>\n",
              "\n",
              "    <script>\n",
              "      const buttonEl =\n",
              "        document.querySelector('#df-79776f52-c331-4abd-9896-ac184d8b2c14 button.colab-df-convert');\n",
              "      buttonEl.style.display =\n",
              "        google.colab.kernel.accessAllowed ? 'block' : 'none';\n",
              "\n",
              "      async function convertToInteractive(key) {\n",
              "        const element = document.querySelector('#df-79776f52-c331-4abd-9896-ac184d8b2c14');\n",
              "        const dataTable =\n",
              "          await google.colab.kernel.invokeFunction('convertToInteractive',\n",
              "                                                    [key], {});\n",
              "        if (!dataTable) return;\n",
              "\n",
              "        const docLinkHtml = 'Like what you see? Visit the ' +\n",
              "          '<a target=\"_blank\" href=https://colab.research.google.com/notebooks/data_table.ipynb>data table notebook</a>'\n",
              "          + ' to learn more about interactive tables.';\n",
              "        element.innerHTML = '';\n",
              "        dataTable['output_type'] = 'display_data';\n",
              "        await google.colab.output.renderOutput(dataTable, element);\n",
              "        const docLink = document.createElement('div');\n",
              "        docLink.innerHTML = docLinkHtml;\n",
              "        element.appendChild(docLink);\n",
              "      }\n",
              "    </script>\n",
              "  </div>\n",
              "\n",
              "\n",
              "<div id=\"df-e745ebe0-c63e-46cd-9d8a-6778ec28620b\">\n",
              "  <button class=\"colab-df-quickchart\" onclick=\"quickchart('df-e745ebe0-c63e-46cd-9d8a-6778ec28620b')\"\n",
              "            title=\"Suggest charts\"\n",
              "            style=\"display:none;\">\n",
              "\n",
              "<svg xmlns=\"http://www.w3.org/2000/svg\" height=\"24px\"viewBox=\"0 0 24 24\"\n",
              "     width=\"24px\">\n",
              "    <g>\n",
              "        <path d=\"M19 3H5c-1.1 0-2 .9-2 2v14c0 1.1.9 2 2 2h14c1.1 0 2-.9 2-2V5c0-1.1-.9-2-2-2zM9 17H7v-7h2v7zm4 0h-2V7h2v10zm4 0h-2v-4h2v4z\"/>\n",
              "    </g>\n",
              "</svg>\n",
              "  </button>\n",
              "\n",
              "<style>\n",
              "  .colab-df-quickchart {\n",
              "      --bg-color: #E8F0FE;\n",
              "      --fill-color: #1967D2;\n",
              "      --hover-bg-color: #E2EBFA;\n",
              "      --hover-fill-color: #174EA6;\n",
              "      --disabled-fill-color: #AAA;\n",
              "      --disabled-bg-color: #DDD;\n",
              "  }\n",
              "\n",
              "  [theme=dark] .colab-df-quickchart {\n",
              "      --bg-color: #3B4455;\n",
              "      --fill-color: #D2E3FC;\n",
              "      --hover-bg-color: #434B5C;\n",
              "      --hover-fill-color: #FFFFFF;\n",
              "      --disabled-bg-color: #3B4455;\n",
              "      --disabled-fill-color: #666;\n",
              "  }\n",
              "\n",
              "  .colab-df-quickchart {\n",
              "    background-color: var(--bg-color);\n",
              "    border: none;\n",
              "    border-radius: 50%;\n",
              "    cursor: pointer;\n",
              "    display: none;\n",
              "    fill: var(--fill-color);\n",
              "    height: 32px;\n",
              "    padding: 0;\n",
              "    width: 32px;\n",
              "  }\n",
              "\n",
              "  .colab-df-quickchart:hover {\n",
              "    background-color: var(--hover-bg-color);\n",
              "    box-shadow: 0 1px 2px rgba(60, 64, 67, 0.3), 0 1px 3px 1px rgba(60, 64, 67, 0.15);\n",
              "    fill: var(--button-hover-fill-color);\n",
              "  }\n",
              "\n",
              "  .colab-df-quickchart-complete:disabled,\n",
              "  .colab-df-quickchart-complete:disabled:hover {\n",
              "    background-color: var(--disabled-bg-color);\n",
              "    fill: var(--disabled-fill-color);\n",
              "    box-shadow: none;\n",
              "  }\n",
              "\n",
              "  .colab-df-spinner {\n",
              "    border: 2px solid var(--fill-color);\n",
              "    border-color: transparent;\n",
              "    border-bottom-color: var(--fill-color);\n",
              "    animation:\n",
              "      spin 1s steps(1) infinite;\n",
              "  }\n",
              "\n",
              "  @keyframes spin {\n",
              "    0% {\n",
              "      border-color: transparent;\n",
              "      border-bottom-color: var(--fill-color);\n",
              "      border-left-color: var(--fill-color);\n",
              "    }\n",
              "    20% {\n",
              "      border-color: transparent;\n",
              "      border-left-color: var(--fill-color);\n",
              "      border-top-color: var(--fill-color);\n",
              "    }\n",
              "    30% {\n",
              "      border-color: transparent;\n",
              "      border-left-color: var(--fill-color);\n",
              "      border-top-color: var(--fill-color);\n",
              "      border-right-color: var(--fill-color);\n",
              "    }\n",
              "    40% {\n",
              "      border-color: transparent;\n",
              "      border-right-color: var(--fill-color);\n",
              "      border-top-color: var(--fill-color);\n",
              "    }\n",
              "    60% {\n",
              "      border-color: transparent;\n",
              "      border-right-color: var(--fill-color);\n",
              "    }\n",
              "    80% {\n",
              "      border-color: transparent;\n",
              "      border-right-color: var(--fill-color);\n",
              "      border-bottom-color: var(--fill-color);\n",
              "    }\n",
              "    90% {\n",
              "      border-color: transparent;\n",
              "      border-bottom-color: var(--fill-color);\n",
              "    }\n",
              "  }\n",
              "</style>\n",
              "\n",
              "  <script>\n",
              "    async function quickchart(key) {\n",
              "      const quickchartButtonEl =\n",
              "        document.querySelector('#' + key + ' button');\n",
              "      quickchartButtonEl.disabled = true;  // To prevent multiple clicks.\n",
              "      quickchartButtonEl.classList.add('colab-df-spinner');\n",
              "      try {\n",
              "        const charts = await google.colab.kernel.invokeFunction(\n",
              "            'suggestCharts', [key], {});\n",
              "      } catch (error) {\n",
              "        console.error('Error during call to suggestCharts:', error);\n",
              "      }\n",
              "      quickchartButtonEl.classList.remove('colab-df-spinner');\n",
              "      quickchartButtonEl.classList.add('colab-df-quickchart-complete');\n",
              "    }\n",
              "    (() => {\n",
              "      let quickchartButtonEl =\n",
              "        document.querySelector('#df-e745ebe0-c63e-46cd-9d8a-6778ec28620b button');\n",
              "      quickchartButtonEl.style.display =\n",
              "        google.colab.kernel.accessAllowed ? 'block' : 'none';\n",
              "    })();\n",
              "  </script>\n",
              "</div>\n",
              "\n",
              "    </div>\n",
              "  </div>\n"
            ],
            "application/vnd.google.colaboratory.intrinsic+json": {
              "type": "dataframe",
              "repr_error": "unhashable type: 'list'"
            }
          },
          "metadata": {},
          "execution_count": 119
        }
      ]
    }
  ]
}