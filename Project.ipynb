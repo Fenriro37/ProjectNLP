{
 "cells": [
  {
   "cell_type": "code",
   "execution_count": 5,
   "metadata": {},
   "outputs": [],
   "source": [
    "# system packages\n",
    "from pathlib import Path\n",
    "import shutil\n",
    "import urllib\n",
    "import tarfile\n",
    "import sys\n",
    "import os\n",
    "# data and numerical management packages\n",
    "import pandas as pd\n",
    "import random\n",
    "import numpy as np\n",
    "import tensorflow as tf\n",
    "import matplotlib.pyplot as plt\n",
    "# useful during debugging (progress bars)\n",
    "from tqdm import tqdm\n",
    "from transformers import set_seed\n",
    "\n",
    "seed = 852\n",
    "\n",
    "random.seed(seed)\n",
    "np.random.seed(seed)\n",
    "set_seed(seed)"
   ]
  },
  {
   "cell_type": "code",
   "execution_count": 6,
   "metadata": {},
   "outputs": [],
   "source": [
    "dataset_folder = Path.cwd().joinpath(\"Datasets\")\n",
    "training_set_path = dataset_folder.joinpath('MELD_train_efr.json')\n",
    "validation_set_path = dataset_folder.joinpath('MELD_val_efr.json')\n",
    "test_set_path = dataset_folder.joinpath('MELD_test_efr.json')\n",
    "\n",
    "\n",
    "# Read datasets into Pandas DataFrames\n",
    "training_data = pd.read_json(training_set_path)\n",
    "validation_data = pd.read_json(validation_set_path)\n",
    "test_data = pd.read_json(test_set_path)"
   ]
  },
  {
   "cell_type": "code",
   "execution_count": 12,
   "metadata": {},
   "outputs": [],
   "source": [
    "training_data['triggers'] = training_data['triggers'].replace(np.nan, 0)\n",
    "validation_data['triggers'] = validation_data['triggers'].replace(np.nan, 0)"
   ]
  }
 ],
 "metadata": {
  "kernelspec": {
   "display_name": "base",
   "language": "python",
   "name": "python3"
  },
  "language_info": {
   "codemirror_mode": {
    "name": "ipython",
    "version": 3
   },
   "file_extension": ".py",
   "mimetype": "text/x-python",
   "name": "python",
   "nbconvert_exporter": "python",
   "pygments_lexer": "ipython3",
   "version": "3.11.5"
  }
 },
 "nbformat": 4,
 "nbformat_minor": 2
}
