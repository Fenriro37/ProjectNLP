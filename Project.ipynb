{
  "cells": [
    {
      "cell_type": "markdown",
      "metadata": {
        "id": "RgHMqcneDn1J"
      },
      "source": [
        "- We loose structure of dialogue using the tokenizer in preprocess_data\n",
        "\n",
        "- Emotions encoded using MultiLabelBinarizer doesn't tell us\n",
        "  anymore how many times a single emotion is present in the dialogue\n",
        "  and where it is"
      ]
    },
    {
      "cell_type": "code",
      "execution_count": null,
      "metadata": {
        "collapsed": true,
        "execution": {
          "iopub.execute_input": "2024-01-12T18:25:52.423261Z",
          "iopub.status.busy": "2024-01-12T18:25:52.422488Z",
          "iopub.status.idle": "2024-01-12T18:29:06.936875Z",
          "shell.execute_reply": "2024-01-12T18:29:06.935874Z",
          "shell.execute_reply.started": "2024-01-12T18:25:52.423224Z"
        },
        "id": "vc-YdlGVyh9_",
        "jupyter": {
          "outputs_hidden": true
        },
        "trusted": true
      },
      "outputs": [],
      "source": [
        "!pip install torch==1.13.0+cu116 --extra-index-url https://download.pytorch.org/whl/cu116\n",
        "!pip install transformers==4.30.0\n",
        "!pip install datasets==2.13.2\n",
        "!pip install accelerate -U\n",
        "!pip install evaluate"
      ]
    },
    {
      "cell_type": "code",
      "execution_count": 2,
      "metadata": {
        "execution": {
          "iopub.execute_input": "2024-01-12T18:29:06.939068Z",
          "iopub.status.busy": "2024-01-12T18:29:06.938752Z",
          "iopub.status.idle": "2024-01-12T18:29:27.003689Z",
          "shell.execute_reply": "2024-01-12T18:29:27.002668Z",
          "shell.execute_reply.started": "2024-01-12T18:29:06.939042Z"
        },
        "id": "pD7fWLEPyh-B",
        "trusted": true
      },
      "outputs": [],
      "source": [
        "# system packages\n",
        "from pathlib import Path\n",
        "import shutil\n",
        "import urllib\n",
        "import tarfile\n",
        "import sys\n",
        "import os\n",
        "# data and numerical management packages\n",
        "import pandas as pd\n",
        "import random\n",
        "import numpy as np\n",
        "import tensorflow as tf\n",
        "import matplotlib.pyplot as plt\n",
        "\n",
        "import warnings\n",
        "warnings.filterwarnings('ignore')\n",
        "# useful during debugging (progress bars)\n",
        "from tqdm import tqdm\n",
        "from transformers import set_seed\n",
        "\n",
        "seed = 852\n",
        "\n",
        "random.seed(seed)\n",
        "np.random.seed(seed)\n",
        "set_seed(seed)"
      ]
    },
    {
      "cell_type": "code",
      "execution_count": 4,
      "metadata": {
        "execution": {
          "iopub.execute_input": "2024-01-12T18:29:27.005734Z",
          "iopub.status.busy": "2024-01-12T18:29:27.004994Z",
          "iopub.status.idle": "2024-01-12T18:29:27.161176Z",
          "shell.execute_reply": "2024-01-12T18:29:27.160394Z",
          "shell.execute_reply.started": "2024-01-12T18:29:27.005698Z"
        },
        "id": "6Vnl6q1Qyh-C",
        "trusted": true
      },
      "outputs": [],
      "source": [
        "dataset_folder = Path.cwd().joinpath(\"MELD_train_efr.json\")\n",
        "#dataset_path = dataset_folder.joinpath('/MELD_train_efr.json')\n",
        "df = pd.read_json(dataset_folder)\n",
        "#df['triggers'] = df['triggers'].fillna(value=0, inplace=False)#.replace('None', 0.0)"
      ]
    },
    {
      "cell_type": "code",
      "source": [
        "df"
      ],
      "metadata": {
        "id": "oq9_ohFH3yeX"
      },
      "execution_count": null,
      "outputs": []
    },
    {
      "cell_type": "code",
      "execution_count": null,
      "metadata": {
        "execution": {
          "iopub.execute_input": "2024-01-12T18:29:27.164488Z",
          "iopub.status.busy": "2024-01-12T18:29:27.164068Z",
          "iopub.status.idle": "2024-01-12T18:29:27.353387Z",
          "shell.execute_reply": "2024-01-12T18:29:27.352697Z",
          "shell.execute_reply.started": "2024-01-12T18:29:27.164451Z"
        },
        "id": "PK4MQkLvyh-C",
        "trusted": true
      },
      "outputs": [],
      "source": [
        "triggers = df['triggers']\n",
        "for row in range(triggers.shape[0]):\n",
        "    for trigger in range(len(triggers[row])):\n",
        "        if triggers[row][trigger] == None:\n",
        "            triggers[row][trigger] = 0.0\n",
        "\n",
        "df['triggers'] = triggers"
      ]
    },
    {
      "cell_type": "code",
      "execution_count": 5,
      "metadata": {
        "colab": {
          "base_uri": "https://localhost:8080/"
        },
        "execution": {
          "iopub.execute_input": "2024-01-12T18:29:27.354645Z",
          "iopub.status.busy": "2024-01-12T18:29:27.354368Z",
          "iopub.status.idle": "2024-01-12T18:29:27.374027Z",
          "shell.execute_reply": "2024-01-12T18:29:27.373203Z",
          "shell.execute_reply.started": "2024-01-12T18:29:27.354621Z"
        },
        "id": "QFfykazN2xDw",
        "outputId": "51a80379-c7d0-47cd-baae-90f53e9e472f",
        "trusted": true
      },
      "outputs": [
        {
          "output_type": "execute_result",
          "data": {
            "text/plain": [
              "array(['neutral', 'surprise', 'fear', 'sadness', 'joy', 'disgust',\n",
              "       'anger'], dtype=object)"
            ]
          },
          "metadata": {},
          "execution_count": 5
        }
      ],
      "source": [
        "emotions = df['emotions'].explode().unique()\n",
        "emotions"
      ]
    },
    {
      "cell_type": "code",
      "execution_count": null,
      "metadata": {
        "execution": {
          "iopub.execute_input": "2024-01-12T18:29:27.375319Z",
          "iopub.status.busy": "2024-01-12T18:29:27.375078Z",
          "iopub.status.idle": "2024-01-12T18:29:27.390235Z",
          "shell.execute_reply": "2024-01-12T18:29:27.389245Z",
          "shell.execute_reply.started": "2024-01-12T18:29:27.375298Z"
        },
        "trusted": true,
        "id": "p10v1luzDn1M"
      },
      "outputs": [],
      "source": [
        "triggers = df['triggers'].explode().unique()\n",
        "triggers"
      ]
    },
    {
      "cell_type": "code",
      "execution_count": 6,
      "metadata": {
        "colab": {
          "base_uri": "https://localhost:8080/"
        },
        "execution": {
          "iopub.execute_input": "2024-01-12T18:29:27.392361Z",
          "iopub.status.busy": "2024-01-12T18:29:27.391490Z",
          "iopub.status.idle": "2024-01-12T18:29:27.412862Z",
          "shell.execute_reply": "2024-01-12T18:29:27.411917Z",
          "shell.execute_reply.started": "2024-01-12T18:29:27.392329Z"
        },
        "id": "q39q6ZPh-tCy",
        "outputId": "6c3c933b-b168-4670-c0f7-2957a70626d4",
        "trusted": true
      },
      "outputs": [
        {
          "output_type": "execute_result",
          "data": {
            "text/plain": [
              "(24, 219)"
            ]
          },
          "metadata": {},
          "execution_count": 6
        }
      ],
      "source": [
        "dialogues = df['utterances']\n",
        "#print(sentences)\n",
        "max_len_dialogue = 0\n",
        "index = 0\n",
        "for idx, dialogue in enumerate(dialogues):\n",
        "  if len(dialogue) > max_len_dialogue:\n",
        "    max_len_dialogue = len(dialogue)\n",
        "    index = idx\n",
        "max_len_dialogue,index"
      ]
    },
    {
      "cell_type": "code",
      "source": [
        "dialogues = df['utterances']\n",
        "#print(sentences)\n",
        "max_len_sentence = 0\n",
        "index = 0\n",
        "for idx, dialogue in enumerate(dialogues):\n",
        "  for idx_sentence, utterance in enumerate(dialogue):\n",
        "    if len(utterance.split()) > max_len_sentence:\n",
        "      max_len_sentence = len(utterance.split())\n",
        "      index = idx,idx_sentence\n",
        "max_len_sentence,index"
      ],
      "metadata": {
        "colab": {
          "base_uri": "https://localhost:8080/"
        },
        "id": "CwdTYBlTMvli",
        "outputId": "dc971571-d974-4698-9e1e-03cd372a304e"
      },
      "execution_count": 7,
      "outputs": [
        {
          "output_type": "execute_result",
          "data": {
            "text/plain": [
              "(69, (1675, 11))"
            ]
          },
          "metadata": {},
          "execution_count": 7
        }
      ]
    },
    {
      "cell_type": "markdown",
      "metadata": {
        "id": "2bP0X_ZEvFSp"
      },
      "source": [
        "### Be careful for the token used during padding"
      ]
    },
    {
      "cell_type": "code",
      "execution_count": 8,
      "metadata": {
        "execution": {
          "iopub.execute_input": "2024-01-12T18:30:39.880460Z",
          "iopub.status.busy": "2024-01-12T18:30:39.879732Z",
          "iopub.status.idle": "2024-01-12T18:30:39.889776Z",
          "shell.execute_reply": "2024-01-12T18:30:39.888865Z",
          "shell.execute_reply.started": "2024-01-12T18:30:39.880426Z"
        },
        "trusted": true,
        "id": "HHLo6FwYDn1M"
      },
      "outputs": [],
      "source": [
        "padded_dialogues = [seq + ['[PAD]'] * (max_len_dialogue - len(seq)) for seq in dialogues]"
      ]
    },
    {
      "cell_type": "code",
      "execution_count": 9,
      "metadata": {
        "execution": {
          "iopub.execute_input": "2024-01-12T18:30:45.278400Z",
          "iopub.status.busy": "2024-01-12T18:30:45.278059Z",
          "iopub.status.idle": "2024-01-12T18:30:45.517596Z",
          "shell.execute_reply": "2024-01-12T18:30:45.516517Z",
          "shell.execute_reply.started": "2024-01-12T18:30:45.278375Z"
        },
        "trusted": true,
        "id": "FsgpSVdgDn1M"
      },
      "outputs": [],
      "source": [
        "padded_emotions = [seq + ['[PAD]'] * (max_len_dialogue - len(seq)) for seq in df['emotions']]"
      ]
    },
    {
      "cell_type": "code",
      "execution_count": null,
      "metadata": {
        "execution": {
          "iopub.execute_input": "2024-01-12T18:31:01.496584Z",
          "iopub.status.busy": "2024-01-12T18:31:01.496212Z",
          "iopub.status.idle": "2024-01-12T18:31:01.506197Z",
          "shell.execute_reply": "2024-01-12T18:31:01.505122Z",
          "shell.execute_reply.started": "2024-01-12T18:31:01.496553Z"
        },
        "id": "-PH9rccxqc6g",
        "trusted": true
      },
      "outputs": [],
      "source": [
        "triggers = df['triggers']\n",
        "padded_triggers = [seq + [0] * (max_len_dialogue - len(seq)) for seq in triggers]"
      ]
    },
    {
      "cell_type": "code",
      "execution_count": null,
      "metadata": {
        "execution": {
          "iopub.execute_input": "2024-01-12T18:31:04.443590Z",
          "iopub.status.busy": "2024-01-12T18:31:04.443208Z",
          "iopub.status.idle": "2024-01-12T18:31:04.493733Z",
          "shell.execute_reply": "2024-01-12T18:31:04.492236Z",
          "shell.execute_reply.started": "2024-01-12T18:31:04.443561Z"
        },
        "id": "Cg7CppRVvg0-",
        "trusted": true
      },
      "outputs": [],
      "source": [
        "\"\"\"tokenized_input_ids = []\n",
        "tokenized_attention_mask = []\n",
        "tokenized_token_type_ids = []\n",
        "i = 0\n",
        "for utterance_list in padded_dialogues:\n",
        "  utterance_input_ids = []\n",
        "  utterance_attention_mask = []\n",
        "  utterance_token_type_ids = []\n",
        "  for utterance in utterance_list:\n",
        "    tokenized_texts = tokenizer(utterance,return_tensors='pt')# padding='max_length', max_length=max_len, )\n",
        "    utterance_input_ids.extend(tokenized_texts.input_ids)\n",
        "    utterance_attention_mask.extend(tokenized_texts.attention_mask)\n",
        "    utterance_token_type_ids.extend(tokenized_texts.token_type_ids)\n",
        "\"\"\"    if i == 0:\n",
        "        print(utterance)\n",
        "        print(utterance_input_ids)\n",
        "        print(tokenized_input_ids)\n",
        "        i+=1\"\"\"\n",
        "  tokenized_input_ids.append(utterance_input_ids)\n",
        "  tokenized_attention_mask.append(utterance_attention_mask)\n",
        "  tokenized_token_type_ids.append(utterance_token_type_ids)\n",
        "\"\"\""
      ]
    },
    {
      "cell_type": "code",
      "execution_count": null,
      "metadata": {
        "execution": {
          "iopub.status.busy": "2024-01-12T18:29:29.077108Z",
          "iopub.status.idle": "2024-01-12T18:29:29.077562Z",
          "shell.execute_reply": "2024-01-12T18:29:29.077331Z",
          "shell.execute_reply.started": "2024-01-12T18:29:29.077311Z"
        },
        "id": "va6wzu7gx9nw",
        "trusted": true
      },
      "outputs": [],
      "source": [
        "\"\"\"emotions_input_ids = []\n",
        "emotions_attention_mask = []\n",
        "emotions_token_type_ids = []\n",
        "\n",
        "for utterance_list in padded_emotions:\n",
        "  emotion_input_ids = []\n",
        "  emotion_attention_mask = []\n",
        "  emotion_token_type_ids = []\n",
        "  for utterance in utterance_list:\n",
        "    tokenized_texts = tokenizer(utterance,return_tensors='pt')# padding='max_length', max_length=max_len, )\n",
        "    emotion_input_ids.append(tokenized_texts.input_ids)\n",
        "    emotion_attention_mask.append(tokenized_texts.attention_mask)\n",
        "    emotion_token_type_ids.append(tokenized_texts.token_type_ids)\n",
        "\n",
        "  emotions_input_ids.append(emotion_input_ids)\n",
        "  emotions_attention_mask.append(emotion_attention_mask)\n",
        "  emotions_token_type_ids.append(emotion_token_type_ids)\"\"\""
      ]
    },
    {
      "cell_type": "code",
      "execution_count": null,
      "metadata": {
        "execution": {
          "iopub.status.busy": "2024-01-12T18:29:29.078716Z",
          "iopub.status.idle": "2024-01-12T18:29:29.079188Z",
          "shell.execute_reply": "2024-01-12T18:29:29.078961Z",
          "shell.execute_reply.started": "2024-01-12T18:29:29.078938Z"
        },
        "trusted": true,
        "id": "nDNbg7j_Dn1N"
      },
      "outputs": [],
      "source": [
        "df['emotions'][:5]"
      ]
    },
    {
      "cell_type": "code",
      "execution_count": null,
      "metadata": {
        "execution": {
          "iopub.status.busy": "2024-01-12T18:29:29.083480Z",
          "iopub.status.idle": "2024-01-12T18:29:29.083825Z",
          "shell.execute_reply": "2024-01-12T18:29:29.083646Z",
          "shell.execute_reply.started": "2024-01-12T18:29:29.083631Z"
        },
        "id": "xgporu7myOr3",
        "trusted": true
      },
      "outputs": [],
      "source": [
        "\"\"\"\n",
        "pad = torch.from_numpy(np.array([0]))\n",
        "padded_utterances_input_ids = [seq + [pad] * (max_len - len(seq)) for seq in tokenized_input_ids]\n",
        "padded_utterances_attention_mask = [seq + [torch.from_numpy(np.array([1]))] * (max_len - len(seq)) for seq in tokenized_attention_mask]\n",
        "padded_utterances_token_type_ids = [seq + [pad] * (max_len - len(seq)) for seq in tokenized_token_type_ids]\n",
        "pad_as_1 = torch.from_numpy(np.array([1]))\n",
        "padded_emotions_input_ids = [seq + [pad] * (max_len - len(seq)) for seq in emotions_input_ids]\n",
        "padded_emotions_attention_mask = [seq + [pad_as_1] * (max_len - len(seq)) for seq in emotions_attention_mask]\n",
        "padded_emotions_token_type_ids = [seq + [pad] * (max_len - len(seq)) for seq in emotions_token_type_ids]\n",
        "\"\"\""
      ]
    },
    {
      "cell_type": "code",
      "execution_count": null,
      "metadata": {
        "execution": {
          "iopub.status.busy": "2024-01-12T18:29:29.084890Z",
          "iopub.status.idle": "2024-01-12T18:29:29.085217Z",
          "shell.execute_reply": "2024-01-12T18:29:29.085070Z",
          "shell.execute_reply.started": "2024-01-12T18:29:29.085054Z"
        },
        "trusted": true,
        "id": "EZDF8laGDn1N"
      },
      "outputs": [],
      "source": [
        "#emotion_mapping = {emotion: idx+1 for idx, emotion in enumerate(emotions)}\n",
        "#emotions_numerical_format = [[emotion_mapping[emotion] for emotion in dialogue] for dialogue in df['emotions']]\n",
        "#padded_emotions = [seq + [0] * (max_len_dialogue - len(seq)) for seq in emotions_numerical_format]"
      ]
    },
    {
      "cell_type": "code",
      "source": [
        "if np.isin('[PAD]', emotions).any() == False:\n",
        "  emotions = np.append(emotions,np.array(['[PAD]']))"
      ],
      "metadata": {
        "id": "Ie-PzRN9jfFA"
      },
      "execution_count": 10,
      "outputs": []
    },
    {
      "cell_type": "code",
      "execution_count": 11,
      "metadata": {
        "execution": {
          "iopub.execute_input": "2024-01-12T18:32:51.180932Z",
          "iopub.status.busy": "2024-01-12T18:32:51.180195Z",
          "iopub.status.idle": "2024-01-12T18:32:57.227091Z",
          "shell.execute_reply": "2024-01-12T18:32:57.226294Z",
          "shell.execute_reply.started": "2024-01-12T18:32:51.180896Z"
        },
        "trusted": true,
        "colab": {
          "base_uri": "https://localhost:8080/",
          "height": 284,
          "referenced_widgets": [
            "6337ee9e1e4c48e89d28ad2b083ab815",
            "ab75702f6df94934b9e79d016ce208d9",
            "4ad33254ac7e44a98606462d0fb16f2a",
            "f503ad26fa364c18abaafb3dd276ae52",
            "71f299843c8b444cbc3a58f3bae20bad",
            "2616fde25aa741daae18c177dff3d3f8",
            "4ba9caf5a7d24f3fb5c25ec7a5fe1f3d",
            "aebea49b5b4a4a6eb91fe4ec225142a0",
            "d9c4b5478abd4097b63586a57d51a7ea",
            "886661ff399a46f2a4c6c77dba646098",
            "27477af290eb47ffa40bdc51d4d5d576",
            "711a4a8246554b9fbb2e85e27b49c65f",
            "4061b24cf04041f0b9a0732aaab98347",
            "8d9a1e24102c45d1b030f309e1e890d3",
            "29ade0338b914fe4b0c83907eb6e2672",
            "0db38e26f9c542d4b479291e8ac55638",
            "2c4a8d6b6a8f4964ab08e75e64d3d159",
            "4d0942548ca141fcab99fedb4910caf6",
            "68a582b092264df88d8ea162da805bc0",
            "584f3eba137d4a5b8c8ca0cd6f3f5629",
            "a57feb43a8454d19bad4db75227998b3",
            "f70dcdd926624bf5a1cfd18c2a56e647",
            "2b9940ce5b264a59883e0851af83c89f",
            "ab591888a8ee4083b799049fb51a87bd",
            "2a8e354b5c044fb6b068095651212fa2",
            "0a447112f9b9494294adac951a18ef09",
            "5a72f8d3401f4a1d986142946a779063",
            "e63a5da2761e4dd984686a4d3fb9bcdf",
            "935cf183d45046e48bdca00e050724f2",
            "9579939bff244137af79d4ad966762c7",
            "c5b7517bbd00414e907b175d3f3afa43",
            "d03b37c562c14ae1b3df1e534813609d",
            "6acf4234a12746518d41dd7a875022d6",
            "76fb95672eeb4fe0bcf49d6b7b9ccfad",
            "3c03e319298f4d94b6c69a68535d3706",
            "32dd72f8e03940c88d112d0aaa3487d3",
            "17b1963264c44e8aaa7305e52784240a",
            "8b9646449ae6471281324c5c152e37a9",
            "928f94316ab64774be46037f5e51db7f",
            "1b4e757600db4c4aa26184e28e39e250",
            "e537cba4c7c24e529dca72db2479be1c",
            "d040c544be1d4e48bd8cb21fcd8bbd62",
            "8a9213f17b3a4d83a542f3f66f7073e1",
            "ab2db37b2c024163a3b2641b931c7d8c",
            "ce29f8ea94e84e22bede5defbb777116",
            "7adb09fff7244aec9decb48a20ff7563",
            "fab7b04b186740f8b45f7d427c179ce7",
            "f120f524744245ae9b59c24d43b3cdb2",
            "4d32b74a1c2b4fc093a71c02ff387f91",
            "43efa5bc25974c1997fb0137567a87f0",
            "46e23e553bd04e70941561cb9202673b",
            "6c6e8a68636f4872bc38aab4a6a82f3e",
            "323f08c955904db5860155d545aebb32",
            "d47b313d402e43a1aa403471464115de",
            "df458cd99ee24d8cbdcb126c5235ca61"
          ]
        },
        "id": "_R-6uNvEDn1O",
        "outputId": "e5f9642c-13ac-43df-b4a8-02000f9c077a"
      },
      "outputs": [
        {
          "output_type": "display_data",
          "data": {
            "text/plain": [
              "tokenizer_config.json:   0%|          | 0.00/28.0 [00:00<?, ?B/s]"
            ],
            "application/vnd.jupyter.widget-view+json": {
              "version_major": 2,
              "version_minor": 0,
              "model_id": "6337ee9e1e4c48e89d28ad2b083ab815"
            }
          },
          "metadata": {}
        },
        {
          "output_type": "display_data",
          "data": {
            "text/plain": [
              "config.json:   0%|          | 0.00/570 [00:00<?, ?B/s]"
            ],
            "application/vnd.jupyter.widget-view+json": {
              "version_major": 2,
              "version_minor": 0,
              "model_id": "711a4a8246554b9fbb2e85e27b49c65f"
            }
          },
          "metadata": {}
        },
        {
          "output_type": "display_data",
          "data": {
            "text/plain": [
              "vocab.txt:   0%|          | 0.00/232k [00:00<?, ?B/s]"
            ],
            "application/vnd.jupyter.widget-view+json": {
              "version_major": 2,
              "version_minor": 0,
              "model_id": "2b9940ce5b264a59883e0851af83c89f"
            }
          },
          "metadata": {}
        },
        {
          "output_type": "display_data",
          "data": {
            "text/plain": [
              "tokenizer.json:   0%|          | 0.00/466k [00:00<?, ?B/s]"
            ],
            "application/vnd.jupyter.widget-view+json": {
              "version_major": 2,
              "version_minor": 0,
              "model_id": "76fb95672eeb4fe0bcf49d6b7b9ccfad"
            }
          },
          "metadata": {}
        },
        {
          "output_type": "display_data",
          "data": {
            "text/plain": [
              "model.safetensors:   0%|          | 0.00/440M [00:00<?, ?B/s]"
            ],
            "application/vnd.jupyter.widget-view+json": {
              "version_major": 2,
              "version_minor": 0,
              "model_id": "ce29f8ea94e84e22bede5defbb777116"
            }
          },
          "metadata": {}
        },
        {
          "output_type": "stream",
          "name": "stderr",
          "text": [
            "Some weights of the model checkpoint at bert-base-uncased were not used when initializing BertForSequenceClassification: ['cls.predictions.transform.dense.bias', 'cls.predictions.transform.LayerNorm.weight', 'cls.seq_relationship.bias', 'cls.predictions.transform.LayerNorm.bias', 'cls.predictions.bias', 'cls.seq_relationship.weight', 'cls.predictions.transform.dense.weight']\n",
            "- This IS expected if you are initializing BertForSequenceClassification from the checkpoint of a model trained on another task or with another architecture (e.g. initializing a BertForSequenceClassification model from a BertForPreTraining model).\n",
            "- This IS NOT expected if you are initializing BertForSequenceClassification from the checkpoint of a model that you expect to be exactly identical (initializing a BertForSequenceClassification model from a BertForSequenceClassification model).\n",
            "Some weights of BertForSequenceClassification were not initialized from the model checkpoint at bert-base-uncased and are newly initialized: ['classifier.bias', 'classifier.weight']\n",
            "You should probably TRAIN this model on a down-stream task to be able to use it for predictions and inference.\n"
          ]
        }
      ],
      "source": [
        "from transformers import AutoTokenizer\n",
        "from transformers import AutoModelForSequenceClassification\n",
        "from transformers import DataCollatorWithPadding\n",
        "model_card = 'bert-base-uncased'\n",
        "tokenizer = AutoTokenizer.from_pretrained(model_card)\n",
        "model = AutoModelForSequenceClassification.from_pretrained(model_card,\n",
        "                                                           num_labels= len(emotions),#max_len_dialogue,#len(emotions)+1, # +1 padding\n",
        "                                                           problem_type=\"multi_label_classification\")\n",
        "\n",
        "data_collator = DataCollatorWithPadding(tokenizer=tokenizer)"
      ]
    },
    {
      "cell_type": "code",
      "source": [
        "from sklearn.preprocessing import LabelBinarizer\n",
        "sorted_emotions = sorted(emotions)  #sort the array because Binarizer will automatically do that for one hot encoding\n",
        "label_binarizer = LabelBinarizer()\n",
        "label_binarizer.fit(sorted_emotions)\n",
        "numerical_representation = [label_binarizer.transform(sublist) for sublist in padded_emotions]"
      ],
      "metadata": {
        "id": "p-lg0CiZaqUQ"
      },
      "execution_count": 12,
      "outputs": []
    },
    {
      "cell_type": "code",
      "execution_count": 13,
      "metadata": {
        "execution": {
          "iopub.execute_input": "2024-01-12T18:31:29.907488Z",
          "iopub.status.busy": "2024-01-12T18:31:29.907098Z",
          "iopub.status.idle": "2024-01-12T18:31:30.467067Z",
          "shell.execute_reply": "2024-01-12T18:31:30.466119Z",
          "shell.execute_reply.started": "2024-01-12T18:31:29.907457Z"
        },
        "trusted": true,
        "colab": {
          "base_uri": "https://localhost:8080/"
        },
        "id": "4IalqGDZDn1N",
        "outputId": "972afab4-12cc-488a-e221-d98b2c657adb"
      },
      "outputs": [
        {
          "output_type": "execute_result",
          "data": {
            "text/plain": [
              "((3200, 4), (400, 4), (400, 4))"
            ]
          },
          "metadata": {},
          "execution_count": 13
        }
      ],
      "source": [
        "data = {\n",
        "    'episode' : df['episode'],\n",
        "    'labels' : numerical_representation,#emotions_input_ids, #tokenized emotions\n",
        "    'emotions' : padded_emotions,#emotions_input_ids, #tokenized emotions\n",
        "    'utterances': padded_dialogues,\n",
        "}\n",
        "df_tokenized = pd.DataFrame(data)\n",
        "from sklearn.model_selection import train_test_split\n",
        "train_data, temp_data = train_test_split(df_tokenized, train_size=0.8, shuffle=False)\n",
        "val_data, test_data = train_test_split(temp_data, test_size=0.5, shuffle=False)\n",
        "train_data.shape, val_data.shape,test_data.shape"
      ]
    },
    {
      "cell_type": "code",
      "execution_count": null,
      "metadata": {
        "execution": {
          "iopub.execute_input": "2024-01-12T18:31:32.620514Z",
          "iopub.status.busy": "2024-01-12T18:31:32.620181Z",
          "iopub.status.idle": "2024-01-12T18:31:33.260777Z",
          "shell.execute_reply": "2024-01-12T18:31:33.259836Z",
          "shell.execute_reply.started": "2024-01-12T18:31:32.620488Z"
        },
        "trusted": true,
        "id": "0t3b7RYBDn1O"
      },
      "outputs": [],
      "source": [
        "from datasets import Dataset\n",
        "training_hf = Dataset.from_pandas(train_data)\n",
        "validation_hf = Dataset.from_pandas(val_data)\n",
        "test_hf = Dataset.from_pandas(test_data)"
      ]
    },
    {
      "cell_type": "code",
      "source": [
        "labels_np = np.array(numerical_representation)\n",
        "print(type(labels_np))"
      ],
      "metadata": {
        "colab": {
          "base_uri": "https://localhost:8080/"
        },
        "id": "NEUjEtzsUkk3",
        "outputId": "18b3cf32-54e8-4628-9fcb-9a77b82dd9f8"
      },
      "execution_count": 14,
      "outputs": [
        {
          "output_type": "stream",
          "name": "stdout",
          "text": [
            "<class 'numpy.ndarray'>\n"
          ]
        }
      ]
    },
    {
      "cell_type": "code",
      "execution_count": 15,
      "metadata": {
        "execution": {
          "iopub.execute_input": "2024-01-12T18:33:25.558075Z",
          "iopub.status.busy": "2024-01-12T18:33:25.557724Z",
          "iopub.status.idle": "2024-01-12T18:33:47.730246Z",
          "shell.execute_reply": "2024-01-12T18:33:47.729333Z",
          "shell.execute_reply.started": "2024-01-12T18:33:25.558047Z"
        },
        "trusted": true,
        "colab": {
          "base_uri": "https://localhost:8080/",
          "height": 70
        },
        "id": "4NXHHI1fDn1O",
        "outputId": "65ae0e52-bcf5-4d8d-efad-9c0811df1491"
      },
      "outputs": [
        {
          "output_type": "stream",
          "name": "stdout",
          "text": [
            "torch.Size([400, 24, 8])\n"
          ]
        },
        {
          "output_type": "execute_result",
          "data": {
            "text/plain": [
              "'training = training_hf.map(preprocess_text, batched=True)\\nvalidation = validation_hf.map(preprocess_text, batched=True)\\ntest = test_hf.map(preprocess_text, batched=True)'"
            ],
            "application/vnd.google.colaboratory.intrinsic+json": {
              "type": "string"
            }
          },
          "metadata": {},
          "execution_count": 15
        }
      ],
      "source": [
        "import torch\n",
        "from datasets import Dataset\n",
        "def preprocess_text(texts):\n",
        "    tokenized_inputs = tokenizer([\" \".join(utterance) for utterance in texts['utterances']],padding='max_length', truncation=True, max_length=max_len_sentence, return_tensors='pt')\n",
        "\n",
        "    #labels_tensor = torch.tensor(labels_np[3200:3600,:], dtype=torch.float)\n",
        "    labels_tensor = torch.tensor(labels_np[3200:3600, :, :], dtype=torch.float)\n",
        "\n",
        "    print(labels_tensor.shape)\n",
        "    return tokenized_inputs['input_ids'],tokenized_inputs['attention_mask'],labels_tensor\n",
        "\n",
        "\"\"\"    return Dataset.from_dict({\n",
        "        'input_ids': tokenized_inputs['input_ids'],\n",
        "        'attention_mask': tokenized_inputs['attention_mask'],\n",
        "        'labels': labels_tensor\n",
        "    })\"\"\"\n",
        "\n",
        "\"\"\"def preprocess_data(data, tokenizer, mlb):\n",
        "    # Tokenize the utterances\n",
        "    tokenized_inputs = tokenizer(\n",
        "        [\" \".join(utterance) for utterance in data['utterances']],\n",
        "        padding='max_length',\n",
        "        truncation=True,\n",
        "        max_length=128, # we might wanna change this to max_len !\n",
        "        return_tensors='pt'\n",
        "    )\n",
        "\n",
        "    # Encode the emotions\n",
        "    encoded_labels = mlb.transform(data['emotions'])\n",
        "    # Convert labels to tensors\n",
        "    labels_tensor = torch.tensor(encoded_labels, dtype=torch.float)\n",
        "    # Ensure the encoded labels are the correct shape (this step is crucial to avoid the batch size mismatch)\n",
        "    if labels_tensor.shape[0] != tokenized_inputs['input_ids'].shape[0]:\n",
        "        raise ValueError(f\"Number of examples {tokenized_inputs['input_ids'].shape[0]} does not match number of labels {labels_tensor.shape[0]}\")\n",
        "\n",
        "    return Dataset.from_dict({\n",
        "        'input_ids': tokenized_inputs['input_ids'],\n",
        "        'attention_mask': tokenized_inputs['attention_mask'],\n",
        "        'labels': labels_tensor\n",
        "    })\"\"\"\n",
        "\n",
        "# Now call preprocess_data to process your train and validation data\n",
        "#train_dataset = preprocess_text(train_data)\n",
        "val_dataset = preprocess_text(val_data)\n",
        "\n",
        "\"\"\"training = training_hf.map(preprocess_text, batched=True)\n",
        "validation = validation_hf.map(preprocess_text, batched=True)\n",
        "test = test_hf.map(preprocess_text, batched=True)\"\"\""
      ]
    },
    {
      "cell_type": "code",
      "source": [
        "from torch.utils.data import DataLoader, TensorDataset\n",
        "#train_dataset = TensorDataset(train_inputs, train_masks, train_labels)\n",
        "val_dataset = TensorDataset(val_dataset[0], val_dataset[1], val_dataset[2])"
      ],
      "metadata": {
        "id": "O7o9NPbOqbGv"
      },
      "execution_count": 16,
      "outputs": []
    },
    {
      "cell_type": "code",
      "execution_count": null,
      "metadata": {
        "execution": {
          "iopub.status.busy": "2024-01-12T18:29:29.095177Z",
          "iopub.status.idle": "2024-01-12T18:29:29.095520Z",
          "shell.execute_reply": "2024-01-12T18:29:29.095374Z",
          "shell.execute_reply.started": "2024-01-12T18:29:29.095358Z"
        },
        "trusted": true,
        "id": "REXJ9ahkDn1O"
      },
      "outputs": [],
      "source": [
        "for name, param in model.named_parameters():\n",
        "    if 'embeddings' in name: # Layer names not containing 'classifier' will be frozen\n",
        "        param.requires_grad = False"
      ]
    },
    {
      "cell_type": "code",
      "source": [
        "def compute_metrics(eval_pred):\n",
        "  i = 0\n",
        "  print(eval_pred)\n",
        "  i+1\n",
        "  return {\n",
        "        'sequence_f1': 1\n",
        "    }"
      ],
      "metadata": {
        "id": "IAKiL_Ttp6Ux"
      },
      "execution_count": null,
      "outputs": []
    },
    {
      "cell_type": "code",
      "execution_count": 18,
      "metadata": {
        "execution": {
          "iopub.status.busy": "2024-01-12T18:29:29.098643Z",
          "iopub.status.idle": "2024-01-12T18:29:29.099012Z",
          "shell.execute_reply": "2024-01-12T18:29:29.098866Z",
          "shell.execute_reply.started": "2024-01-12T18:29:29.098850Z"
        },
        "trusted": true,
        "colab": {
          "base_uri": "https://localhost:8080/",
          "height": 410
        },
        "id": "CcSpQVBPDn1O",
        "outputId": "12f9f1d4-9f4f-4a3d-8c76-b2290428b6d2"
      },
      "outputs": [
        {
          "output_type": "stream",
          "name": "stderr",
          "text": [
            "You're using a BertTokenizerFast tokenizer. Please note that with a fast tokenizer, using the `__call__` method is faster than using a method to encode the text followed by a call to the `pad` method to get a padded encoding.\n"
          ]
        },
        {
          "output_type": "error",
          "ename": "AttributeError",
          "evalue": "'list' object has no attribute 'keys'",
          "traceback": [
            "\u001b[0;31m---------------------------------------------------------------------------\u001b[0m",
            "\u001b[0;31mAttributeError\u001b[0m                            Traceback (most recent call last)",
            "\u001b[0;32m<ipython-input-18-42bd495fa498>\u001b[0m in \u001b[0;36m<cell line: 27>\u001b[0;34m()\u001b[0m\n\u001b[1;32m     25\u001b[0m     \u001b[0;31m#compute_metrics=compute_metrics,\u001b[0m\u001b[0;34m\u001b[0m\u001b[0;34m\u001b[0m\u001b[0m\n\u001b[1;32m     26\u001b[0m )\n\u001b[0;32m---> 27\u001b[0;31m \u001b[0mtrainer\u001b[0m\u001b[0;34m.\u001b[0m\u001b[0mtrain\u001b[0m\u001b[0;34m(\u001b[0m\u001b[0;34m)\u001b[0m\u001b[0;34m\u001b[0m\u001b[0;34m\u001b[0m\u001b[0m\n\u001b[0m",
            "\u001b[0;32m/usr/local/lib/python3.10/dist-packages/transformers/trainer.py\u001b[0m in \u001b[0;36mtrain\u001b[0;34m(self, resume_from_checkpoint, trial, ignore_keys_for_eval, **kwargs)\u001b[0m\n\u001b[1;32m   1643\u001b[0m             \u001b[0mself\u001b[0m\u001b[0;34m.\u001b[0m\u001b[0m_inner_training_loop\u001b[0m\u001b[0;34m,\u001b[0m \u001b[0mself\u001b[0m\u001b[0;34m.\u001b[0m\u001b[0m_train_batch_size\u001b[0m\u001b[0;34m,\u001b[0m \u001b[0margs\u001b[0m\u001b[0;34m.\u001b[0m\u001b[0mauto_find_batch_size\u001b[0m\u001b[0;34m\u001b[0m\u001b[0;34m\u001b[0m\u001b[0m\n\u001b[1;32m   1644\u001b[0m         )\n\u001b[0;32m-> 1645\u001b[0;31m         return inner_training_loop(\n\u001b[0m\u001b[1;32m   1646\u001b[0m             \u001b[0margs\u001b[0m\u001b[0;34m=\u001b[0m\u001b[0margs\u001b[0m\u001b[0;34m,\u001b[0m\u001b[0;34m\u001b[0m\u001b[0;34m\u001b[0m\u001b[0m\n\u001b[1;32m   1647\u001b[0m             \u001b[0mresume_from_checkpoint\u001b[0m\u001b[0;34m=\u001b[0m\u001b[0mresume_from_checkpoint\u001b[0m\u001b[0;34m,\u001b[0m\u001b[0;34m\u001b[0m\u001b[0;34m\u001b[0m\u001b[0m\n",
            "\u001b[0;32m/usr/local/lib/python3.10/dist-packages/transformers/trainer.py\u001b[0m in \u001b[0;36m_inner_training_loop\u001b[0;34m(self, batch_size, args, resume_from_checkpoint, trial, ignore_keys_for_eval)\u001b[0m\n\u001b[1;32m   1905\u001b[0m \u001b[0;34m\u001b[0m\u001b[0m\n\u001b[1;32m   1906\u001b[0m             \u001b[0mstep\u001b[0m \u001b[0;34m=\u001b[0m \u001b[0;34m-\u001b[0m\u001b[0;36m1\u001b[0m\u001b[0;34m\u001b[0m\u001b[0;34m\u001b[0m\u001b[0m\n\u001b[0;32m-> 1907\u001b[0;31m             \u001b[0;32mfor\u001b[0m \u001b[0mstep\u001b[0m\u001b[0;34m,\u001b[0m \u001b[0minputs\u001b[0m \u001b[0;32min\u001b[0m \u001b[0menumerate\u001b[0m\u001b[0;34m(\u001b[0m\u001b[0mepoch_iterator\u001b[0m\u001b[0;34m)\u001b[0m\u001b[0;34m:\u001b[0m\u001b[0;34m\u001b[0m\u001b[0;34m\u001b[0m\u001b[0m\n\u001b[0m\u001b[1;32m   1908\u001b[0m                 \u001b[0mtotal_batched_samples\u001b[0m \u001b[0;34m+=\u001b[0m \u001b[0;36m1\u001b[0m\u001b[0;34m\u001b[0m\u001b[0;34m\u001b[0m\u001b[0m\n\u001b[1;32m   1909\u001b[0m                 \u001b[0;32mif\u001b[0m \u001b[0mrng_to_sync\u001b[0m\u001b[0;34m:\u001b[0m\u001b[0;34m\u001b[0m\u001b[0;34m\u001b[0m\u001b[0m\n",
            "\u001b[0;32m/usr/local/lib/python3.10/dist-packages/torch/utils/data/dataloader.py\u001b[0m in \u001b[0;36m__next__\u001b[0;34m(self)\u001b[0m\n\u001b[1;32m    626\u001b[0m                 \u001b[0;31m# TODO(https://github.com/pytorch/pytorch/issues/76750)\u001b[0m\u001b[0;34m\u001b[0m\u001b[0;34m\u001b[0m\u001b[0m\n\u001b[1;32m    627\u001b[0m                 \u001b[0mself\u001b[0m\u001b[0;34m.\u001b[0m\u001b[0m_reset\u001b[0m\u001b[0;34m(\u001b[0m\u001b[0;34m)\u001b[0m  \u001b[0;31m# type: ignore[call-arg]\u001b[0m\u001b[0;34m\u001b[0m\u001b[0;34m\u001b[0m\u001b[0m\n\u001b[0;32m--> 628\u001b[0;31m             \u001b[0mdata\u001b[0m \u001b[0;34m=\u001b[0m \u001b[0mself\u001b[0m\u001b[0;34m.\u001b[0m\u001b[0m_next_data\u001b[0m\u001b[0;34m(\u001b[0m\u001b[0;34m)\u001b[0m\u001b[0;34m\u001b[0m\u001b[0;34m\u001b[0m\u001b[0m\n\u001b[0m\u001b[1;32m    629\u001b[0m             \u001b[0mself\u001b[0m\u001b[0;34m.\u001b[0m\u001b[0m_num_yielded\u001b[0m \u001b[0;34m+=\u001b[0m \u001b[0;36m1\u001b[0m\u001b[0;34m\u001b[0m\u001b[0;34m\u001b[0m\u001b[0m\n\u001b[1;32m    630\u001b[0m             \u001b[0;32mif\u001b[0m \u001b[0mself\u001b[0m\u001b[0;34m.\u001b[0m\u001b[0m_dataset_kind\u001b[0m \u001b[0;34m==\u001b[0m \u001b[0m_DatasetKind\u001b[0m\u001b[0;34m.\u001b[0m\u001b[0mIterable\u001b[0m \u001b[0;32mand\u001b[0m\u001b[0;31m \u001b[0m\u001b[0;31m\\\u001b[0m\u001b[0;34m\u001b[0m\u001b[0;34m\u001b[0m\u001b[0m\n",
            "\u001b[0;32m/usr/local/lib/python3.10/dist-packages/torch/utils/data/dataloader.py\u001b[0m in \u001b[0;36m_next_data\u001b[0;34m(self)\u001b[0m\n\u001b[1;32m    669\u001b[0m     \u001b[0;32mdef\u001b[0m \u001b[0m_next_data\u001b[0m\u001b[0;34m(\u001b[0m\u001b[0mself\u001b[0m\u001b[0;34m)\u001b[0m\u001b[0;34m:\u001b[0m\u001b[0;34m\u001b[0m\u001b[0;34m\u001b[0m\u001b[0m\n\u001b[1;32m    670\u001b[0m         \u001b[0mindex\u001b[0m \u001b[0;34m=\u001b[0m \u001b[0mself\u001b[0m\u001b[0;34m.\u001b[0m\u001b[0m_next_index\u001b[0m\u001b[0;34m(\u001b[0m\u001b[0;34m)\u001b[0m  \u001b[0;31m# may raise StopIteration\u001b[0m\u001b[0;34m\u001b[0m\u001b[0;34m\u001b[0m\u001b[0m\n\u001b[0;32m--> 671\u001b[0;31m         \u001b[0mdata\u001b[0m \u001b[0;34m=\u001b[0m \u001b[0mself\u001b[0m\u001b[0;34m.\u001b[0m\u001b[0m_dataset_fetcher\u001b[0m\u001b[0;34m.\u001b[0m\u001b[0mfetch\u001b[0m\u001b[0;34m(\u001b[0m\u001b[0mindex\u001b[0m\u001b[0;34m)\u001b[0m  \u001b[0;31m# may raise StopIteration\u001b[0m\u001b[0;34m\u001b[0m\u001b[0;34m\u001b[0m\u001b[0m\n\u001b[0m\u001b[1;32m    672\u001b[0m         \u001b[0;32mif\u001b[0m \u001b[0mself\u001b[0m\u001b[0;34m.\u001b[0m\u001b[0m_pin_memory\u001b[0m\u001b[0;34m:\u001b[0m\u001b[0;34m\u001b[0m\u001b[0;34m\u001b[0m\u001b[0m\n\u001b[1;32m    673\u001b[0m             \u001b[0mdata\u001b[0m \u001b[0;34m=\u001b[0m \u001b[0m_utils\u001b[0m\u001b[0;34m.\u001b[0m\u001b[0mpin_memory\u001b[0m\u001b[0;34m.\u001b[0m\u001b[0mpin_memory\u001b[0m\u001b[0;34m(\u001b[0m\u001b[0mdata\u001b[0m\u001b[0;34m,\u001b[0m \u001b[0mself\u001b[0m\u001b[0;34m.\u001b[0m\u001b[0m_pin_memory_device\u001b[0m\u001b[0;34m)\u001b[0m\u001b[0;34m\u001b[0m\u001b[0;34m\u001b[0m\u001b[0m\n",
            "\u001b[0;32m/usr/local/lib/python3.10/dist-packages/torch/utils/data/_utils/fetch.py\u001b[0m in \u001b[0;36mfetch\u001b[0;34m(self, possibly_batched_index)\u001b[0m\n\u001b[1;32m     59\u001b[0m         \u001b[0;32melse\u001b[0m\u001b[0;34m:\u001b[0m\u001b[0;34m\u001b[0m\u001b[0;34m\u001b[0m\u001b[0m\n\u001b[1;32m     60\u001b[0m             \u001b[0mdata\u001b[0m \u001b[0;34m=\u001b[0m \u001b[0mself\u001b[0m\u001b[0;34m.\u001b[0m\u001b[0mdataset\u001b[0m\u001b[0;34m[\u001b[0m\u001b[0mpossibly_batched_index\u001b[0m\u001b[0;34m]\u001b[0m\u001b[0;34m\u001b[0m\u001b[0;34m\u001b[0m\u001b[0m\n\u001b[0;32m---> 61\u001b[0;31m         \u001b[0;32mreturn\u001b[0m \u001b[0mself\u001b[0m\u001b[0;34m.\u001b[0m\u001b[0mcollate_fn\u001b[0m\u001b[0;34m(\u001b[0m\u001b[0mdata\u001b[0m\u001b[0;34m)\u001b[0m\u001b[0;34m\u001b[0m\u001b[0;34m\u001b[0m\u001b[0m\n\u001b[0m",
            "\u001b[0;32m/usr/local/lib/python3.10/dist-packages/transformers/trainer_utils.py\u001b[0m in \u001b[0;36m__call__\u001b[0;34m(self, features)\u001b[0m\n\u001b[1;32m    704\u001b[0m     \u001b[0;32mdef\u001b[0m \u001b[0m__call__\u001b[0m\u001b[0;34m(\u001b[0m\u001b[0mself\u001b[0m\u001b[0;34m,\u001b[0m \u001b[0mfeatures\u001b[0m\u001b[0;34m:\u001b[0m \u001b[0mList\u001b[0m\u001b[0;34m[\u001b[0m\u001b[0mdict\u001b[0m\u001b[0;34m]\u001b[0m\u001b[0;34m)\u001b[0m\u001b[0;34m:\u001b[0m\u001b[0;34m\u001b[0m\u001b[0;34m\u001b[0m\u001b[0m\n\u001b[1;32m    705\u001b[0m         \u001b[0mfeatures\u001b[0m \u001b[0;34m=\u001b[0m \u001b[0;34m[\u001b[0m\u001b[0mself\u001b[0m\u001b[0;34m.\u001b[0m\u001b[0m_remove_columns\u001b[0m\u001b[0;34m(\u001b[0m\u001b[0mfeature\u001b[0m\u001b[0;34m)\u001b[0m \u001b[0;32mfor\u001b[0m \u001b[0mfeature\u001b[0m \u001b[0;32min\u001b[0m \u001b[0mfeatures\u001b[0m\u001b[0;34m]\u001b[0m\u001b[0;34m\u001b[0m\u001b[0;34m\u001b[0m\u001b[0m\n\u001b[0;32m--> 706\u001b[0;31m         \u001b[0;32mreturn\u001b[0m \u001b[0mself\u001b[0m\u001b[0;34m.\u001b[0m\u001b[0mdata_collator\u001b[0m\u001b[0;34m(\u001b[0m\u001b[0mfeatures\u001b[0m\u001b[0;34m)\u001b[0m\u001b[0;34m\u001b[0m\u001b[0;34m\u001b[0m\u001b[0m\n\u001b[0m",
            "\u001b[0;32m/usr/local/lib/python3.10/dist-packages/transformers/data/data_collator.py\u001b[0m in \u001b[0;36m__call__\u001b[0;34m(self, features)\u001b[0m\n\u001b[1;32m    247\u001b[0m \u001b[0;34m\u001b[0m\u001b[0m\n\u001b[1;32m    248\u001b[0m     \u001b[0;32mdef\u001b[0m \u001b[0m__call__\u001b[0m\u001b[0;34m(\u001b[0m\u001b[0mself\u001b[0m\u001b[0;34m,\u001b[0m \u001b[0mfeatures\u001b[0m\u001b[0;34m:\u001b[0m \u001b[0mList\u001b[0m\u001b[0;34m[\u001b[0m\u001b[0mDict\u001b[0m\u001b[0;34m[\u001b[0m\u001b[0mstr\u001b[0m\u001b[0;34m,\u001b[0m \u001b[0mAny\u001b[0m\u001b[0;34m]\u001b[0m\u001b[0;34m]\u001b[0m\u001b[0;34m)\u001b[0m \u001b[0;34m->\u001b[0m \u001b[0mDict\u001b[0m\u001b[0;34m[\u001b[0m\u001b[0mstr\u001b[0m\u001b[0;34m,\u001b[0m \u001b[0mAny\u001b[0m\u001b[0;34m]\u001b[0m\u001b[0;34m:\u001b[0m\u001b[0;34m\u001b[0m\u001b[0;34m\u001b[0m\u001b[0m\n\u001b[0;32m--> 249\u001b[0;31m         batch = self.tokenizer.pad(\n\u001b[0m\u001b[1;32m    250\u001b[0m             \u001b[0mfeatures\u001b[0m\u001b[0;34m,\u001b[0m\u001b[0;34m\u001b[0m\u001b[0;34m\u001b[0m\u001b[0m\n\u001b[1;32m    251\u001b[0m             \u001b[0mpadding\u001b[0m\u001b[0;34m=\u001b[0m\u001b[0mself\u001b[0m\u001b[0;34m.\u001b[0m\u001b[0mpadding\u001b[0m\u001b[0;34m,\u001b[0m\u001b[0;34m\u001b[0m\u001b[0;34m\u001b[0m\u001b[0m\n",
            "\u001b[0;32m/usr/local/lib/python3.10/dist-packages/transformers/tokenization_utils_base.py\u001b[0m in \u001b[0;36mpad\u001b[0;34m(self, encoded_inputs, padding, max_length, pad_to_multiple_of, return_attention_mask, return_tensors, verbose)\u001b[0m\n\u001b[1;32m   2977\u001b[0m             raise ValueError(\n\u001b[1;32m   2978\u001b[0m                 \u001b[0;34m\"You should supply an encoding or a list of encodings to this method \"\u001b[0m\u001b[0;34m\u001b[0m\u001b[0;34m\u001b[0m\u001b[0m\n\u001b[0;32m-> 2979\u001b[0;31m                 \u001b[0;34mf\"that includes {self.model_input_names[0]}, but you provided {list(encoded_inputs.keys())}\"\u001b[0m\u001b[0;34m\u001b[0m\u001b[0;34m\u001b[0m\u001b[0m\n\u001b[0m\u001b[1;32m   2980\u001b[0m             )\n\u001b[1;32m   2981\u001b[0m \u001b[0;34m\u001b[0m\u001b[0m\n",
            "\u001b[0;31mAttributeError\u001b[0m: 'list' object has no attribute 'keys'"
          ]
        }
      ],
      "source": [
        "from transformers import TrainingArguments\n",
        "\n",
        "training_args = TrainingArguments(\n",
        "    output_dir=\"test_dir\",                 # where to save model\n",
        "    learning_rate=1e-5,\n",
        "    per_device_train_batch_size=10,         # accelerate defines distributed training\n",
        "    per_device_eval_batch_size=50,\n",
        "    num_train_epochs=1,\n",
        "    weight_decay=0.1,\n",
        "    evaluation_strategy=\"epoch\",           # when to report evaluation metrics/losses\n",
        "    logging_strategy=\"epoch\",\n",
        "    save_strategy=\"epoch\",                 # when to save checkpoint\n",
        "    load_best_model_at_end=True,\n",
        "    report_to='none'                       # disabling wandb (default)\n",
        ")\n",
        "from transformers import Trainer\n",
        "\n",
        "trainer = Trainer(\n",
        "    model=model,\n",
        "    args=training_args,\n",
        "    train_dataset=val_dataset,\n",
        "    eval_dataset=val_dataset,\n",
        "    tokenizer=tokenizer,\n",
        "    data_collator=data_collator,\n",
        "    #compute_metrics=compute_metrics,\n",
        ")\n",
        "trainer.train()"
      ]
    },
    {
      "cell_type": "code",
      "source": [
        "# system packages\n",
        "from pathlib import Path\n",
        "import shutil\n",
        "import urllib\n",
        "import tarfile\n",
        "import sys\n",
        "import os\n",
        "# data and numerical management packages\n",
        "import pandas as pd\n",
        "import random\n",
        "import numpy as np\n",
        "import tensorflow as tf\n",
        "import matplotlib.pyplot as plt\n",
        "\n",
        "import warnings\n",
        "warnings.filterwarnings('ignore')\n",
        "# useful during debugging (progress bars)\n",
        "from tqdm import tqdm\n",
        "from transformers import set_seed\n",
        "\n",
        "seed = 852\n",
        "\n",
        "random.seed(seed)\n",
        "np.random.seed(seed)\n",
        "set_seed(seed)\n",
        "dataset_folder = Path.cwd().joinpath(\"Datasets/MELD_train_efr.json\")\n",
        "emotions = df['emotions'].explode().unique()\n",
        "dialogues = df['utterances']\n",
        "#print(sentences)\n",
        "max_len_dialogue = 0\n",
        "index = 0\n",
        "for idx, dialogue in enumerate(dialogues):\n",
        "  if len(dialogue) > max_len_dialogue:\n",
        "    max_len_dialogue = len(dialogue)\n",
        "    index = idx\n",
        "max_len_dialogue,index\n",
        "dialogues = df['utterances']\n",
        "#print(sentences)\n",
        "max_len_sentence = 0\n",
        "index = 0\n",
        "for idx, dialogue in enumerate(dialogues):\n",
        "  for idx_sentence, utterance in enumerate(dialogue):\n",
        "    if len(utterance.split()) > max_len_sentence:\n",
        "      max_len_sentence = len(utterance.split())\n",
        "      index = idx,idx_sentence\n",
        "max_len_sentence,index\n",
        "\n",
        "from transformers import AutoTokenizer\n",
        "from transformers import AutoModelForSequenceClassification\n",
        "from transformers import DataCollatorWithPadding\n",
        "model_card = 'bert-base-uncased'\n",
        "tokenizer = AutoTokenizer.from_pretrained(model_card)\n",
        "model = AutoModelForSequenceClassification.from_pretrained(model_card,\n",
        "                                                           num_labels= len(emotions)+1,#max_len_dialogue,#len(emotions)+1, # +1 padding\n",
        "                                                           problem_type=\"multi_label_classification\")\n",
        "\n",
        "data_collator = DataCollatorWithPadding(tokenizer=tokenizer)\n",
        "padded_dialogues = [seq + ['[PAD]'] * (max_len_dialogue - len(seq)) for seq in dialogues]\n",
        "padded_emotions = [seq + ['[PAD]'] * (max_len_dialogue - len(seq)) for seq in df['emotions']]\n",
        "\n",
        "from sklearn.preprocessing import LabelBinarizer\n",
        "sorted_emotions = sorted(emotions)  #sort the array because Binarizer will automatically do that for one hot encoding\n",
        "label_binarizer = LabelBinarizer()\n",
        "label_binarizer.fit(sorted_emotions)\n",
        "numerical_representation = [label_binarizer.transform(sublist) for sublist in padded_emotions]\n",
        "\n",
        "data = {\n",
        "    'episode' : df['episode'],\n",
        "    'labels' : numerical_representation,#emotions_input_ids, #tokenized emotions\n",
        "    'emotions' : padded_emotions,#emotions_input_ids, #tokenized emotions\n",
        "    'utterances': padded_dialogues,\n",
        "}\n",
        "df_tokenized = pd.DataFrame(data)\n",
        "from sklearn.model_selection import train_test_split\n",
        "train_data, temp_data = train_test_split(df_tokenized, train_size=0.8, shuffle=False)\n",
        "val_data, test_data = train_test_split(temp_data, test_size=0.5, shuffle=False)\n",
        "train_data.shape, val_data.shape,test_data.shape\n",
        "\n",
        "import torch\n",
        "from datasets import Dataset\n",
        "def preprocess_text(texts):\n",
        "    tokenized_inputs = tokenizer([\" \".join(utterance) for utterance in texts['utterances']],padding='max_length', truncation=True, max_length=max_len_sentence, return_tensors='pt')\n",
        "\n",
        "    labels_tensor = torch.tensor(labels_np[3200:3600,:], dtype=torch.float)\n",
        "    print(labels_tensor.shape)\n",
        "    return Dataset.from_dict({\n",
        "        'input_ids': tokenized_inputs['input_ids'],\n",
        "        'attention_mask': tokenized_inputs['attention_mask'],\n",
        "        'labels': labels_tensor\n",
        "    })\n",
        "val_dataset = preprocess_text(val_data)\n",
        "\n",
        "from transformers import TrainingArguments\n",
        "\n",
        "training_args = TrainingArguments(\n",
        "    output_dir=\"test_dir\",                 # where to save model\n",
        "    learning_rate=1e-5,\n",
        "    per_device_train_batch_size=10,         # accelerate defines distributed training\n",
        "    per_device_eval_batch_size=50,\n",
        "    num_train_epochs=1,\n",
        "    weight_decay=0.1,\n",
        "    evaluation_strategy=\"epoch\",           # when to report evaluation metrics/losses\n",
        "    logging_strategy=\"epoch\",\n",
        "    save_strategy=\"epoch\",                 # when to save checkpoint\n",
        "    load_best_model_at_end=True,\n",
        "    report_to='none'                       # disabling wandb (default)\n",
        ")\n",
        "from transformers import Trainer\n",
        "\n",
        "trainer = Trainer(\n",
        "    model=model,\n",
        "    args=training_args,\n",
        "    train_dataset=val_dataset,\n",
        "    eval_dataset=val_dataset,\n",
        "    tokenizer=tokenizer,\n",
        "    data_collator=data_collator,\n",
        "    #compute_metrics=compute_metrics,\n",
        ")\n",
        "trainer.train()"
      ],
      "metadata": {
        "id": "QMRJ6dv7ocX_"
      },
      "execution_count": null,
      "outputs": []
    },
    {
      "cell_type": "code",
      "source": [
        "test_prediction_info = trainer.predict(val_dataset)"
      ],
      "metadata": {
        "id": "bpGyE6mBZ-tp"
      },
      "execution_count": null,
      "outputs": []
    },
    {
      "cell_type": "code",
      "source": [
        "test_prediction_info.label_ids.shape"
      ],
      "metadata": {
        "id": "yFMXdmfyaCJh"
      },
      "execution_count": null,
      "outputs": []
    },
    {
      "cell_type": "code",
      "source": [
        "#metrics = compute_metrics(test_prediction_info)\n",
        "#print(test_prediction_info)\n",
        "test_prediction_info.predictions[0],test_prediction_info.label_ids[0]"
      ],
      "metadata": {
        "id": "YOTBKyU1s-i1"
      },
      "execution_count": null,
      "outputs": []
    },
    {
      "cell_type": "code",
      "source": [
        "val_data['emotions'][3200]"
      ],
      "metadata": {
        "id": "0chv6R9ctHFl"
      },
      "execution_count": null,
      "outputs": []
    },
    {
      "cell_type": "markdown",
      "metadata": {
        "id": "PJ9XJj7DqQCe"
      },
      "source": [
        "### Nalin's scribbles below"
      ]
    },
    {
      "cell_type": "code",
      "execution_count": null,
      "metadata": {
        "execution": {
          "iopub.status.busy": "2024-01-12T18:29:29.101779Z",
          "iopub.status.idle": "2024-01-12T18:29:29.102100Z",
          "shell.execute_reply": "2024-01-12T18:29:29.101953Z",
          "shell.execute_reply.started": "2024-01-12T18:29:29.101937Z"
        },
        "id": "006vgUiREp2_",
        "trusted": true
      },
      "outputs": [],
      "source": [
        "from sklearn.metrics import f1_score\n",
        "import numpy as np\n",
        "\n",
        "def compute_metrics(eval_pred):\n",
        "    logits, labels = eval_pred\n",
        "    # Apply sigmoid to logits and threshold to get multi-label predictions\n",
        "    sigmoid_logits = 1 / (1 + np.exp(-logits))  # Sigmoid function\n",
        "    threshold = 0.5\n",
        "    predictions = (sigmoid_logits > threshold).astype(int)\n",
        "\n",
        "    # Calculate F1 score for each individual label/class\n",
        "    f1_scores = [f1_score(labels[:, i], predictions[:, i], average='binary') for i in range(num_labels)]\n",
        "\n",
        "    # Sequence F1: compute the F1-score for each dialogue and report the average score\n",
        "    sequence_f1 = np.mean(f1_scores)\n",
        "\n",
        "    # Unrolled Sequence F1: flatten all utterances and compute the F1-score\n",
        "    unrolled_labels = labels.flatten()\n",
        "    unrolled_predictions = predictions.flatten()\n",
        "    unrolled_sequence_f1 = f1_score(unrolled_labels, unrolled_predictions, average='binary')\n",
        "\n",
        "    return {\n",
        "        'sequence_f1': sequence_f1,\n",
        "        'unrolled_sequence_f1': unrolled_sequence_f1\n",
        "    }"
      ]
    },
    {
      "cell_type": "code",
      "execution_count": null,
      "metadata": {
        "execution": {
          "iopub.status.busy": "2024-01-12T18:29:29.103311Z",
          "iopub.status.idle": "2024-01-12T18:29:29.103686Z",
          "shell.execute_reply": "2024-01-12T18:29:29.103508Z",
          "shell.execute_reply.started": "2024-01-12T18:29:29.103491Z"
        },
        "id": "p6R1HFVT_UYS",
        "trusted": true
      },
      "outputs": [],
      "source": [
        "from transformers import BertTokenizer, BertForSequenceClassification, Trainer, TrainingArguments\n",
        "from sklearn.preprocessing import MultiLabelBinarizer\n",
        "from datasets import Dataset\n",
        "import torch\n",
        "\n",
        "emotions = df['emotions'].explode().unique()\n",
        "num_labels = len(emotions)\n",
        "# Initialize the tokenizer\n",
        "model_card = 'bert-base-uncased'\n",
        "tokenizer = BertTokenizer.from_pretrained(model_card)\n",
        "\n",
        "# Initialize MultiLabelBinarizer for emotions\n",
        "mlb = MultiLabelBinarizer()\n",
        "mlb.fit(train_data['emotions'])\n",
        "\n",
        "def preprocess_data(data, tokenizer, mlb):\n",
        "    # Tokenize the utterances\n",
        "    tokenized_inputs = tokenizer(\n",
        "        [\" \".join(utterance) for utterance in data['utterances']],\n",
        "        padding='max_length',\n",
        "        truncation=True,\n",
        "        max_length=128, # we might wanna change this to max_len !\n",
        "        return_tensors='pt'\n",
        "    )\n",
        "\n",
        "    # Encode the emotions\n",
        "    encoded_labels = mlb.transform(data['emotions'])\n",
        "    # Convert labels to tensors\n",
        "    labels_tensor = torch.tensor(encoded_labels, dtype=torch.float)\n",
        "    # Ensure the encoded labels are the correct shape (this step is crucial to avoid the batch size mismatch)\n",
        "    if labels_tensor.shape[0] != tokenized_inputs['input_ids'].shape[0]:\n",
        "        raise ValueError(f\"Number of examples {tokenized_inputs['input_ids'].shape[0]} does not match number of labels {labels_tensor.shape[0]}\")\n",
        "\n",
        "    return Dataset.from_dict({\n",
        "        'input_ids': tokenized_inputs['input_ids'],\n",
        "        'attention_mask': tokenized_inputs['attention_mask'],\n",
        "        'labels': labels_tensor\n",
        "    })\n",
        "\n",
        "# Now call preprocess_data to process your train and validation data\n",
        "train_dataset = preprocess_data(train_data, tokenizer, mlb)\n",
        "val_dataset = preprocess_data(val_data, tokenizer, mlb)\n",
        "\n",
        "print(\"Single train example:\", train_dataset[0])\n",
        "print(\"Single validation example:\",val_dataset[0])"
      ]
    },
    {
      "cell_type": "code",
      "source": [
        "val_dataset['input_ids'][0]"
      ],
      "metadata": {
        "id": "S4pFIyCSp9kd"
      },
      "execution_count": null,
      "outputs": []
    },
    {
      "cell_type": "code",
      "execution_count": null,
      "metadata": {
        "execution": {
          "iopub.status.busy": "2024-01-12T18:29:29.105207Z",
          "iopub.status.idle": "2024-01-12T18:29:29.105538Z",
          "shell.execute_reply": "2024-01-12T18:29:29.105392Z",
          "shell.execute_reply.started": "2024-01-12T18:29:29.105378Z"
        },
        "trusted": true,
        "id": "CVLkqwTGDn1P"
      },
      "outputs": [],
      "source": [
        "# Define training arguments\n",
        "training_args = TrainingArguments(\n",
        "    output_dir='./results',\n",
        "    num_train_epochs=1,\n",
        "    per_device_train_batch_size=16,\n",
        "    per_device_eval_batch_size=64,\n",
        "    warmup_steps=500,\n",
        "    weight_decay=0.01,\n",
        "    logging_dir='./logs',\n",
        "    logging_steps=10,\n",
        "    evaluation_strategy = \"epoch\"\n",
        ")\n",
        "\n",
        "# Initialize the model with the number of emotion labels\n",
        "num_labels = len(mlb.classes_)\n",
        "model = BertForSequenceClassification.from_pretrained(model_card, num_labels=num_labels)\n",
        "# Freeze the BERT embedding layer weights\n",
        "for name, param in model.named_parameters():\n",
        "    if 'classifier' not in name: # Layer names not containing 'classifier' will be frozen\n",
        "        param.requires_grad = False\n",
        "\n",
        "# Initialize the Trainer\n",
        "trainer = Trainer(\n",
        "    model=model,\n",
        "    args=training_args,\n",
        "    train_dataset=train_dataset,\n",
        "    eval_dataset=val_dataset,\n",
        "    compute_metrics = compute_metrics\n",
        ")\n",
        "# Train the model\n",
        "trainer.train()\n",
        "# Train the model\n",
        "trainer.train()\n",
        "results = trainer.evaluate()\n",
        "\n",
        "print(results)"
      ]
    },
    {
      "cell_type": "code",
      "source": [
        "test_prediction_info = trainer.predict(val_dataset)\n",
        "#metrics = compute_metrics(test_prediction_info)\n",
        "#print(test_prediction_info)\n",
        "test_prediction_info.predictions[0],test_prediction_info.label_ids[0]"
      ],
      "metadata": {
        "id": "INbj8lLHhH-e"
      },
      "execution_count": null,
      "outputs": []
    },
    {
      "cell_type": "markdown",
      "metadata": {
        "id": "L-LN0VtFJ19_"
      },
      "source": [
        "## For two classifier heads, one common model\n"
      ]
    },
    {
      "cell_type": "code",
      "execution_count": null,
      "metadata": {
        "execution": {
          "iopub.status.busy": "2024-01-12T18:29:29.106729Z",
          "iopub.status.idle": "2024-01-12T18:29:29.107060Z",
          "shell.execute_reply": "2024-01-12T18:29:29.106915Z",
          "shell.execute_reply.started": "2024-01-12T18:29:29.106900Z"
        },
        "id": "ePRUH-k7Yg57",
        "trusted": true
      },
      "outputs": [],
      "source": [
        "!pip install datasets==2.13.2\n",
        "!pip install accelerate -U"
      ]
    },
    {
      "cell_type": "code",
      "execution_count": null,
      "metadata": {
        "execution": {
          "iopub.status.busy": "2024-01-12T18:29:29.108963Z",
          "iopub.status.idle": "2024-01-12T18:29:29.109272Z",
          "shell.execute_reply": "2024-01-12T18:29:29.109134Z",
          "shell.execute_reply.started": "2024-01-12T18:29:29.109119Z"
        },
        "id": "bTfpfqKOJz-d",
        "trusted": true
      },
      "outputs": [],
      "source": [
        "from transformers import BertPreTrainedModel, BertModel\n",
        "from transformers import BertTokenizer, BertForSequenceClassification, Trainer, TrainingArguments\n",
        "from torch.nn import BCEWithLogitsLoss, Linear\n",
        "import torch\n",
        "from sklearn.preprocessing import MultiLabelBinarizer\n",
        "from datasets import Dataset\n",
        "\n",
        "class BertForMultiLabelSequenceClassification(BertPreTrainedModel):\n",
        "    def __init__(self, config, num_labels_emotions, num_labels_triggers):\n",
        "        super().__init__(config)\n",
        "        self.num_labels_emotions = num_labels_emotions\n",
        "        self.num_labels_triggers = num_labels_triggers\n",
        "\n",
        "        self.bert = BertModel(config)\n",
        "        self.classifier_emotions = Linear(config.hidden_size, num_labels_emotions)\n",
        "        self.classifier_triggers = Linear(config.hidden_size, num_labels_triggers)\n",
        "\n",
        "        # You can initialize weights here if needed\n",
        "\n",
        "    def forward(\n",
        "        self,\n",
        "        input_ids=None,\n",
        "        attention_mask=None,\n",
        "        token_type_ids=None,\n",
        "        labels_emotions=None,\n",
        "        labels_triggers=None,\n",
        "        return_dict=None,\n",
        "    ):\n",
        "        outputs = self.bert(\n",
        "            input_ids,\n",
        "            attention_mask=attention_mask,\n",
        "            token_type_ids=token_type_ids\n",
        "        )\n",
        "\n",
        "        pooled_output = outputs[1]\n",
        "\n",
        "        logits_emotions = self.classifier_emotions(pooled_output)\n",
        "        logits_triggers = self.classifier_triggers(pooled_output)\n",
        "\n",
        "        loss = None\n",
        "        # Calculate loss only if both labels are provided\n",
        "        if labels_emotions is not None and labels_triggers is not None:\n",
        "            loss_fct = BCEWithLogitsLoss()\n",
        "            loss_emotions = loss_fct(logits_emotions.view(-1, self.num_labels_emotions), labels_emotions.view(-1))\n",
        "            loss_triggers = loss_fct(logits_triggers.view(-1, self.num_labels_triggers), labels_triggers.view(-1))\n",
        "            loss = loss_emotions + loss_triggers\n",
        "\n",
        "        # Adjust the return statement to match what your compute_loss method expects\n",
        "        if not return_dict:\n",
        "            outputs = (logits_emotions, logits_triggers)\n",
        "            if loss is not None:\n",
        "                outputs = (loss,) + outputs\n",
        "        else:\n",
        "            outputs = {'loss': loss, 'logits_emotions': logits_emotions, 'logits_triggers': logits_triggers}\n",
        "\n",
        "        return outputs\n",
        "        \"\"\"\n",
        "        if not return_dict:\n",
        "            print(f\"Logits Emotions: {logits_emotions.shape}, Logits Triggers: {logits_triggers.shape}\")\n",
        "            output = (logits_emotions, logits_triggers) if loss is None else (loss, logits_emotions, logits_triggers)\n",
        "            return (loss, logits_emotions, logits_triggers) if loss is not None else (logits_emotions, logits_triggers)\n",
        "        else:\n",
        "            raise NotImplementedError(\"return_dict is set to True, but this model does not support it.\")\n",
        "            \"\"\""
      ]
    },
    {
      "cell_type": "code",
      "execution_count": null,
      "metadata": {
        "execution": {
          "iopub.status.busy": "2024-01-12T18:29:29.110848Z",
          "iopub.status.idle": "2024-01-12T18:29:29.111189Z",
          "shell.execute_reply": "2024-01-12T18:29:29.111035Z",
          "shell.execute_reply.started": "2024-01-12T18:29:29.111019Z"
        },
        "id": "3hijFGmeMkAE",
        "trusted": true
      },
      "outputs": [],
      "source": [
        "# Initialize MultiLabelBinarizers\n",
        "mlb_emotions = MultiLabelBinarizer()\n",
        "mlb_triggers = MultiLabelBinarizer()\n",
        "mlb_emotions.fit(train_data['emotions'])\n",
        "mlb_triggers.fit(train_data['triggers'])\n",
        "\n",
        "# Initialize the tokenizer\n",
        "model_card = 'bert-base-uncased'\n",
        "tokenizer = BertTokenizer.from_pretrained(model_card)"
      ]
    },
    {
      "cell_type": "code",
      "execution_count": null,
      "metadata": {
        "execution": {
          "iopub.status.busy": "2024-01-12T18:29:29.112750Z",
          "iopub.status.idle": "2024-01-12T18:29:29.113189Z",
          "shell.execute_reply": "2024-01-12T18:29:29.112978Z",
          "shell.execute_reply.started": "2024-01-12T18:29:29.112958Z"
        },
        "id": "zuvufmF0mieE",
        "trusted": true
      },
      "outputs": [],
      "source": [
        "def preprocess_data(data, tokenizer, mlb_emotions, mlb_triggers):\n",
        "    tokenized_inputs = tokenizer(\n",
        "      [\" \".join(utterance) for utterance in data['utterances']],\n",
        "      padding='max_length',\n",
        "      truncation=True,\n",
        "      max_length=128,\n",
        "      return_tensors='pt'\n",
        "    )\n",
        "\n",
        "    # Encode the emotions and triggers\n",
        "    encoded_labels_emotions = mlb_emotions.transform(data['emotions'])\n",
        "    encoded_labels_triggers = mlb_triggers.transform(data['triggers'])\n",
        "\n",
        "    # Convert labels to tensors and reshape\n",
        "    labels_emotions = torch.tensor(encoded_labels_emotions, dtype=torch.float).view(-1, mlb_emotions.classes_.size)\n",
        "    labels_triggers = torch.tensor(encoded_labels_triggers, dtype=torch.float).view(-1, mlb_triggers.classes_.size)\n",
        "\n",
        "    return Dataset.from_dict({\n",
        "        'input_ids': tokenized_inputs['input_ids'],\n",
        "        'attention_mask': tokenized_inputs['attention_mask'],\n",
        "        'labels_emotions': labels_emotions,\n",
        "        'labels_triggers': labels_triggers\n",
        "    })\n",
        "\n",
        "# Then preprocess the training and validation data\n",
        "train_dataset = preprocess_data(train_data, tokenizer, mlb_emotions, mlb_triggers)\n",
        "val_dataset = preprocess_data(val_data, tokenizer, mlb_emotions, mlb_triggers)\n",
        "\n",
        "print(\"Single train example:\", train_dataset[0])\n",
        "print(\"Single validation example:\",val_dataset[0])\n"
      ]
    },
    {
      "cell_type": "code",
      "execution_count": null,
      "metadata": {
        "execution": {
          "iopub.status.busy": "2024-01-12T18:29:29.114740Z",
          "iopub.status.idle": "2024-01-12T18:29:29.115104Z",
          "shell.execute_reply": "2024-01-12T18:29:29.114945Z",
          "shell.execute_reply.started": "2024-01-12T18:29:29.114928Z"
        },
        "id": "bRKm76SLUkZt",
        "trusted": true
      },
      "outputs": [],
      "source": [
        "from sklearn.metrics import f1_score\n",
        "\n",
        "# Define your compute_metrics function to handle both sets of labels\n",
        "def compute_metrics(eval_pred):\n",
        "    logits, labels = eval_pred\n",
        "    logits_emotions = logits[0]\n",
        "    logits_triggers = logits[1]\n",
        "    labels_emotions = labels[0]\n",
        "    labels_triggers = labels[1]\n",
        "    # Sigmoid function to convert logits to probabilities\n",
        "    sigmoid = lambda x: 1 / (1 + np.exp(-x))\n",
        "    # Threshold to convert probabilities to binary predictions\n",
        "    threshold = 0.5\n",
        "\n",
        "    # Convert logits to probabilities\n",
        "    probs_emotions = sigmoid(logits_emotions)\n",
        "    probs_triggers = sigmoid(logits_triggers)\n",
        "\n",
        "    # Convert probabilities to binary predictions\n",
        "    preds_emotions = (probs_emotions > threshold).astype(int)\n",
        "    preds_triggers = (probs_triggers > threshold).astype(int)\n",
        "\n",
        "    # Calculate the f1-score for emotions\n",
        "    f1_emotions = f1_score(labels_emotions, preds_emotions, average='macro')\n",
        "    # Calculate the f1-score for triggers\n",
        "    f1_triggers = f1_score(labels_triggers, preds_triggers, average='macro')\n",
        "\n",
        "    # To calculate sequence-level metrics, we might need to modify data processing\n",
        "\n",
        "    # to include sequence IDs, and then group by sequence ID before calculating metrics.\n",
        "    return {\n",
        "        'f1_emotions': f1_emotions,\n",
        "        'f1_triggers': f1_triggers,\n",
        "    }"
      ]
    },
    {
      "cell_type": "code",
      "execution_count": null,
      "metadata": {
        "execution": {
          "iopub.status.busy": "2024-01-12T18:29:29.116605Z",
          "iopub.status.idle": "2024-01-12T18:29:29.116946Z",
          "shell.execute_reply": "2024-01-12T18:29:29.116806Z",
          "shell.execute_reply.started": "2024-01-12T18:29:29.116790Z"
        },
        "id": "w_IrhqCwnYw5",
        "trusted": true
      },
      "outputs": [],
      "source": [
        "#TODO make this compatible with model class by changing the way the absence of loss is handled, similar to CustomTrainer4\n",
        "\n",
        "class CustomTrainer(Trainer):\n",
        "    def compute_loss(self, model, inputs, return_outputs=False):\n",
        "        # Unpack inputs\n",
        "        labels_emotions = inputs.pop(\"labels_emotions\", None)\n",
        "        labels_triggers = inputs.pop(\"labels_triggers\", None)\n",
        "\n",
        "        # Forward pass\n",
        "        outputs = model(**inputs)\n",
        "\n",
        "        # If loss is not included in outputs, calculate it using the logits\n",
        "        if len(outputs) == 2:\n",
        "            logits_emotions, logits_triggers = outputs\n",
        "            loss_fct = BCEWithLogitsLoss()\n",
        "            if labels_emotions is not None and labels_triggers is not None:\n",
        "                loss_emotions = loss_fct(logits_emotions.view(-1, self.model.num_labels_emotions), labels_emotions.view(-1, self.model.num_labels_emotions))\n",
        "                loss_triggers = loss_fct(logits_triggers.view(-1, self.model.num_labels_triggers), labels_triggers.view(-1, self.model.num_labels_triggers))\n",
        "                loss = loss_emotions + loss_triggers\n",
        "        elif len(outputs) == 3:\n",
        "            # Outputs include a loss\n",
        "            loss, logits_emotions, logits_triggers = outputs\n",
        "        else:\n",
        "            raise ValueError(f\"Unexpected number of outputs from model: {len(outputs)}\")\n",
        "\n",
        "        # If loss was not computed within the model, we compute it based on the logits and the labels\n",
        "        if loss is None and labels_emotions is not None and labels_triggers is not None:\n",
        "            loss_fct = BCEWithLogitsLoss()\n",
        "            loss_emotions = loss_fct(logits_emotions.view(-1, self.model.num_labels_emotions), labels_emotions.view(-1))\n",
        "            loss_triggers = loss_fct(logits_triggers.view(-1, self.model.num_labels_triggers), labels_triggers.view(-1))\n",
        "            loss = loss_emotions + loss_triggers\n",
        "\n",
        "        return (loss, outputs) if return_outputs else loss\n"
      ]
    },
    {
      "cell_type": "code",
      "execution_count": null,
      "metadata": {
        "execution": {
          "iopub.status.busy": "2024-01-12T18:29:29.117887Z",
          "iopub.status.idle": "2024-01-12T18:29:29.118226Z",
          "shell.execute_reply": "2024-01-12T18:29:29.118081Z",
          "shell.execute_reply.started": "2024-01-12T18:29:29.118065Z"
        },
        "id": "4-kDAr-dj54R",
        "trusted": true
      },
      "outputs": [],
      "source": [
        "class CustomTrainer4(Trainer):\n",
        "    def compute_loss(self, model, inputs, return_outputs=False):\n",
        "        # Unpack inputs\n",
        "        labels_emotions = inputs.pop(\"labels_emotions\", None)\n",
        "        labels_triggers = inputs.pop(\"labels_triggers\", None)\n",
        "\n",
        "        # Forward pass\n",
        "        outputs = model(**inputs)\n",
        "\n",
        "        # If loss is not included in outputs, calculate it using the logits\n",
        "        if 'loss' not in outputs:\n",
        "            logits_emotions = outputs['logits_emotions']\n",
        "            logits_triggers = outputs['logits_triggers']\n",
        "            loss_fct = BCEWithLogitsLoss()\n",
        "            if labels_emotions is not None:\n",
        "                loss_emotions = loss_fct(logits_emotions.view(-1, self.model.num_labels_emotions), labels_emotions.view(-1))\n",
        "            if labels_triggers is not None:\n",
        "                loss_triggers = loss_fct(logits_triggers.view(-1, self.model.num_labels_triggers), labels_triggers.view(-1))\n",
        "            loss = loss_emotions + loss_triggers\n",
        "            outputs['loss'] = loss\n",
        "        else:\n",
        "            # Loss is included in outputs\n",
        "            loss = outputs['loss']\n",
        "\n",
        "        return (loss, outputs) if return_outputs else loss\n"
      ]
    },
    {
      "cell_type": "code",
      "execution_count": null,
      "metadata": {
        "execution": {
          "iopub.status.busy": "2024-01-12T18:29:29.119377Z",
          "iopub.status.idle": "2024-01-12T18:29:29.119738Z",
          "shell.execute_reply": "2024-01-12T18:29:29.119559Z",
          "shell.execute_reply.started": "2024-01-12T18:29:29.119543Z"
        },
        "id": "_tE4h1L9MzY0",
        "trusted": true
      },
      "outputs": [],
      "source": [
        "# Initialize model with the number of emotion and trigger labels\n",
        "num_labels_emotions = len(mlb_emotions.classes_)\n",
        "num_labels_triggers = len(mlb_triggers.classes_)\n",
        "model = BertForMultiLabelSequenceClassification.from_pretrained(\n",
        "    model_card,\n",
        "    num_labels_emotions=num_labels_emotions,\n",
        "    num_labels_triggers=num_labels_triggers\n",
        ")"
      ]
    },
    {
      "cell_type": "code",
      "execution_count": null,
      "metadata": {
        "execution": {
          "iopub.status.busy": "2024-01-12T18:29:29.121255Z",
          "iopub.status.idle": "2024-01-12T18:29:29.121597Z",
          "shell.execute_reply": "2024-01-12T18:29:29.121442Z",
          "shell.execute_reply.started": "2024-01-12T18:29:29.121426Z"
        },
        "id": "KzER6NeRe3s0",
        "trusted": true
      },
      "outputs": [],
      "source": [
        "device = torch.device(\"cuda\" if torch.cuda.is_available() else \"cpu\")\n",
        "model.to(device)"
      ]
    },
    {
      "cell_type": "code",
      "execution_count": null,
      "metadata": {
        "execution": {
          "iopub.status.busy": "2024-01-12T18:29:29.123103Z",
          "iopub.status.idle": "2024-01-12T18:29:29.123443Z",
          "shell.execute_reply": "2024-01-12T18:29:29.123288Z",
          "shell.execute_reply.started": "2024-01-12T18:29:29.123272Z"
        },
        "id": "zMKcMdBeQnHx",
        "trusted": true
      },
      "outputs": [],
      "source": [
        "# Assuming train_dataset is a Hugging Face dataset with the correct columns\n",
        "example = train_dataset[0]\n",
        "\n",
        "# Now, before passing tensors to the model, ensure they are also on the same device\n",
        "example_tensors = {k: torch.tensor([v]).to(device) for k, v in example.items()}\n",
        "\n",
        "# Call the model\n",
        "with torch.no_grad():\n",
        "    outputs = model(**example_tensors)\n",
        "    print(outputs)"
      ]
    },
    {
      "cell_type": "code",
      "execution_count": null,
      "metadata": {
        "execution": {
          "iopub.status.busy": "2024-01-12T18:29:29.124452Z",
          "iopub.status.idle": "2024-01-12T18:29:29.124807Z",
          "shell.execute_reply": "2024-01-12T18:29:29.124624Z",
          "shell.execute_reply.started": "2024-01-12T18:29:29.124609Z"
        },
        "id": "BcckkL0ILyll",
        "trusted": true
      },
      "outputs": [],
      "source": [
        "# Define training arguments\n",
        "training_args = TrainingArguments(\n",
        "    output_dir='./results',\n",
        "    num_train_epochs=5,\n",
        "    per_device_train_batch_size=16,\n",
        "    per_device_eval_batch_size=64,\n",
        "    warmup_steps=500,\n",
        "    weight_decay=0.01,\n",
        "    logging_dir='./logs',\n",
        "    logging_steps=10,\n",
        "    evaluation_strategy = \"epoch\"\n",
        "    report_to = \"\"\n",
        ")\n",
        "\n",
        "# # Initialize the model with the number of emotion labels\n",
        "# num_labels = len(mlb.classes_)\n",
        "# model = BertForSequenceClassification.from_pretrained(model_card,\n",
        "#                                                       num_labels=num_labels,\n",
        "#                                                        )\n",
        "\n",
        "# Freeze the BERT embedding layer weights\n",
        "for name, param in model.named_parameters():\n",
        "    if 'classifier' not in name: # Layer names not containing 'classifier' will be frozen\n",
        "        param.requires_grad = False\n",
        "\n",
        "# Initialize the Trainer\n",
        "trainer = CustomTrainer(\n",
        "    model=model,\n",
        "    args=training_args,\n",
        "    train_dataset=train_dataset,\n",
        "    eval_dataset=val_dataset,\n",
        "    compute_metrics = compute_metrics\n",
        ")\n",
        "\n",
        "# Train the model\n",
        "trainer.train()\n",
        "results = trainer.evaluate()\n",
        "\n",
        "print(results)\n"
      ]
    },
    {
      "cell_type": "code",
      "execution_count": null,
      "metadata": {
        "id": "5dB6fTqFKCM_"
      },
      "outputs": [],
      "source": []
    }
  ],
  "metadata": {
    "accelerator": "GPU",
    "colab": {
      "gpuType": "T4",
      "provenance": []
    },
    "kaggle": {
      "accelerator": "nvidiaTeslaT4",
      "dataSources": [
        {
          "datasetId": 4296178,
          "sourceId": 7390484,
          "sourceType": "datasetVersion"
        }
      ],
      "dockerImageVersionId": 30636,
      "isGpuEnabled": true,
      "isInternetEnabled": true,
      "language": "python",
      "sourceType": "notebook"
    },
    "kernelspec": {
      "display_name": "Python 3",
      "name": "python3"
    },
    "language_info": {
      "codemirror_mode": {
        "name": "ipython",
        "version": 3
      },
      "file_extension": ".py",
      "mimetype": "text/x-python",
      "name": "python",
      "nbconvert_exporter": "python",
      "pygments_lexer": "ipython3",
      "version": "3.10.12"
    },
    "widgets": {
      "application/vnd.jupyter.widget-state+json": {
        "6337ee9e1e4c48e89d28ad2b083ab815": {
          "model_module": "@jupyter-widgets/controls",
          "model_name": "HBoxModel",
          "model_module_version": "1.5.0",
          "state": {
            "_dom_classes": [],
            "_model_module": "@jupyter-widgets/controls",
            "_model_module_version": "1.5.0",
            "_model_name": "HBoxModel",
            "_view_count": null,
            "_view_module": "@jupyter-widgets/controls",
            "_view_module_version": "1.5.0",
            "_view_name": "HBoxView",
            "box_style": "",
            "children": [
              "IPY_MODEL_ab75702f6df94934b9e79d016ce208d9",
              "IPY_MODEL_4ad33254ac7e44a98606462d0fb16f2a",
              "IPY_MODEL_f503ad26fa364c18abaafb3dd276ae52"
            ],
            "layout": "IPY_MODEL_71f299843c8b444cbc3a58f3bae20bad"
          }
        },
        "ab75702f6df94934b9e79d016ce208d9": {
          "model_module": "@jupyter-widgets/controls",
          "model_name": "HTMLModel",
          "model_module_version": "1.5.0",
          "state": {
            "_dom_classes": [],
            "_model_module": "@jupyter-widgets/controls",
            "_model_module_version": "1.5.0",
            "_model_name": "HTMLModel",
            "_view_count": null,
            "_view_module": "@jupyter-widgets/controls",
            "_view_module_version": "1.5.0",
            "_view_name": "HTMLView",
            "description": "",
            "description_tooltip": null,
            "layout": "IPY_MODEL_2616fde25aa741daae18c177dff3d3f8",
            "placeholder": "​",
            "style": "IPY_MODEL_4ba9caf5a7d24f3fb5c25ec7a5fe1f3d",
            "value": "tokenizer_config.json: 100%"
          }
        },
        "4ad33254ac7e44a98606462d0fb16f2a": {
          "model_module": "@jupyter-widgets/controls",
          "model_name": "FloatProgressModel",
          "model_module_version": "1.5.0",
          "state": {
            "_dom_classes": [],
            "_model_module": "@jupyter-widgets/controls",
            "_model_module_version": "1.5.0",
            "_model_name": "FloatProgressModel",
            "_view_count": null,
            "_view_module": "@jupyter-widgets/controls",
            "_view_module_version": "1.5.0",
            "_view_name": "ProgressView",
            "bar_style": "success",
            "description": "",
            "description_tooltip": null,
            "layout": "IPY_MODEL_aebea49b5b4a4a6eb91fe4ec225142a0",
            "max": 28,
            "min": 0,
            "orientation": "horizontal",
            "style": "IPY_MODEL_d9c4b5478abd4097b63586a57d51a7ea",
            "value": 28
          }
        },
        "f503ad26fa364c18abaafb3dd276ae52": {
          "model_module": "@jupyter-widgets/controls",
          "model_name": "HTMLModel",
          "model_module_version": "1.5.0",
          "state": {
            "_dom_classes": [],
            "_model_module": "@jupyter-widgets/controls",
            "_model_module_version": "1.5.0",
            "_model_name": "HTMLModel",
            "_view_count": null,
            "_view_module": "@jupyter-widgets/controls",
            "_view_module_version": "1.5.0",
            "_view_name": "HTMLView",
            "description": "",
            "description_tooltip": null,
            "layout": "IPY_MODEL_886661ff399a46f2a4c6c77dba646098",
            "placeholder": "​",
            "style": "IPY_MODEL_27477af290eb47ffa40bdc51d4d5d576",
            "value": " 28.0/28.0 [00:00&lt;00:00, 726B/s]"
          }
        },
        "71f299843c8b444cbc3a58f3bae20bad": {
          "model_module": "@jupyter-widgets/base",
          "model_name": "LayoutModel",
          "model_module_version": "1.2.0",
          "state": {
            "_model_module": "@jupyter-widgets/base",
            "_model_module_version": "1.2.0",
            "_model_name": "LayoutModel",
            "_view_count": null,
            "_view_module": "@jupyter-widgets/base",
            "_view_module_version": "1.2.0",
            "_view_name": "LayoutView",
            "align_content": null,
            "align_items": null,
            "align_self": null,
            "border": null,
            "bottom": null,
            "display": null,
            "flex": null,
            "flex_flow": null,
            "grid_area": null,
            "grid_auto_columns": null,
            "grid_auto_flow": null,
            "grid_auto_rows": null,
            "grid_column": null,
            "grid_gap": null,
            "grid_row": null,
            "grid_template_areas": null,
            "grid_template_columns": null,
            "grid_template_rows": null,
            "height": null,
            "justify_content": null,
            "justify_items": null,
            "left": null,
            "margin": null,
            "max_height": null,
            "max_width": null,
            "min_height": null,
            "min_width": null,
            "object_fit": null,
            "object_position": null,
            "order": null,
            "overflow": null,
            "overflow_x": null,
            "overflow_y": null,
            "padding": null,
            "right": null,
            "top": null,
            "visibility": null,
            "width": null
          }
        },
        "2616fde25aa741daae18c177dff3d3f8": {
          "model_module": "@jupyter-widgets/base",
          "model_name": "LayoutModel",
          "model_module_version": "1.2.0",
          "state": {
            "_model_module": "@jupyter-widgets/base",
            "_model_module_version": "1.2.0",
            "_model_name": "LayoutModel",
            "_view_count": null,
            "_view_module": "@jupyter-widgets/base",
            "_view_module_version": "1.2.0",
            "_view_name": "LayoutView",
            "align_content": null,
            "align_items": null,
            "align_self": null,
            "border": null,
            "bottom": null,
            "display": null,
            "flex": null,
            "flex_flow": null,
            "grid_area": null,
            "grid_auto_columns": null,
            "grid_auto_flow": null,
            "grid_auto_rows": null,
            "grid_column": null,
            "grid_gap": null,
            "grid_row": null,
            "grid_template_areas": null,
            "grid_template_columns": null,
            "grid_template_rows": null,
            "height": null,
            "justify_content": null,
            "justify_items": null,
            "left": null,
            "margin": null,
            "max_height": null,
            "max_width": null,
            "min_height": null,
            "min_width": null,
            "object_fit": null,
            "object_position": null,
            "order": null,
            "overflow": null,
            "overflow_x": null,
            "overflow_y": null,
            "padding": null,
            "right": null,
            "top": null,
            "visibility": null,
            "width": null
          }
        },
        "4ba9caf5a7d24f3fb5c25ec7a5fe1f3d": {
          "model_module": "@jupyter-widgets/controls",
          "model_name": "DescriptionStyleModel",
          "model_module_version": "1.5.0",
          "state": {
            "_model_module": "@jupyter-widgets/controls",
            "_model_module_version": "1.5.0",
            "_model_name": "DescriptionStyleModel",
            "_view_count": null,
            "_view_module": "@jupyter-widgets/base",
            "_view_module_version": "1.2.0",
            "_view_name": "StyleView",
            "description_width": ""
          }
        },
        "aebea49b5b4a4a6eb91fe4ec225142a0": {
          "model_module": "@jupyter-widgets/base",
          "model_name": "LayoutModel",
          "model_module_version": "1.2.0",
          "state": {
            "_model_module": "@jupyter-widgets/base",
            "_model_module_version": "1.2.0",
            "_model_name": "LayoutModel",
            "_view_count": null,
            "_view_module": "@jupyter-widgets/base",
            "_view_module_version": "1.2.0",
            "_view_name": "LayoutView",
            "align_content": null,
            "align_items": null,
            "align_self": null,
            "border": null,
            "bottom": null,
            "display": null,
            "flex": null,
            "flex_flow": null,
            "grid_area": null,
            "grid_auto_columns": null,
            "grid_auto_flow": null,
            "grid_auto_rows": null,
            "grid_column": null,
            "grid_gap": null,
            "grid_row": null,
            "grid_template_areas": null,
            "grid_template_columns": null,
            "grid_template_rows": null,
            "height": null,
            "justify_content": null,
            "justify_items": null,
            "left": null,
            "margin": null,
            "max_height": null,
            "max_width": null,
            "min_height": null,
            "min_width": null,
            "object_fit": null,
            "object_position": null,
            "order": null,
            "overflow": null,
            "overflow_x": null,
            "overflow_y": null,
            "padding": null,
            "right": null,
            "top": null,
            "visibility": null,
            "width": null
          }
        },
        "d9c4b5478abd4097b63586a57d51a7ea": {
          "model_module": "@jupyter-widgets/controls",
          "model_name": "ProgressStyleModel",
          "model_module_version": "1.5.0",
          "state": {
            "_model_module": "@jupyter-widgets/controls",
            "_model_module_version": "1.5.0",
            "_model_name": "ProgressStyleModel",
            "_view_count": null,
            "_view_module": "@jupyter-widgets/base",
            "_view_module_version": "1.2.0",
            "_view_name": "StyleView",
            "bar_color": null,
            "description_width": ""
          }
        },
        "886661ff399a46f2a4c6c77dba646098": {
          "model_module": "@jupyter-widgets/base",
          "model_name": "LayoutModel",
          "model_module_version": "1.2.0",
          "state": {
            "_model_module": "@jupyter-widgets/base",
            "_model_module_version": "1.2.0",
            "_model_name": "LayoutModel",
            "_view_count": null,
            "_view_module": "@jupyter-widgets/base",
            "_view_module_version": "1.2.0",
            "_view_name": "LayoutView",
            "align_content": null,
            "align_items": null,
            "align_self": null,
            "border": null,
            "bottom": null,
            "display": null,
            "flex": null,
            "flex_flow": null,
            "grid_area": null,
            "grid_auto_columns": null,
            "grid_auto_flow": null,
            "grid_auto_rows": null,
            "grid_column": null,
            "grid_gap": null,
            "grid_row": null,
            "grid_template_areas": null,
            "grid_template_columns": null,
            "grid_template_rows": null,
            "height": null,
            "justify_content": null,
            "justify_items": null,
            "left": null,
            "margin": null,
            "max_height": null,
            "max_width": null,
            "min_height": null,
            "min_width": null,
            "object_fit": null,
            "object_position": null,
            "order": null,
            "overflow": null,
            "overflow_x": null,
            "overflow_y": null,
            "padding": null,
            "right": null,
            "top": null,
            "visibility": null,
            "width": null
          }
        },
        "27477af290eb47ffa40bdc51d4d5d576": {
          "model_module": "@jupyter-widgets/controls",
          "model_name": "DescriptionStyleModel",
          "model_module_version": "1.5.0",
          "state": {
            "_model_module": "@jupyter-widgets/controls",
            "_model_module_version": "1.5.0",
            "_model_name": "DescriptionStyleModel",
            "_view_count": null,
            "_view_module": "@jupyter-widgets/base",
            "_view_module_version": "1.2.0",
            "_view_name": "StyleView",
            "description_width": ""
          }
        },
        "711a4a8246554b9fbb2e85e27b49c65f": {
          "model_module": "@jupyter-widgets/controls",
          "model_name": "HBoxModel",
          "model_module_version": "1.5.0",
          "state": {
            "_dom_classes": [],
            "_model_module": "@jupyter-widgets/controls",
            "_model_module_version": "1.5.0",
            "_model_name": "HBoxModel",
            "_view_count": null,
            "_view_module": "@jupyter-widgets/controls",
            "_view_module_version": "1.5.0",
            "_view_name": "HBoxView",
            "box_style": "",
            "children": [
              "IPY_MODEL_4061b24cf04041f0b9a0732aaab98347",
              "IPY_MODEL_8d9a1e24102c45d1b030f309e1e890d3",
              "IPY_MODEL_29ade0338b914fe4b0c83907eb6e2672"
            ],
            "layout": "IPY_MODEL_0db38e26f9c542d4b479291e8ac55638"
          }
        },
        "4061b24cf04041f0b9a0732aaab98347": {
          "model_module": "@jupyter-widgets/controls",
          "model_name": "HTMLModel",
          "model_module_version": "1.5.0",
          "state": {
            "_dom_classes": [],
            "_model_module": "@jupyter-widgets/controls",
            "_model_module_version": "1.5.0",
            "_model_name": "HTMLModel",
            "_view_count": null,
            "_view_module": "@jupyter-widgets/controls",
            "_view_module_version": "1.5.0",
            "_view_name": "HTMLView",
            "description": "",
            "description_tooltip": null,
            "layout": "IPY_MODEL_2c4a8d6b6a8f4964ab08e75e64d3d159",
            "placeholder": "​",
            "style": "IPY_MODEL_4d0942548ca141fcab99fedb4910caf6",
            "value": "config.json: 100%"
          }
        },
        "8d9a1e24102c45d1b030f309e1e890d3": {
          "model_module": "@jupyter-widgets/controls",
          "model_name": "FloatProgressModel",
          "model_module_version": "1.5.0",
          "state": {
            "_dom_classes": [],
            "_model_module": "@jupyter-widgets/controls",
            "_model_module_version": "1.5.0",
            "_model_name": "FloatProgressModel",
            "_view_count": null,
            "_view_module": "@jupyter-widgets/controls",
            "_view_module_version": "1.5.0",
            "_view_name": "ProgressView",
            "bar_style": "success",
            "description": "",
            "description_tooltip": null,
            "layout": "IPY_MODEL_68a582b092264df88d8ea162da805bc0",
            "max": 570,
            "min": 0,
            "orientation": "horizontal",
            "style": "IPY_MODEL_584f3eba137d4a5b8c8ca0cd6f3f5629",
            "value": 570
          }
        },
        "29ade0338b914fe4b0c83907eb6e2672": {
          "model_module": "@jupyter-widgets/controls",
          "model_name": "HTMLModel",
          "model_module_version": "1.5.0",
          "state": {
            "_dom_classes": [],
            "_model_module": "@jupyter-widgets/controls",
            "_model_module_version": "1.5.0",
            "_model_name": "HTMLModel",
            "_view_count": null,
            "_view_module": "@jupyter-widgets/controls",
            "_view_module_version": "1.5.0",
            "_view_name": "HTMLView",
            "description": "",
            "description_tooltip": null,
            "layout": "IPY_MODEL_a57feb43a8454d19bad4db75227998b3",
            "placeholder": "​",
            "style": "IPY_MODEL_f70dcdd926624bf5a1cfd18c2a56e647",
            "value": " 570/570 [00:00&lt;00:00, 7.06kB/s]"
          }
        },
        "0db38e26f9c542d4b479291e8ac55638": {
          "model_module": "@jupyter-widgets/base",
          "model_name": "LayoutModel",
          "model_module_version": "1.2.0",
          "state": {
            "_model_module": "@jupyter-widgets/base",
            "_model_module_version": "1.2.0",
            "_model_name": "LayoutModel",
            "_view_count": null,
            "_view_module": "@jupyter-widgets/base",
            "_view_module_version": "1.2.0",
            "_view_name": "LayoutView",
            "align_content": null,
            "align_items": null,
            "align_self": null,
            "border": null,
            "bottom": null,
            "display": null,
            "flex": null,
            "flex_flow": null,
            "grid_area": null,
            "grid_auto_columns": null,
            "grid_auto_flow": null,
            "grid_auto_rows": null,
            "grid_column": null,
            "grid_gap": null,
            "grid_row": null,
            "grid_template_areas": null,
            "grid_template_columns": null,
            "grid_template_rows": null,
            "height": null,
            "justify_content": null,
            "justify_items": null,
            "left": null,
            "margin": null,
            "max_height": null,
            "max_width": null,
            "min_height": null,
            "min_width": null,
            "object_fit": null,
            "object_position": null,
            "order": null,
            "overflow": null,
            "overflow_x": null,
            "overflow_y": null,
            "padding": null,
            "right": null,
            "top": null,
            "visibility": null,
            "width": null
          }
        },
        "2c4a8d6b6a8f4964ab08e75e64d3d159": {
          "model_module": "@jupyter-widgets/base",
          "model_name": "LayoutModel",
          "model_module_version": "1.2.0",
          "state": {
            "_model_module": "@jupyter-widgets/base",
            "_model_module_version": "1.2.0",
            "_model_name": "LayoutModel",
            "_view_count": null,
            "_view_module": "@jupyter-widgets/base",
            "_view_module_version": "1.2.0",
            "_view_name": "LayoutView",
            "align_content": null,
            "align_items": null,
            "align_self": null,
            "border": null,
            "bottom": null,
            "display": null,
            "flex": null,
            "flex_flow": null,
            "grid_area": null,
            "grid_auto_columns": null,
            "grid_auto_flow": null,
            "grid_auto_rows": null,
            "grid_column": null,
            "grid_gap": null,
            "grid_row": null,
            "grid_template_areas": null,
            "grid_template_columns": null,
            "grid_template_rows": null,
            "height": null,
            "justify_content": null,
            "justify_items": null,
            "left": null,
            "margin": null,
            "max_height": null,
            "max_width": null,
            "min_height": null,
            "min_width": null,
            "object_fit": null,
            "object_position": null,
            "order": null,
            "overflow": null,
            "overflow_x": null,
            "overflow_y": null,
            "padding": null,
            "right": null,
            "top": null,
            "visibility": null,
            "width": null
          }
        },
        "4d0942548ca141fcab99fedb4910caf6": {
          "model_module": "@jupyter-widgets/controls",
          "model_name": "DescriptionStyleModel",
          "model_module_version": "1.5.0",
          "state": {
            "_model_module": "@jupyter-widgets/controls",
            "_model_module_version": "1.5.0",
            "_model_name": "DescriptionStyleModel",
            "_view_count": null,
            "_view_module": "@jupyter-widgets/base",
            "_view_module_version": "1.2.0",
            "_view_name": "StyleView",
            "description_width": ""
          }
        },
        "68a582b092264df88d8ea162da805bc0": {
          "model_module": "@jupyter-widgets/base",
          "model_name": "LayoutModel",
          "model_module_version": "1.2.0",
          "state": {
            "_model_module": "@jupyter-widgets/base",
            "_model_module_version": "1.2.0",
            "_model_name": "LayoutModel",
            "_view_count": null,
            "_view_module": "@jupyter-widgets/base",
            "_view_module_version": "1.2.0",
            "_view_name": "LayoutView",
            "align_content": null,
            "align_items": null,
            "align_self": null,
            "border": null,
            "bottom": null,
            "display": null,
            "flex": null,
            "flex_flow": null,
            "grid_area": null,
            "grid_auto_columns": null,
            "grid_auto_flow": null,
            "grid_auto_rows": null,
            "grid_column": null,
            "grid_gap": null,
            "grid_row": null,
            "grid_template_areas": null,
            "grid_template_columns": null,
            "grid_template_rows": null,
            "height": null,
            "justify_content": null,
            "justify_items": null,
            "left": null,
            "margin": null,
            "max_height": null,
            "max_width": null,
            "min_height": null,
            "min_width": null,
            "object_fit": null,
            "object_position": null,
            "order": null,
            "overflow": null,
            "overflow_x": null,
            "overflow_y": null,
            "padding": null,
            "right": null,
            "top": null,
            "visibility": null,
            "width": null
          }
        },
        "584f3eba137d4a5b8c8ca0cd6f3f5629": {
          "model_module": "@jupyter-widgets/controls",
          "model_name": "ProgressStyleModel",
          "model_module_version": "1.5.0",
          "state": {
            "_model_module": "@jupyter-widgets/controls",
            "_model_module_version": "1.5.0",
            "_model_name": "ProgressStyleModel",
            "_view_count": null,
            "_view_module": "@jupyter-widgets/base",
            "_view_module_version": "1.2.0",
            "_view_name": "StyleView",
            "bar_color": null,
            "description_width": ""
          }
        },
        "a57feb43a8454d19bad4db75227998b3": {
          "model_module": "@jupyter-widgets/base",
          "model_name": "LayoutModel",
          "model_module_version": "1.2.0",
          "state": {
            "_model_module": "@jupyter-widgets/base",
            "_model_module_version": "1.2.0",
            "_model_name": "LayoutModel",
            "_view_count": null,
            "_view_module": "@jupyter-widgets/base",
            "_view_module_version": "1.2.0",
            "_view_name": "LayoutView",
            "align_content": null,
            "align_items": null,
            "align_self": null,
            "border": null,
            "bottom": null,
            "display": null,
            "flex": null,
            "flex_flow": null,
            "grid_area": null,
            "grid_auto_columns": null,
            "grid_auto_flow": null,
            "grid_auto_rows": null,
            "grid_column": null,
            "grid_gap": null,
            "grid_row": null,
            "grid_template_areas": null,
            "grid_template_columns": null,
            "grid_template_rows": null,
            "height": null,
            "justify_content": null,
            "justify_items": null,
            "left": null,
            "margin": null,
            "max_height": null,
            "max_width": null,
            "min_height": null,
            "min_width": null,
            "object_fit": null,
            "object_position": null,
            "order": null,
            "overflow": null,
            "overflow_x": null,
            "overflow_y": null,
            "padding": null,
            "right": null,
            "top": null,
            "visibility": null,
            "width": null
          }
        },
        "f70dcdd926624bf5a1cfd18c2a56e647": {
          "model_module": "@jupyter-widgets/controls",
          "model_name": "DescriptionStyleModel",
          "model_module_version": "1.5.0",
          "state": {
            "_model_module": "@jupyter-widgets/controls",
            "_model_module_version": "1.5.0",
            "_model_name": "DescriptionStyleModel",
            "_view_count": null,
            "_view_module": "@jupyter-widgets/base",
            "_view_module_version": "1.2.0",
            "_view_name": "StyleView",
            "description_width": ""
          }
        },
        "2b9940ce5b264a59883e0851af83c89f": {
          "model_module": "@jupyter-widgets/controls",
          "model_name": "HBoxModel",
          "model_module_version": "1.5.0",
          "state": {
            "_dom_classes": [],
            "_model_module": "@jupyter-widgets/controls",
            "_model_module_version": "1.5.0",
            "_model_name": "HBoxModel",
            "_view_count": null,
            "_view_module": "@jupyter-widgets/controls",
            "_view_module_version": "1.5.0",
            "_view_name": "HBoxView",
            "box_style": "",
            "children": [
              "IPY_MODEL_ab591888a8ee4083b799049fb51a87bd",
              "IPY_MODEL_2a8e354b5c044fb6b068095651212fa2",
              "IPY_MODEL_0a447112f9b9494294adac951a18ef09"
            ],
            "layout": "IPY_MODEL_5a72f8d3401f4a1d986142946a779063"
          }
        },
        "ab591888a8ee4083b799049fb51a87bd": {
          "model_module": "@jupyter-widgets/controls",
          "model_name": "HTMLModel",
          "model_module_version": "1.5.0",
          "state": {
            "_dom_classes": [],
            "_model_module": "@jupyter-widgets/controls",
            "_model_module_version": "1.5.0",
            "_model_name": "HTMLModel",
            "_view_count": null,
            "_view_module": "@jupyter-widgets/controls",
            "_view_module_version": "1.5.0",
            "_view_name": "HTMLView",
            "description": "",
            "description_tooltip": null,
            "layout": "IPY_MODEL_e63a5da2761e4dd984686a4d3fb9bcdf",
            "placeholder": "​",
            "style": "IPY_MODEL_935cf183d45046e48bdca00e050724f2",
            "value": "vocab.txt: 100%"
          }
        },
        "2a8e354b5c044fb6b068095651212fa2": {
          "model_module": "@jupyter-widgets/controls",
          "model_name": "FloatProgressModel",
          "model_module_version": "1.5.0",
          "state": {
            "_dom_classes": [],
            "_model_module": "@jupyter-widgets/controls",
            "_model_module_version": "1.5.0",
            "_model_name": "FloatProgressModel",
            "_view_count": null,
            "_view_module": "@jupyter-widgets/controls",
            "_view_module_version": "1.5.0",
            "_view_name": "ProgressView",
            "bar_style": "success",
            "description": "",
            "description_tooltip": null,
            "layout": "IPY_MODEL_9579939bff244137af79d4ad966762c7",
            "max": 231508,
            "min": 0,
            "orientation": "horizontal",
            "style": "IPY_MODEL_c5b7517bbd00414e907b175d3f3afa43",
            "value": 231508
          }
        },
        "0a447112f9b9494294adac951a18ef09": {
          "model_module": "@jupyter-widgets/controls",
          "model_name": "HTMLModel",
          "model_module_version": "1.5.0",
          "state": {
            "_dom_classes": [],
            "_model_module": "@jupyter-widgets/controls",
            "_model_module_version": "1.5.0",
            "_model_name": "HTMLModel",
            "_view_count": null,
            "_view_module": "@jupyter-widgets/controls",
            "_view_module_version": "1.5.0",
            "_view_name": "HTMLView",
            "description": "",
            "description_tooltip": null,
            "layout": "IPY_MODEL_d03b37c562c14ae1b3df1e534813609d",
            "placeholder": "​",
            "style": "IPY_MODEL_6acf4234a12746518d41dd7a875022d6",
            "value": " 232k/232k [00:00&lt;00:00, 2.68MB/s]"
          }
        },
        "5a72f8d3401f4a1d986142946a779063": {
          "model_module": "@jupyter-widgets/base",
          "model_name": "LayoutModel",
          "model_module_version": "1.2.0",
          "state": {
            "_model_module": "@jupyter-widgets/base",
            "_model_module_version": "1.2.0",
            "_model_name": "LayoutModel",
            "_view_count": null,
            "_view_module": "@jupyter-widgets/base",
            "_view_module_version": "1.2.0",
            "_view_name": "LayoutView",
            "align_content": null,
            "align_items": null,
            "align_self": null,
            "border": null,
            "bottom": null,
            "display": null,
            "flex": null,
            "flex_flow": null,
            "grid_area": null,
            "grid_auto_columns": null,
            "grid_auto_flow": null,
            "grid_auto_rows": null,
            "grid_column": null,
            "grid_gap": null,
            "grid_row": null,
            "grid_template_areas": null,
            "grid_template_columns": null,
            "grid_template_rows": null,
            "height": null,
            "justify_content": null,
            "justify_items": null,
            "left": null,
            "margin": null,
            "max_height": null,
            "max_width": null,
            "min_height": null,
            "min_width": null,
            "object_fit": null,
            "object_position": null,
            "order": null,
            "overflow": null,
            "overflow_x": null,
            "overflow_y": null,
            "padding": null,
            "right": null,
            "top": null,
            "visibility": null,
            "width": null
          }
        },
        "e63a5da2761e4dd984686a4d3fb9bcdf": {
          "model_module": "@jupyter-widgets/base",
          "model_name": "LayoutModel",
          "model_module_version": "1.2.0",
          "state": {
            "_model_module": "@jupyter-widgets/base",
            "_model_module_version": "1.2.0",
            "_model_name": "LayoutModel",
            "_view_count": null,
            "_view_module": "@jupyter-widgets/base",
            "_view_module_version": "1.2.0",
            "_view_name": "LayoutView",
            "align_content": null,
            "align_items": null,
            "align_self": null,
            "border": null,
            "bottom": null,
            "display": null,
            "flex": null,
            "flex_flow": null,
            "grid_area": null,
            "grid_auto_columns": null,
            "grid_auto_flow": null,
            "grid_auto_rows": null,
            "grid_column": null,
            "grid_gap": null,
            "grid_row": null,
            "grid_template_areas": null,
            "grid_template_columns": null,
            "grid_template_rows": null,
            "height": null,
            "justify_content": null,
            "justify_items": null,
            "left": null,
            "margin": null,
            "max_height": null,
            "max_width": null,
            "min_height": null,
            "min_width": null,
            "object_fit": null,
            "object_position": null,
            "order": null,
            "overflow": null,
            "overflow_x": null,
            "overflow_y": null,
            "padding": null,
            "right": null,
            "top": null,
            "visibility": null,
            "width": null
          }
        },
        "935cf183d45046e48bdca00e050724f2": {
          "model_module": "@jupyter-widgets/controls",
          "model_name": "DescriptionStyleModel",
          "model_module_version": "1.5.0",
          "state": {
            "_model_module": "@jupyter-widgets/controls",
            "_model_module_version": "1.5.0",
            "_model_name": "DescriptionStyleModel",
            "_view_count": null,
            "_view_module": "@jupyter-widgets/base",
            "_view_module_version": "1.2.0",
            "_view_name": "StyleView",
            "description_width": ""
          }
        },
        "9579939bff244137af79d4ad966762c7": {
          "model_module": "@jupyter-widgets/base",
          "model_name": "LayoutModel",
          "model_module_version": "1.2.0",
          "state": {
            "_model_module": "@jupyter-widgets/base",
            "_model_module_version": "1.2.0",
            "_model_name": "LayoutModel",
            "_view_count": null,
            "_view_module": "@jupyter-widgets/base",
            "_view_module_version": "1.2.0",
            "_view_name": "LayoutView",
            "align_content": null,
            "align_items": null,
            "align_self": null,
            "border": null,
            "bottom": null,
            "display": null,
            "flex": null,
            "flex_flow": null,
            "grid_area": null,
            "grid_auto_columns": null,
            "grid_auto_flow": null,
            "grid_auto_rows": null,
            "grid_column": null,
            "grid_gap": null,
            "grid_row": null,
            "grid_template_areas": null,
            "grid_template_columns": null,
            "grid_template_rows": null,
            "height": null,
            "justify_content": null,
            "justify_items": null,
            "left": null,
            "margin": null,
            "max_height": null,
            "max_width": null,
            "min_height": null,
            "min_width": null,
            "object_fit": null,
            "object_position": null,
            "order": null,
            "overflow": null,
            "overflow_x": null,
            "overflow_y": null,
            "padding": null,
            "right": null,
            "top": null,
            "visibility": null,
            "width": null
          }
        },
        "c5b7517bbd00414e907b175d3f3afa43": {
          "model_module": "@jupyter-widgets/controls",
          "model_name": "ProgressStyleModel",
          "model_module_version": "1.5.0",
          "state": {
            "_model_module": "@jupyter-widgets/controls",
            "_model_module_version": "1.5.0",
            "_model_name": "ProgressStyleModel",
            "_view_count": null,
            "_view_module": "@jupyter-widgets/base",
            "_view_module_version": "1.2.0",
            "_view_name": "StyleView",
            "bar_color": null,
            "description_width": ""
          }
        },
        "d03b37c562c14ae1b3df1e534813609d": {
          "model_module": "@jupyter-widgets/base",
          "model_name": "LayoutModel",
          "model_module_version": "1.2.0",
          "state": {
            "_model_module": "@jupyter-widgets/base",
            "_model_module_version": "1.2.0",
            "_model_name": "LayoutModel",
            "_view_count": null,
            "_view_module": "@jupyter-widgets/base",
            "_view_module_version": "1.2.0",
            "_view_name": "LayoutView",
            "align_content": null,
            "align_items": null,
            "align_self": null,
            "border": null,
            "bottom": null,
            "display": null,
            "flex": null,
            "flex_flow": null,
            "grid_area": null,
            "grid_auto_columns": null,
            "grid_auto_flow": null,
            "grid_auto_rows": null,
            "grid_column": null,
            "grid_gap": null,
            "grid_row": null,
            "grid_template_areas": null,
            "grid_template_columns": null,
            "grid_template_rows": null,
            "height": null,
            "justify_content": null,
            "justify_items": null,
            "left": null,
            "margin": null,
            "max_height": null,
            "max_width": null,
            "min_height": null,
            "min_width": null,
            "object_fit": null,
            "object_position": null,
            "order": null,
            "overflow": null,
            "overflow_x": null,
            "overflow_y": null,
            "padding": null,
            "right": null,
            "top": null,
            "visibility": null,
            "width": null
          }
        },
        "6acf4234a12746518d41dd7a875022d6": {
          "model_module": "@jupyter-widgets/controls",
          "model_name": "DescriptionStyleModel",
          "model_module_version": "1.5.0",
          "state": {
            "_model_module": "@jupyter-widgets/controls",
            "_model_module_version": "1.5.0",
            "_model_name": "DescriptionStyleModel",
            "_view_count": null,
            "_view_module": "@jupyter-widgets/base",
            "_view_module_version": "1.2.0",
            "_view_name": "StyleView",
            "description_width": ""
          }
        },
        "76fb95672eeb4fe0bcf49d6b7b9ccfad": {
          "model_module": "@jupyter-widgets/controls",
          "model_name": "HBoxModel",
          "model_module_version": "1.5.0",
          "state": {
            "_dom_classes": [],
            "_model_module": "@jupyter-widgets/controls",
            "_model_module_version": "1.5.0",
            "_model_name": "HBoxModel",
            "_view_count": null,
            "_view_module": "@jupyter-widgets/controls",
            "_view_module_version": "1.5.0",
            "_view_name": "HBoxView",
            "box_style": "",
            "children": [
              "IPY_MODEL_3c03e319298f4d94b6c69a68535d3706",
              "IPY_MODEL_32dd72f8e03940c88d112d0aaa3487d3",
              "IPY_MODEL_17b1963264c44e8aaa7305e52784240a"
            ],
            "layout": "IPY_MODEL_8b9646449ae6471281324c5c152e37a9"
          }
        },
        "3c03e319298f4d94b6c69a68535d3706": {
          "model_module": "@jupyter-widgets/controls",
          "model_name": "HTMLModel",
          "model_module_version": "1.5.0",
          "state": {
            "_dom_classes": [],
            "_model_module": "@jupyter-widgets/controls",
            "_model_module_version": "1.5.0",
            "_model_name": "HTMLModel",
            "_view_count": null,
            "_view_module": "@jupyter-widgets/controls",
            "_view_module_version": "1.5.0",
            "_view_name": "HTMLView",
            "description": "",
            "description_tooltip": null,
            "layout": "IPY_MODEL_928f94316ab64774be46037f5e51db7f",
            "placeholder": "​",
            "style": "IPY_MODEL_1b4e757600db4c4aa26184e28e39e250",
            "value": "tokenizer.json: 100%"
          }
        },
        "32dd72f8e03940c88d112d0aaa3487d3": {
          "model_module": "@jupyter-widgets/controls",
          "model_name": "FloatProgressModel",
          "model_module_version": "1.5.0",
          "state": {
            "_dom_classes": [],
            "_model_module": "@jupyter-widgets/controls",
            "_model_module_version": "1.5.0",
            "_model_name": "FloatProgressModel",
            "_view_count": null,
            "_view_module": "@jupyter-widgets/controls",
            "_view_module_version": "1.5.0",
            "_view_name": "ProgressView",
            "bar_style": "success",
            "description": "",
            "description_tooltip": null,
            "layout": "IPY_MODEL_e537cba4c7c24e529dca72db2479be1c",
            "max": 466062,
            "min": 0,
            "orientation": "horizontal",
            "style": "IPY_MODEL_d040c544be1d4e48bd8cb21fcd8bbd62",
            "value": 466062
          }
        },
        "17b1963264c44e8aaa7305e52784240a": {
          "model_module": "@jupyter-widgets/controls",
          "model_name": "HTMLModel",
          "model_module_version": "1.5.0",
          "state": {
            "_dom_classes": [],
            "_model_module": "@jupyter-widgets/controls",
            "_model_module_version": "1.5.0",
            "_model_name": "HTMLModel",
            "_view_count": null,
            "_view_module": "@jupyter-widgets/controls",
            "_view_module_version": "1.5.0",
            "_view_name": "HTMLView",
            "description": "",
            "description_tooltip": null,
            "layout": "IPY_MODEL_8a9213f17b3a4d83a542f3f66f7073e1",
            "placeholder": "​",
            "style": "IPY_MODEL_ab2db37b2c024163a3b2641b931c7d8c",
            "value": " 466k/466k [00:00&lt;00:00, 4.53MB/s]"
          }
        },
        "8b9646449ae6471281324c5c152e37a9": {
          "model_module": "@jupyter-widgets/base",
          "model_name": "LayoutModel",
          "model_module_version": "1.2.0",
          "state": {
            "_model_module": "@jupyter-widgets/base",
            "_model_module_version": "1.2.0",
            "_model_name": "LayoutModel",
            "_view_count": null,
            "_view_module": "@jupyter-widgets/base",
            "_view_module_version": "1.2.0",
            "_view_name": "LayoutView",
            "align_content": null,
            "align_items": null,
            "align_self": null,
            "border": null,
            "bottom": null,
            "display": null,
            "flex": null,
            "flex_flow": null,
            "grid_area": null,
            "grid_auto_columns": null,
            "grid_auto_flow": null,
            "grid_auto_rows": null,
            "grid_column": null,
            "grid_gap": null,
            "grid_row": null,
            "grid_template_areas": null,
            "grid_template_columns": null,
            "grid_template_rows": null,
            "height": null,
            "justify_content": null,
            "justify_items": null,
            "left": null,
            "margin": null,
            "max_height": null,
            "max_width": null,
            "min_height": null,
            "min_width": null,
            "object_fit": null,
            "object_position": null,
            "order": null,
            "overflow": null,
            "overflow_x": null,
            "overflow_y": null,
            "padding": null,
            "right": null,
            "top": null,
            "visibility": null,
            "width": null
          }
        },
        "928f94316ab64774be46037f5e51db7f": {
          "model_module": "@jupyter-widgets/base",
          "model_name": "LayoutModel",
          "model_module_version": "1.2.0",
          "state": {
            "_model_module": "@jupyter-widgets/base",
            "_model_module_version": "1.2.0",
            "_model_name": "LayoutModel",
            "_view_count": null,
            "_view_module": "@jupyter-widgets/base",
            "_view_module_version": "1.2.0",
            "_view_name": "LayoutView",
            "align_content": null,
            "align_items": null,
            "align_self": null,
            "border": null,
            "bottom": null,
            "display": null,
            "flex": null,
            "flex_flow": null,
            "grid_area": null,
            "grid_auto_columns": null,
            "grid_auto_flow": null,
            "grid_auto_rows": null,
            "grid_column": null,
            "grid_gap": null,
            "grid_row": null,
            "grid_template_areas": null,
            "grid_template_columns": null,
            "grid_template_rows": null,
            "height": null,
            "justify_content": null,
            "justify_items": null,
            "left": null,
            "margin": null,
            "max_height": null,
            "max_width": null,
            "min_height": null,
            "min_width": null,
            "object_fit": null,
            "object_position": null,
            "order": null,
            "overflow": null,
            "overflow_x": null,
            "overflow_y": null,
            "padding": null,
            "right": null,
            "top": null,
            "visibility": null,
            "width": null
          }
        },
        "1b4e757600db4c4aa26184e28e39e250": {
          "model_module": "@jupyter-widgets/controls",
          "model_name": "DescriptionStyleModel",
          "model_module_version": "1.5.0",
          "state": {
            "_model_module": "@jupyter-widgets/controls",
            "_model_module_version": "1.5.0",
            "_model_name": "DescriptionStyleModel",
            "_view_count": null,
            "_view_module": "@jupyter-widgets/base",
            "_view_module_version": "1.2.0",
            "_view_name": "StyleView",
            "description_width": ""
          }
        },
        "e537cba4c7c24e529dca72db2479be1c": {
          "model_module": "@jupyter-widgets/base",
          "model_name": "LayoutModel",
          "model_module_version": "1.2.0",
          "state": {
            "_model_module": "@jupyter-widgets/base",
            "_model_module_version": "1.2.0",
            "_model_name": "LayoutModel",
            "_view_count": null,
            "_view_module": "@jupyter-widgets/base",
            "_view_module_version": "1.2.0",
            "_view_name": "LayoutView",
            "align_content": null,
            "align_items": null,
            "align_self": null,
            "border": null,
            "bottom": null,
            "display": null,
            "flex": null,
            "flex_flow": null,
            "grid_area": null,
            "grid_auto_columns": null,
            "grid_auto_flow": null,
            "grid_auto_rows": null,
            "grid_column": null,
            "grid_gap": null,
            "grid_row": null,
            "grid_template_areas": null,
            "grid_template_columns": null,
            "grid_template_rows": null,
            "height": null,
            "justify_content": null,
            "justify_items": null,
            "left": null,
            "margin": null,
            "max_height": null,
            "max_width": null,
            "min_height": null,
            "min_width": null,
            "object_fit": null,
            "object_position": null,
            "order": null,
            "overflow": null,
            "overflow_x": null,
            "overflow_y": null,
            "padding": null,
            "right": null,
            "top": null,
            "visibility": null,
            "width": null
          }
        },
        "d040c544be1d4e48bd8cb21fcd8bbd62": {
          "model_module": "@jupyter-widgets/controls",
          "model_name": "ProgressStyleModel",
          "model_module_version": "1.5.0",
          "state": {
            "_model_module": "@jupyter-widgets/controls",
            "_model_module_version": "1.5.0",
            "_model_name": "ProgressStyleModel",
            "_view_count": null,
            "_view_module": "@jupyter-widgets/base",
            "_view_module_version": "1.2.0",
            "_view_name": "StyleView",
            "bar_color": null,
            "description_width": ""
          }
        },
        "8a9213f17b3a4d83a542f3f66f7073e1": {
          "model_module": "@jupyter-widgets/base",
          "model_name": "LayoutModel",
          "model_module_version": "1.2.0",
          "state": {
            "_model_module": "@jupyter-widgets/base",
            "_model_module_version": "1.2.0",
            "_model_name": "LayoutModel",
            "_view_count": null,
            "_view_module": "@jupyter-widgets/base",
            "_view_module_version": "1.2.0",
            "_view_name": "LayoutView",
            "align_content": null,
            "align_items": null,
            "align_self": null,
            "border": null,
            "bottom": null,
            "display": null,
            "flex": null,
            "flex_flow": null,
            "grid_area": null,
            "grid_auto_columns": null,
            "grid_auto_flow": null,
            "grid_auto_rows": null,
            "grid_column": null,
            "grid_gap": null,
            "grid_row": null,
            "grid_template_areas": null,
            "grid_template_columns": null,
            "grid_template_rows": null,
            "height": null,
            "justify_content": null,
            "justify_items": null,
            "left": null,
            "margin": null,
            "max_height": null,
            "max_width": null,
            "min_height": null,
            "min_width": null,
            "object_fit": null,
            "object_position": null,
            "order": null,
            "overflow": null,
            "overflow_x": null,
            "overflow_y": null,
            "padding": null,
            "right": null,
            "top": null,
            "visibility": null,
            "width": null
          }
        },
        "ab2db37b2c024163a3b2641b931c7d8c": {
          "model_module": "@jupyter-widgets/controls",
          "model_name": "DescriptionStyleModel",
          "model_module_version": "1.5.0",
          "state": {
            "_model_module": "@jupyter-widgets/controls",
            "_model_module_version": "1.5.0",
            "_model_name": "DescriptionStyleModel",
            "_view_count": null,
            "_view_module": "@jupyter-widgets/base",
            "_view_module_version": "1.2.0",
            "_view_name": "StyleView",
            "description_width": ""
          }
        },
        "ce29f8ea94e84e22bede5defbb777116": {
          "model_module": "@jupyter-widgets/controls",
          "model_name": "HBoxModel",
          "model_module_version": "1.5.0",
          "state": {
            "_dom_classes": [],
            "_model_module": "@jupyter-widgets/controls",
            "_model_module_version": "1.5.0",
            "_model_name": "HBoxModel",
            "_view_count": null,
            "_view_module": "@jupyter-widgets/controls",
            "_view_module_version": "1.5.0",
            "_view_name": "HBoxView",
            "box_style": "",
            "children": [
              "IPY_MODEL_7adb09fff7244aec9decb48a20ff7563",
              "IPY_MODEL_fab7b04b186740f8b45f7d427c179ce7",
              "IPY_MODEL_f120f524744245ae9b59c24d43b3cdb2"
            ],
            "layout": "IPY_MODEL_4d32b74a1c2b4fc093a71c02ff387f91"
          }
        },
        "7adb09fff7244aec9decb48a20ff7563": {
          "model_module": "@jupyter-widgets/controls",
          "model_name": "HTMLModel",
          "model_module_version": "1.5.0",
          "state": {
            "_dom_classes": [],
            "_model_module": "@jupyter-widgets/controls",
            "_model_module_version": "1.5.0",
            "_model_name": "HTMLModel",
            "_view_count": null,
            "_view_module": "@jupyter-widgets/controls",
            "_view_module_version": "1.5.0",
            "_view_name": "HTMLView",
            "description": "",
            "description_tooltip": null,
            "layout": "IPY_MODEL_43efa5bc25974c1997fb0137567a87f0",
            "placeholder": "​",
            "style": "IPY_MODEL_46e23e553bd04e70941561cb9202673b",
            "value": "model.safetensors: 100%"
          }
        },
        "fab7b04b186740f8b45f7d427c179ce7": {
          "model_module": "@jupyter-widgets/controls",
          "model_name": "FloatProgressModel",
          "model_module_version": "1.5.0",
          "state": {
            "_dom_classes": [],
            "_model_module": "@jupyter-widgets/controls",
            "_model_module_version": "1.5.0",
            "_model_name": "FloatProgressModel",
            "_view_count": null,
            "_view_module": "@jupyter-widgets/controls",
            "_view_module_version": "1.5.0",
            "_view_name": "ProgressView",
            "bar_style": "success",
            "description": "",
            "description_tooltip": null,
            "layout": "IPY_MODEL_6c6e8a68636f4872bc38aab4a6a82f3e",
            "max": 440449768,
            "min": 0,
            "orientation": "horizontal",
            "style": "IPY_MODEL_323f08c955904db5860155d545aebb32",
            "value": 440449768
          }
        },
        "f120f524744245ae9b59c24d43b3cdb2": {
          "model_module": "@jupyter-widgets/controls",
          "model_name": "HTMLModel",
          "model_module_version": "1.5.0",
          "state": {
            "_dom_classes": [],
            "_model_module": "@jupyter-widgets/controls",
            "_model_module_version": "1.5.0",
            "_model_name": "HTMLModel",
            "_view_count": null,
            "_view_module": "@jupyter-widgets/controls",
            "_view_module_version": "1.5.0",
            "_view_name": "HTMLView",
            "description": "",
            "description_tooltip": null,
            "layout": "IPY_MODEL_d47b313d402e43a1aa403471464115de",
            "placeholder": "​",
            "style": "IPY_MODEL_df458cd99ee24d8cbdcb126c5235ca61",
            "value": " 440M/440M [00:06&lt;00:00, 65.8MB/s]"
          }
        },
        "4d32b74a1c2b4fc093a71c02ff387f91": {
          "model_module": "@jupyter-widgets/base",
          "model_name": "LayoutModel",
          "model_module_version": "1.2.0",
          "state": {
            "_model_module": "@jupyter-widgets/base",
            "_model_module_version": "1.2.0",
            "_model_name": "LayoutModel",
            "_view_count": null,
            "_view_module": "@jupyter-widgets/base",
            "_view_module_version": "1.2.0",
            "_view_name": "LayoutView",
            "align_content": null,
            "align_items": null,
            "align_self": null,
            "border": null,
            "bottom": null,
            "display": null,
            "flex": null,
            "flex_flow": null,
            "grid_area": null,
            "grid_auto_columns": null,
            "grid_auto_flow": null,
            "grid_auto_rows": null,
            "grid_column": null,
            "grid_gap": null,
            "grid_row": null,
            "grid_template_areas": null,
            "grid_template_columns": null,
            "grid_template_rows": null,
            "height": null,
            "justify_content": null,
            "justify_items": null,
            "left": null,
            "margin": null,
            "max_height": null,
            "max_width": null,
            "min_height": null,
            "min_width": null,
            "object_fit": null,
            "object_position": null,
            "order": null,
            "overflow": null,
            "overflow_x": null,
            "overflow_y": null,
            "padding": null,
            "right": null,
            "top": null,
            "visibility": null,
            "width": null
          }
        },
        "43efa5bc25974c1997fb0137567a87f0": {
          "model_module": "@jupyter-widgets/base",
          "model_name": "LayoutModel",
          "model_module_version": "1.2.0",
          "state": {
            "_model_module": "@jupyter-widgets/base",
            "_model_module_version": "1.2.0",
            "_model_name": "LayoutModel",
            "_view_count": null,
            "_view_module": "@jupyter-widgets/base",
            "_view_module_version": "1.2.0",
            "_view_name": "LayoutView",
            "align_content": null,
            "align_items": null,
            "align_self": null,
            "border": null,
            "bottom": null,
            "display": null,
            "flex": null,
            "flex_flow": null,
            "grid_area": null,
            "grid_auto_columns": null,
            "grid_auto_flow": null,
            "grid_auto_rows": null,
            "grid_column": null,
            "grid_gap": null,
            "grid_row": null,
            "grid_template_areas": null,
            "grid_template_columns": null,
            "grid_template_rows": null,
            "height": null,
            "justify_content": null,
            "justify_items": null,
            "left": null,
            "margin": null,
            "max_height": null,
            "max_width": null,
            "min_height": null,
            "min_width": null,
            "object_fit": null,
            "object_position": null,
            "order": null,
            "overflow": null,
            "overflow_x": null,
            "overflow_y": null,
            "padding": null,
            "right": null,
            "top": null,
            "visibility": null,
            "width": null
          }
        },
        "46e23e553bd04e70941561cb9202673b": {
          "model_module": "@jupyter-widgets/controls",
          "model_name": "DescriptionStyleModel",
          "model_module_version": "1.5.0",
          "state": {
            "_model_module": "@jupyter-widgets/controls",
            "_model_module_version": "1.5.0",
            "_model_name": "DescriptionStyleModel",
            "_view_count": null,
            "_view_module": "@jupyter-widgets/base",
            "_view_module_version": "1.2.0",
            "_view_name": "StyleView",
            "description_width": ""
          }
        },
        "6c6e8a68636f4872bc38aab4a6a82f3e": {
          "model_module": "@jupyter-widgets/base",
          "model_name": "LayoutModel",
          "model_module_version": "1.2.0",
          "state": {
            "_model_module": "@jupyter-widgets/base",
            "_model_module_version": "1.2.0",
            "_model_name": "LayoutModel",
            "_view_count": null,
            "_view_module": "@jupyter-widgets/base",
            "_view_module_version": "1.2.0",
            "_view_name": "LayoutView",
            "align_content": null,
            "align_items": null,
            "align_self": null,
            "border": null,
            "bottom": null,
            "display": null,
            "flex": null,
            "flex_flow": null,
            "grid_area": null,
            "grid_auto_columns": null,
            "grid_auto_flow": null,
            "grid_auto_rows": null,
            "grid_column": null,
            "grid_gap": null,
            "grid_row": null,
            "grid_template_areas": null,
            "grid_template_columns": null,
            "grid_template_rows": null,
            "height": null,
            "justify_content": null,
            "justify_items": null,
            "left": null,
            "margin": null,
            "max_height": null,
            "max_width": null,
            "min_height": null,
            "min_width": null,
            "object_fit": null,
            "object_position": null,
            "order": null,
            "overflow": null,
            "overflow_x": null,
            "overflow_y": null,
            "padding": null,
            "right": null,
            "top": null,
            "visibility": null,
            "width": null
          }
        },
        "323f08c955904db5860155d545aebb32": {
          "model_module": "@jupyter-widgets/controls",
          "model_name": "ProgressStyleModel",
          "model_module_version": "1.5.0",
          "state": {
            "_model_module": "@jupyter-widgets/controls",
            "_model_module_version": "1.5.0",
            "_model_name": "ProgressStyleModel",
            "_view_count": null,
            "_view_module": "@jupyter-widgets/base",
            "_view_module_version": "1.2.0",
            "_view_name": "StyleView",
            "bar_color": null,
            "description_width": ""
          }
        },
        "d47b313d402e43a1aa403471464115de": {
          "model_module": "@jupyter-widgets/base",
          "model_name": "LayoutModel",
          "model_module_version": "1.2.0",
          "state": {
            "_model_module": "@jupyter-widgets/base",
            "_model_module_version": "1.2.0",
            "_model_name": "LayoutModel",
            "_view_count": null,
            "_view_module": "@jupyter-widgets/base",
            "_view_module_version": "1.2.0",
            "_view_name": "LayoutView",
            "align_content": null,
            "align_items": null,
            "align_self": null,
            "border": null,
            "bottom": null,
            "display": null,
            "flex": null,
            "flex_flow": null,
            "grid_area": null,
            "grid_auto_columns": null,
            "grid_auto_flow": null,
            "grid_auto_rows": null,
            "grid_column": null,
            "grid_gap": null,
            "grid_row": null,
            "grid_template_areas": null,
            "grid_template_columns": null,
            "grid_template_rows": null,
            "height": null,
            "justify_content": null,
            "justify_items": null,
            "left": null,
            "margin": null,
            "max_height": null,
            "max_width": null,
            "min_height": null,
            "min_width": null,
            "object_fit": null,
            "object_position": null,
            "order": null,
            "overflow": null,
            "overflow_x": null,
            "overflow_y": null,
            "padding": null,
            "right": null,
            "top": null,
            "visibility": null,
            "width": null
          }
        },
        "df458cd99ee24d8cbdcb126c5235ca61": {
          "model_module": "@jupyter-widgets/controls",
          "model_name": "DescriptionStyleModel",
          "model_module_version": "1.5.0",
          "state": {
            "_model_module": "@jupyter-widgets/controls",
            "_model_module_version": "1.5.0",
            "_model_name": "DescriptionStyleModel",
            "_view_count": null,
            "_view_module": "@jupyter-widgets/base",
            "_view_module_version": "1.2.0",
            "_view_name": "StyleView",
            "description_width": ""
          }
        }
      }
    }
  },
  "nbformat": 4,
  "nbformat_minor": 0
}